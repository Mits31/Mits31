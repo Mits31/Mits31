{
 "cells": [
  {
   "cell_type": "markdown",
   "source": [
    "# CLASSIFYING INSURANCE FRAUD THROUGH PREDICTIVE MODELLING"
   ],
   "metadata": {
    "collapsed": false
   }
  },
  {
   "cell_type": "markdown",
   "source": [
    "## Table of Contents\n",
    "\n",
    "1. Importing Libraries\n",
    "2. Importing Dataset\n",
    "3. Initial Investigation / EDA\n",
    "4. Data Cleaning/Further EDA\n",
    "5. Splitting Dependent and Independent Variables\n",
    "6. Train Test Split\n",
    "7. Feature Engineering\n",
    "8. Baseline Models\n",
    "9. Down sampling\n",
    "10. Models with Down sampling Applied\n",
    "11. Upsampling with SMOTE\n",
    "12. Models with Upsampling Applied\n",
    "13. Feature Importance\n",
    "14. Evaluating Models\n",
    "15. Ensembling\n",
    "16. Stacking\n",
    "17. Evaluating Models with Ensembling and Stacking\n",
    "18. Evaluating Best Models on Test Data"
   ],
   "metadata": {
    "collapsed": false
   }
  },
  {
   "cell_type": "markdown",
   "source": [
    "## 1. IMPORTING LIBRARIES"
   ],
   "metadata": {
    "collapsed": false
   }
  },
  {
   "cell_type": "code",
   "execution_count": 110,
   "metadata": {
    "collapsed": true
   },
   "outputs": [],
   "source": [
    "import numpy as np\n",
    "import seaborn as sns\n",
    "import matplotlib.pyplot as plt\n",
    "import pandas as pd\n",
    "\n",
    "from sklearn.linear_model import LogisticRegression\n",
    "from sklearn.tree import DecisionTreeClassifier\n",
    "from sklearn.model_selection import train_test_split, GridSearchCV\n",
    "from sklearn.metrics import confusion_matrix\n",
    "from sklearn.ensemble import RandomForestClassifier\n",
    "from sklearn.metrics\\\n",
    "import accuracy_score as accuracy,\\\n",
    "        recall_score as recall,\\\n",
    "        precision_score as precision,\\\n",
    "        f1_score as f1\n",
    "from imblearn.over_sampling import SMOTE\n",
    "from sklearn.metrics import roc_auc_score\n",
    "from sklearn.model_selection import cross_validate\n",
    "from sklearn import metrics\n",
    "from sklearn.utils import resample\n",
    "from sklearn.datasets import make_classification\n",
    "from sklearn.ensemble import StackingClassifier"
   ]
  },
  {
   "cell_type": "markdown",
   "source": [
    "## 2. IMPORTING DATASET"
   ],
   "metadata": {
    "collapsed": false
   }
  },
  {
   "cell_type": "code",
   "execution_count": 2,
   "outputs": [],
   "source": [
    "df = pd.read_csv('fraud_oracle.csv', encoding = 'utf-8', encoding_errors='ignore')"
   ],
   "metadata": {
    "collapsed": false
   }
  },
  {
   "cell_type": "markdown",
   "source": [
    "## 3. INITAL INVESTIGATION / EDA"
   ],
   "metadata": {
    "collapsed": false
   }
  },
  {
   "cell_type": "code",
   "execution_count": 3,
   "outputs": [
    {
     "data": {
      "text/plain": "  Month  WeekOfMonth  DayOfWeek    Make AccidentArea DayOfWeekClaimed  \\\n0   Dec            5  Wednesday   Honda        Urban          Tuesday   \n1   Jan            3  Wednesday   Honda        Urban           Monday   \n2   Oct            5     Friday   Honda        Urban         Thursday   \n3   Jun            2   Saturday  Toyota        Rural           Friday   \n4   Jan            5     Monday   Honda        Urban          Tuesday   \n\n  MonthClaimed  WeekOfMonthClaimed     Sex MaritalStatus  ...  AgeOfVehicle  \\\n0          Jan                   1  Female        Single  ...       3 years   \n1          Jan                   4    Male        Single  ...       6 years   \n2          Nov                   2    Male       Married  ...       7 years   \n3          Jul                   1    Male       Married  ...   more than 7   \n4          Feb                   2  Female        Single  ...       5 years   \n\n  AgeOfPolicyHolder PoliceReportFiled WitnessPresent AgentType  \\\n0          26 to 30                No             No  External   \n1          31 to 35               Yes             No  External   \n2          41 to 50                No             No  External   \n3          51 to 65               Yes             No  External   \n4          31 to 35                No             No  External   \n\n   NumberOfSuppliments  AddressChange_Claim  NumberOfCars  Year  BasePolicy  \n0                 none               1 year        3 to 4  1994   Liability  \n1                 none            no change     1 vehicle  1994   Collision  \n2                 none            no change     1 vehicle  1994   Collision  \n3          more than 5            no change     1 vehicle  1994   Liability  \n4                 none            no change     1 vehicle  1994   Collision  \n\n[5 rows x 33 columns]",
      "text/html": "<div>\n<style scoped>\n    .dataframe tbody tr th:only-of-type {\n        vertical-align: middle;\n    }\n\n    .dataframe tbody tr th {\n        vertical-align: top;\n    }\n\n    .dataframe thead th {\n        text-align: right;\n    }\n</style>\n<table border=\"1\" class=\"dataframe\">\n  <thead>\n    <tr style=\"text-align: right;\">\n      <th></th>\n      <th>Month</th>\n      <th>WeekOfMonth</th>\n      <th>DayOfWeek</th>\n      <th>Make</th>\n      <th>AccidentArea</th>\n      <th>DayOfWeekClaimed</th>\n      <th>MonthClaimed</th>\n      <th>WeekOfMonthClaimed</th>\n      <th>Sex</th>\n      <th>MaritalStatus</th>\n      <th>...</th>\n      <th>AgeOfVehicle</th>\n      <th>AgeOfPolicyHolder</th>\n      <th>PoliceReportFiled</th>\n      <th>WitnessPresent</th>\n      <th>AgentType</th>\n      <th>NumberOfSuppliments</th>\n      <th>AddressChange_Claim</th>\n      <th>NumberOfCars</th>\n      <th>Year</th>\n      <th>BasePolicy</th>\n    </tr>\n  </thead>\n  <tbody>\n    <tr>\n      <th>0</th>\n      <td>Dec</td>\n      <td>5</td>\n      <td>Wednesday</td>\n      <td>Honda</td>\n      <td>Urban</td>\n      <td>Tuesday</td>\n      <td>Jan</td>\n      <td>1</td>\n      <td>Female</td>\n      <td>Single</td>\n      <td>...</td>\n      <td>3 years</td>\n      <td>26 to 30</td>\n      <td>No</td>\n      <td>No</td>\n      <td>External</td>\n      <td>none</td>\n      <td>1 year</td>\n      <td>3 to 4</td>\n      <td>1994</td>\n      <td>Liability</td>\n    </tr>\n    <tr>\n      <th>1</th>\n      <td>Jan</td>\n      <td>3</td>\n      <td>Wednesday</td>\n      <td>Honda</td>\n      <td>Urban</td>\n      <td>Monday</td>\n      <td>Jan</td>\n      <td>4</td>\n      <td>Male</td>\n      <td>Single</td>\n      <td>...</td>\n      <td>6 years</td>\n      <td>31 to 35</td>\n      <td>Yes</td>\n      <td>No</td>\n      <td>External</td>\n      <td>none</td>\n      <td>no change</td>\n      <td>1 vehicle</td>\n      <td>1994</td>\n      <td>Collision</td>\n    </tr>\n    <tr>\n      <th>2</th>\n      <td>Oct</td>\n      <td>5</td>\n      <td>Friday</td>\n      <td>Honda</td>\n      <td>Urban</td>\n      <td>Thursday</td>\n      <td>Nov</td>\n      <td>2</td>\n      <td>Male</td>\n      <td>Married</td>\n      <td>...</td>\n      <td>7 years</td>\n      <td>41 to 50</td>\n      <td>No</td>\n      <td>No</td>\n      <td>External</td>\n      <td>none</td>\n      <td>no change</td>\n      <td>1 vehicle</td>\n      <td>1994</td>\n      <td>Collision</td>\n    </tr>\n    <tr>\n      <th>3</th>\n      <td>Jun</td>\n      <td>2</td>\n      <td>Saturday</td>\n      <td>Toyota</td>\n      <td>Rural</td>\n      <td>Friday</td>\n      <td>Jul</td>\n      <td>1</td>\n      <td>Male</td>\n      <td>Married</td>\n      <td>...</td>\n      <td>more than 7</td>\n      <td>51 to 65</td>\n      <td>Yes</td>\n      <td>No</td>\n      <td>External</td>\n      <td>more than 5</td>\n      <td>no change</td>\n      <td>1 vehicle</td>\n      <td>1994</td>\n      <td>Liability</td>\n    </tr>\n    <tr>\n      <th>4</th>\n      <td>Jan</td>\n      <td>5</td>\n      <td>Monday</td>\n      <td>Honda</td>\n      <td>Urban</td>\n      <td>Tuesday</td>\n      <td>Feb</td>\n      <td>2</td>\n      <td>Female</td>\n      <td>Single</td>\n      <td>...</td>\n      <td>5 years</td>\n      <td>31 to 35</td>\n      <td>No</td>\n      <td>No</td>\n      <td>External</td>\n      <td>none</td>\n      <td>no change</td>\n      <td>1 vehicle</td>\n      <td>1994</td>\n      <td>Collision</td>\n    </tr>\n  </tbody>\n</table>\n<p>5 rows × 33 columns</p>\n</div>"
     },
     "execution_count": 3,
     "metadata": {},
     "output_type": "execute_result"
    }
   ],
   "source": [
    "df.head()"
   ],
   "metadata": {
    "collapsed": false
   }
  },
  {
   "cell_type": "code",
   "execution_count": 4,
   "outputs": [
    {
     "data": {
      "text/plain": "      Month  WeekOfMonth  DayOfWeek     Make AccidentArea DayOfWeekClaimed  \\\n15415   Nov            4     Friday   Toyota        Urban          Tuesday   \n15416   Nov            5   Thursday  Pontiac        Urban           Friday   \n15417   Nov            5   Thursday   Toyota        Rural           Friday   \n15418   Dec            1     Monday   Toyota        Urban         Thursday   \n15419   Dec            2  Wednesday   Toyota        Urban         Thursday   \n\n      MonthClaimed  WeekOfMonthClaimed     Sex MaritalStatus  ...  \\\n15415          Nov                   5    Male       Married  ...   \n15416          Dec                   1    Male       Married  ...   \n15417          Dec                   1    Male        Single  ...   \n15418          Dec                   2  Female       Married  ...   \n15419          Dec                   3    Male        Single  ...   \n\n       AgeOfVehicle AgeOfPolicyHolder PoliceReportFiled WitnessPresent  \\\n15415       6 years          31 to 35                No             No   \n15416       6 years          31 to 35                No             No   \n15417       5 years          26 to 30                No             No   \n15418       2 years          31 to 35                No             No   \n15419       5 years          26 to 30                No             No   \n\n      AgentType  NumberOfSuppliments  AddressChange_Claim  NumberOfCars  Year  \\\n15415  External                 none            no change     1 vehicle  1996   \n15416  External          more than 5            no change        3 to 4  1996   \n15417  External               1 to 2            no change     1 vehicle  1996   \n15418  External          more than 5            no change     1 vehicle  1996   \n15419  External               1 to 2            no change     1 vehicle  1996   \n\n       BasePolicy  \n15415   Collision  \n15416   Liability  \n15417   Collision  \n15418  All Perils  \n15419   Collision  \n\n[5 rows x 33 columns]",
      "text/html": "<div>\n<style scoped>\n    .dataframe tbody tr th:only-of-type {\n        vertical-align: middle;\n    }\n\n    .dataframe tbody tr th {\n        vertical-align: top;\n    }\n\n    .dataframe thead th {\n        text-align: right;\n    }\n</style>\n<table border=\"1\" class=\"dataframe\">\n  <thead>\n    <tr style=\"text-align: right;\">\n      <th></th>\n      <th>Month</th>\n      <th>WeekOfMonth</th>\n      <th>DayOfWeek</th>\n      <th>Make</th>\n      <th>AccidentArea</th>\n      <th>DayOfWeekClaimed</th>\n      <th>MonthClaimed</th>\n      <th>WeekOfMonthClaimed</th>\n      <th>Sex</th>\n      <th>MaritalStatus</th>\n      <th>...</th>\n      <th>AgeOfVehicle</th>\n      <th>AgeOfPolicyHolder</th>\n      <th>PoliceReportFiled</th>\n      <th>WitnessPresent</th>\n      <th>AgentType</th>\n      <th>NumberOfSuppliments</th>\n      <th>AddressChange_Claim</th>\n      <th>NumberOfCars</th>\n      <th>Year</th>\n      <th>BasePolicy</th>\n    </tr>\n  </thead>\n  <tbody>\n    <tr>\n      <th>15415</th>\n      <td>Nov</td>\n      <td>4</td>\n      <td>Friday</td>\n      <td>Toyota</td>\n      <td>Urban</td>\n      <td>Tuesday</td>\n      <td>Nov</td>\n      <td>5</td>\n      <td>Male</td>\n      <td>Married</td>\n      <td>...</td>\n      <td>6 years</td>\n      <td>31 to 35</td>\n      <td>No</td>\n      <td>No</td>\n      <td>External</td>\n      <td>none</td>\n      <td>no change</td>\n      <td>1 vehicle</td>\n      <td>1996</td>\n      <td>Collision</td>\n    </tr>\n    <tr>\n      <th>15416</th>\n      <td>Nov</td>\n      <td>5</td>\n      <td>Thursday</td>\n      <td>Pontiac</td>\n      <td>Urban</td>\n      <td>Friday</td>\n      <td>Dec</td>\n      <td>1</td>\n      <td>Male</td>\n      <td>Married</td>\n      <td>...</td>\n      <td>6 years</td>\n      <td>31 to 35</td>\n      <td>No</td>\n      <td>No</td>\n      <td>External</td>\n      <td>more than 5</td>\n      <td>no change</td>\n      <td>3 to 4</td>\n      <td>1996</td>\n      <td>Liability</td>\n    </tr>\n    <tr>\n      <th>15417</th>\n      <td>Nov</td>\n      <td>5</td>\n      <td>Thursday</td>\n      <td>Toyota</td>\n      <td>Rural</td>\n      <td>Friday</td>\n      <td>Dec</td>\n      <td>1</td>\n      <td>Male</td>\n      <td>Single</td>\n      <td>...</td>\n      <td>5 years</td>\n      <td>26 to 30</td>\n      <td>No</td>\n      <td>No</td>\n      <td>External</td>\n      <td>1 to 2</td>\n      <td>no change</td>\n      <td>1 vehicle</td>\n      <td>1996</td>\n      <td>Collision</td>\n    </tr>\n    <tr>\n      <th>15418</th>\n      <td>Dec</td>\n      <td>1</td>\n      <td>Monday</td>\n      <td>Toyota</td>\n      <td>Urban</td>\n      <td>Thursday</td>\n      <td>Dec</td>\n      <td>2</td>\n      <td>Female</td>\n      <td>Married</td>\n      <td>...</td>\n      <td>2 years</td>\n      <td>31 to 35</td>\n      <td>No</td>\n      <td>No</td>\n      <td>External</td>\n      <td>more than 5</td>\n      <td>no change</td>\n      <td>1 vehicle</td>\n      <td>1996</td>\n      <td>All Perils</td>\n    </tr>\n    <tr>\n      <th>15419</th>\n      <td>Dec</td>\n      <td>2</td>\n      <td>Wednesday</td>\n      <td>Toyota</td>\n      <td>Urban</td>\n      <td>Thursday</td>\n      <td>Dec</td>\n      <td>3</td>\n      <td>Male</td>\n      <td>Single</td>\n      <td>...</td>\n      <td>5 years</td>\n      <td>26 to 30</td>\n      <td>No</td>\n      <td>No</td>\n      <td>External</td>\n      <td>1 to 2</td>\n      <td>no change</td>\n      <td>1 vehicle</td>\n      <td>1996</td>\n      <td>Collision</td>\n    </tr>\n  </tbody>\n</table>\n<p>5 rows × 33 columns</p>\n</div>"
     },
     "execution_count": 4,
     "metadata": {},
     "output_type": "execute_result"
    }
   ],
   "source": [
    "df.tail()"
   ],
   "metadata": {
    "collapsed": false
   }
  },
  {
   "cell_type": "code",
   "execution_count": 5,
   "outputs": [
    {
     "name": "stdout",
     "output_type": "stream",
     "text": [
      "(15420, 33)\n",
      "Observations in dataset is 15420\n",
      "Features in dataset is 33\n"
     ]
    }
   ],
   "source": [
    "print(df.shape)\n",
    "print(\"Observations in dataset is \" + str(df.shape[0]) )\n",
    "print(\"Features in dataset is \" + str(df.shape[1]) )"
   ],
   "metadata": {
    "collapsed": false
   }
  },
  {
   "cell_type": "markdown",
   "source": [
    "#### Dataset contains 15,420 observations + 33 feature columns"
   ],
   "metadata": {
    "collapsed": false
   }
  },
  {
   "cell_type": "code",
   "execution_count": 6,
   "outputs": [
    {
     "data": {
      "text/plain": "Month                   object\nWeekOfMonth              int64\nDayOfWeek               object\nMake                    object\nAccidentArea            object\nDayOfWeekClaimed        object\nMonthClaimed            object\nWeekOfMonthClaimed       int64\nSex                     object\nMaritalStatus           object\nAge                      int64\nFault                   object\nPolicyType              object\nVehicleCategory         object\nVehiclePrice            object\nFraudFound_P             int64\nPolicyNumber             int64\nRepNumber                int64\nDeductible               int64\nDriverRating             int64\nDays_Policy_Accident    object\nDays_Policy_Claim       object\nPastNumberOfClaims      object\nAgeOfVehicle            object\nAgeOfPolicyHolder       object\nPoliceReportFiled       object\nWitnessPresent          object\nAgentType               object\nNumberOfSuppliments     object\nAddressChange_Claim     object\nNumberOfCars            object\nYear                     int64\nBasePolicy              object\ndtype: object"
     },
     "execution_count": 6,
     "metadata": {},
     "output_type": "execute_result"
    }
   ],
   "source": [
    "df.dtypes"
   ],
   "metadata": {
    "collapsed": false
   }
  },
  {
   "cell_type": "code",
   "execution_count": 7,
   "outputs": [
    {
     "data": {
      "text/plain": "object    24\nint64      9\ndtype: int64"
     },
     "execution_count": 7,
     "metadata": {},
     "output_type": "execute_result"
    }
   ],
   "source": [
    "df.dtypes.value_counts()"
   ],
   "metadata": {
    "collapsed": false
   }
  },
  {
   "cell_type": "markdown",
   "source": [
    "#### Dataset consists of 24 object data types and 9 integer data types"
   ],
   "metadata": {
    "collapsed": false
   }
  },
  {
   "cell_type": "code",
   "execution_count": 8,
   "outputs": [
    {
     "name": "stdout",
     "output_type": "stream",
     "text": [
      "<class 'pandas.core.frame.DataFrame'>\n",
      "RangeIndex: 15420 entries, 0 to 15419\n",
      "Data columns (total 33 columns):\n",
      " #   Column                Non-Null Count  Dtype \n",
      "---  ------                --------------  ----- \n",
      " 0   Month                 15420 non-null  object\n",
      " 1   WeekOfMonth           15420 non-null  int64 \n",
      " 2   DayOfWeek             15420 non-null  object\n",
      " 3   Make                  15420 non-null  object\n",
      " 4   AccidentArea          15420 non-null  object\n",
      " 5   DayOfWeekClaimed      15420 non-null  object\n",
      " 6   MonthClaimed          15420 non-null  object\n",
      " 7   WeekOfMonthClaimed    15420 non-null  int64 \n",
      " 8   Sex                   15420 non-null  object\n",
      " 9   MaritalStatus         15420 non-null  object\n",
      " 10  Age                   15420 non-null  int64 \n",
      " 11  Fault                 15420 non-null  object\n",
      " 12  PolicyType            15420 non-null  object\n",
      " 13  VehicleCategory       15420 non-null  object\n",
      " 14  VehiclePrice          15420 non-null  object\n",
      " 15  FraudFound_P          15420 non-null  int64 \n",
      " 16  PolicyNumber          15420 non-null  int64 \n",
      " 17  RepNumber             15420 non-null  int64 \n",
      " 18  Deductible            15420 non-null  int64 \n",
      " 19  DriverRating          15420 non-null  int64 \n",
      " 20  Days_Policy_Accident  15420 non-null  object\n",
      " 21  Days_Policy_Claim     15420 non-null  object\n",
      " 22  PastNumberOfClaims    15420 non-null  object\n",
      " 23  AgeOfVehicle          15420 non-null  object\n",
      " 24  AgeOfPolicyHolder     15420 non-null  object\n",
      " 25  PoliceReportFiled     15420 non-null  object\n",
      " 26  WitnessPresent        15420 non-null  object\n",
      " 27  AgentType             15420 non-null  object\n",
      " 28  NumberOfSuppliments   15420 non-null  object\n",
      " 29  AddressChange_Claim   15420 non-null  object\n",
      " 30  NumberOfCars          15420 non-null  object\n",
      " 31  Year                  15420 non-null  int64 \n",
      " 32  BasePolicy            15420 non-null  object\n",
      "dtypes: int64(9), object(24)\n",
      "memory usage: 3.9+ MB\n"
     ]
    }
   ],
   "source": [
    "df.info()"
   ],
   "metadata": {
    "collapsed": false
   }
  },
  {
   "cell_type": "markdown",
   "source": [
    "##### Same result with data types above. Upon inspection no nulls in dataset.\n",
    "##### Let's confirm this below"
   ],
   "metadata": {
    "collapsed": false
   }
  },
  {
   "cell_type": "code",
   "execution_count": 9,
   "outputs": [
    {
     "data": {
      "text/plain": "Month                   0\nWeekOfMonth             0\nDayOfWeek               0\nMake                    0\nAccidentArea            0\nDayOfWeekClaimed        0\nMonthClaimed            0\nWeekOfMonthClaimed      0\nSex                     0\nMaritalStatus           0\nAge                     0\nFault                   0\nPolicyType              0\nVehicleCategory         0\nVehiclePrice            0\nFraudFound_P            0\nPolicyNumber            0\nRepNumber               0\nDeductible              0\nDriverRating            0\nDays_Policy_Accident    0\nDays_Policy_Claim       0\nPastNumberOfClaims      0\nAgeOfVehicle            0\nAgeOfPolicyHolder       0\nPoliceReportFiled       0\nWitnessPresent          0\nAgentType               0\nNumberOfSuppliments     0\nAddressChange_Claim     0\nNumberOfCars            0\nYear                    0\nBasePolicy              0\ndtype: int64"
     },
     "execution_count": 9,
     "metadata": {},
     "output_type": "execute_result"
    }
   ],
   "source": [
    "df.isnull().sum()"
   ],
   "metadata": {
    "collapsed": false
   }
  },
  {
   "cell_type": "markdown",
   "source": [
    "##### Confirmed that no nulls are present in the dataset"
   ],
   "metadata": {
    "collapsed": false
   }
  },
  {
   "cell_type": "code",
   "execution_count": 10,
   "outputs": [
    {
     "data": {
      "text/plain": "        Month   WeekOfMonth DayOfWeek     Make AccidentArea DayOfWeekClaimed  \\\ncount   15420  15420.000000     15420    15420        15420            15420   \nunique     12           NaN         7       19            2                8   \ntop       Jan           NaN    Monday  Pontiac        Urban           Monday   \nfreq     1411           NaN      2616     3837        13822             3757   \nmean      NaN      2.788586       NaN      NaN          NaN              NaN   \nstd       NaN      1.287585       NaN      NaN          NaN              NaN   \nmin       NaN      1.000000       NaN      NaN          NaN              NaN   \n25%       NaN      2.000000       NaN      NaN          NaN              NaN   \n50%       NaN      3.000000       NaN      NaN          NaN              NaN   \n75%       NaN      4.000000       NaN      NaN          NaN              NaN   \nmax       NaN      5.000000       NaN      NaN          NaN              NaN   \n\n       MonthClaimed  WeekOfMonthClaimed    Sex MaritalStatus  ...  \\\ncount         15420        15420.000000  15420         15420  ...   \nunique           13                 NaN      2             4  ...   \ntop             Jan                 NaN   Male       Married  ...   \nfreq           1446                 NaN  13000         10625  ...   \nmean            NaN            2.693969    NaN           NaN  ...   \nstd             NaN            1.259115    NaN           NaN  ...   \nmin             NaN            1.000000    NaN           NaN  ...   \n25%             NaN            2.000000    NaN           NaN  ...   \n50%             NaN            3.000000    NaN           NaN  ...   \n75%             NaN            4.000000    NaN           NaN  ...   \nmax             NaN            5.000000    NaN           NaN  ...   \n\n        AgeOfVehicle AgeOfPolicyHolder PoliceReportFiled WitnessPresent  \\\ncount          15420             15420             15420          15420   \nunique             8                 9                 2              2   \ntop          7 years          31 to 35                No             No   \nfreq            5807              5593             14992          15333   \nmean             NaN               NaN               NaN            NaN   \nstd              NaN               NaN               NaN            NaN   \nmin              NaN               NaN               NaN            NaN   \n25%              NaN               NaN               NaN            NaN   \n50%              NaN               NaN               NaN            NaN   \n75%              NaN               NaN               NaN            NaN   \nmax              NaN               NaN               NaN            NaN   \n\n       AgentType  NumberOfSuppliments  AddressChange_Claim  NumberOfCars  \\\ncount      15420                15420                15420         15420   \nunique         2                    4                    5             5   \ntop     External                 none            no change     1 vehicle   \nfreq       15179                 7047                14324         14316   \nmean         NaN                  NaN                  NaN           NaN   \nstd          NaN                  NaN                  NaN           NaN   \nmin          NaN                  NaN                  NaN           NaN   \n25%          NaN                  NaN                  NaN           NaN   \n50%          NaN                  NaN                  NaN           NaN   \n75%          NaN                  NaN                  NaN           NaN   \nmax          NaN                  NaN                  NaN           NaN   \n\n                Year  BasePolicy  \ncount   15420.000000       15420  \nunique           NaN           3  \ntop              NaN   Collision  \nfreq             NaN        5962  \nmean     1994.866472         NaN  \nstd         0.803313         NaN  \nmin      1994.000000         NaN  \n25%      1994.000000         NaN  \n50%      1995.000000         NaN  \n75%      1996.000000         NaN  \nmax      1996.000000         NaN  \n\n[11 rows x 33 columns]",
      "text/html": "<div>\n<style scoped>\n    .dataframe tbody tr th:only-of-type {\n        vertical-align: middle;\n    }\n\n    .dataframe tbody tr th {\n        vertical-align: top;\n    }\n\n    .dataframe thead th {\n        text-align: right;\n    }\n</style>\n<table border=\"1\" class=\"dataframe\">\n  <thead>\n    <tr style=\"text-align: right;\">\n      <th></th>\n      <th>Month</th>\n      <th>WeekOfMonth</th>\n      <th>DayOfWeek</th>\n      <th>Make</th>\n      <th>AccidentArea</th>\n      <th>DayOfWeekClaimed</th>\n      <th>MonthClaimed</th>\n      <th>WeekOfMonthClaimed</th>\n      <th>Sex</th>\n      <th>MaritalStatus</th>\n      <th>...</th>\n      <th>AgeOfVehicle</th>\n      <th>AgeOfPolicyHolder</th>\n      <th>PoliceReportFiled</th>\n      <th>WitnessPresent</th>\n      <th>AgentType</th>\n      <th>NumberOfSuppliments</th>\n      <th>AddressChange_Claim</th>\n      <th>NumberOfCars</th>\n      <th>Year</th>\n      <th>BasePolicy</th>\n    </tr>\n  </thead>\n  <tbody>\n    <tr>\n      <th>count</th>\n      <td>15420</td>\n      <td>15420.000000</td>\n      <td>15420</td>\n      <td>15420</td>\n      <td>15420</td>\n      <td>15420</td>\n      <td>15420</td>\n      <td>15420.000000</td>\n      <td>15420</td>\n      <td>15420</td>\n      <td>...</td>\n      <td>15420</td>\n      <td>15420</td>\n      <td>15420</td>\n      <td>15420</td>\n      <td>15420</td>\n      <td>15420</td>\n      <td>15420</td>\n      <td>15420</td>\n      <td>15420.000000</td>\n      <td>15420</td>\n    </tr>\n    <tr>\n      <th>unique</th>\n      <td>12</td>\n      <td>NaN</td>\n      <td>7</td>\n      <td>19</td>\n      <td>2</td>\n      <td>8</td>\n      <td>13</td>\n      <td>NaN</td>\n      <td>2</td>\n      <td>4</td>\n      <td>...</td>\n      <td>8</td>\n      <td>9</td>\n      <td>2</td>\n      <td>2</td>\n      <td>2</td>\n      <td>4</td>\n      <td>5</td>\n      <td>5</td>\n      <td>NaN</td>\n      <td>3</td>\n    </tr>\n    <tr>\n      <th>top</th>\n      <td>Jan</td>\n      <td>NaN</td>\n      <td>Monday</td>\n      <td>Pontiac</td>\n      <td>Urban</td>\n      <td>Monday</td>\n      <td>Jan</td>\n      <td>NaN</td>\n      <td>Male</td>\n      <td>Married</td>\n      <td>...</td>\n      <td>7 years</td>\n      <td>31 to 35</td>\n      <td>No</td>\n      <td>No</td>\n      <td>External</td>\n      <td>none</td>\n      <td>no change</td>\n      <td>1 vehicle</td>\n      <td>NaN</td>\n      <td>Collision</td>\n    </tr>\n    <tr>\n      <th>freq</th>\n      <td>1411</td>\n      <td>NaN</td>\n      <td>2616</td>\n      <td>3837</td>\n      <td>13822</td>\n      <td>3757</td>\n      <td>1446</td>\n      <td>NaN</td>\n      <td>13000</td>\n      <td>10625</td>\n      <td>...</td>\n      <td>5807</td>\n      <td>5593</td>\n      <td>14992</td>\n      <td>15333</td>\n      <td>15179</td>\n      <td>7047</td>\n      <td>14324</td>\n      <td>14316</td>\n      <td>NaN</td>\n      <td>5962</td>\n    </tr>\n    <tr>\n      <th>mean</th>\n      <td>NaN</td>\n      <td>2.788586</td>\n      <td>NaN</td>\n      <td>NaN</td>\n      <td>NaN</td>\n      <td>NaN</td>\n      <td>NaN</td>\n      <td>2.693969</td>\n      <td>NaN</td>\n      <td>NaN</td>\n      <td>...</td>\n      <td>NaN</td>\n      <td>NaN</td>\n      <td>NaN</td>\n      <td>NaN</td>\n      <td>NaN</td>\n      <td>NaN</td>\n      <td>NaN</td>\n      <td>NaN</td>\n      <td>1994.866472</td>\n      <td>NaN</td>\n    </tr>\n    <tr>\n      <th>std</th>\n      <td>NaN</td>\n      <td>1.287585</td>\n      <td>NaN</td>\n      <td>NaN</td>\n      <td>NaN</td>\n      <td>NaN</td>\n      <td>NaN</td>\n      <td>1.259115</td>\n      <td>NaN</td>\n      <td>NaN</td>\n      <td>...</td>\n      <td>NaN</td>\n      <td>NaN</td>\n      <td>NaN</td>\n      <td>NaN</td>\n      <td>NaN</td>\n      <td>NaN</td>\n      <td>NaN</td>\n      <td>NaN</td>\n      <td>0.803313</td>\n      <td>NaN</td>\n    </tr>\n    <tr>\n      <th>min</th>\n      <td>NaN</td>\n      <td>1.000000</td>\n      <td>NaN</td>\n      <td>NaN</td>\n      <td>NaN</td>\n      <td>NaN</td>\n      <td>NaN</td>\n      <td>1.000000</td>\n      <td>NaN</td>\n      <td>NaN</td>\n      <td>...</td>\n      <td>NaN</td>\n      <td>NaN</td>\n      <td>NaN</td>\n      <td>NaN</td>\n      <td>NaN</td>\n      <td>NaN</td>\n      <td>NaN</td>\n      <td>NaN</td>\n      <td>1994.000000</td>\n      <td>NaN</td>\n    </tr>\n    <tr>\n      <th>25%</th>\n      <td>NaN</td>\n      <td>2.000000</td>\n      <td>NaN</td>\n      <td>NaN</td>\n      <td>NaN</td>\n      <td>NaN</td>\n      <td>NaN</td>\n      <td>2.000000</td>\n      <td>NaN</td>\n      <td>NaN</td>\n      <td>...</td>\n      <td>NaN</td>\n      <td>NaN</td>\n      <td>NaN</td>\n      <td>NaN</td>\n      <td>NaN</td>\n      <td>NaN</td>\n      <td>NaN</td>\n      <td>NaN</td>\n      <td>1994.000000</td>\n      <td>NaN</td>\n    </tr>\n    <tr>\n      <th>50%</th>\n      <td>NaN</td>\n      <td>3.000000</td>\n      <td>NaN</td>\n      <td>NaN</td>\n      <td>NaN</td>\n      <td>NaN</td>\n      <td>NaN</td>\n      <td>3.000000</td>\n      <td>NaN</td>\n      <td>NaN</td>\n      <td>...</td>\n      <td>NaN</td>\n      <td>NaN</td>\n      <td>NaN</td>\n      <td>NaN</td>\n      <td>NaN</td>\n      <td>NaN</td>\n      <td>NaN</td>\n      <td>NaN</td>\n      <td>1995.000000</td>\n      <td>NaN</td>\n    </tr>\n    <tr>\n      <th>75%</th>\n      <td>NaN</td>\n      <td>4.000000</td>\n      <td>NaN</td>\n      <td>NaN</td>\n      <td>NaN</td>\n      <td>NaN</td>\n      <td>NaN</td>\n      <td>4.000000</td>\n      <td>NaN</td>\n      <td>NaN</td>\n      <td>...</td>\n      <td>NaN</td>\n      <td>NaN</td>\n      <td>NaN</td>\n      <td>NaN</td>\n      <td>NaN</td>\n      <td>NaN</td>\n      <td>NaN</td>\n      <td>NaN</td>\n      <td>1996.000000</td>\n      <td>NaN</td>\n    </tr>\n    <tr>\n      <th>max</th>\n      <td>NaN</td>\n      <td>5.000000</td>\n      <td>NaN</td>\n      <td>NaN</td>\n      <td>NaN</td>\n      <td>NaN</td>\n      <td>NaN</td>\n      <td>5.000000</td>\n      <td>NaN</td>\n      <td>NaN</td>\n      <td>...</td>\n      <td>NaN</td>\n      <td>NaN</td>\n      <td>NaN</td>\n      <td>NaN</td>\n      <td>NaN</td>\n      <td>NaN</td>\n      <td>NaN</td>\n      <td>NaN</td>\n      <td>1996.000000</td>\n      <td>NaN</td>\n    </tr>\n  </tbody>\n</table>\n<p>11 rows × 33 columns</p>\n</div>"
     },
     "execution_count": 10,
     "metadata": {},
     "output_type": "execute_result"
    }
   ],
   "source": [
    "df.describe(include= 'all')"
   ],
   "metadata": {
    "collapsed": false
   }
  },
  {
   "cell_type": "code",
   "execution_count": 11,
   "outputs": [
    {
     "data": {
      "text/plain": "array([21, 34, 47, 65, 27, 20, 36,  0, 30, 42, 71, 52, 28, 61, 38, 41, 32,\n       40, 63, 31, 45, 60, 39, 55, 35, 44, 72, 29, 37, 59, 49, 50, 26, 48,\n       64, 33, 74, 23, 25, 56, 16, 68, 18, 51, 22, 53, 46, 43, 57, 54, 69,\n       67, 19, 78, 77, 75, 80, 58, 73, 24, 76, 62, 79, 70, 17, 66],\n      dtype=int64)"
     },
     "execution_count": 11,
     "metadata": {},
     "output_type": "execute_result"
    }
   ],
   "source": [
    "df['Age'].unique()"
   ],
   "metadata": {
    "collapsed": false
   }
  },
  {
   "cell_type": "code",
   "execution_count": 12,
   "outputs": [
    {
     "data": {
      "text/plain": "Month                      12\nWeekOfMonth                 5\nDayOfWeek                   7\nMake                       19\nAccidentArea                2\nDayOfWeekClaimed            8\nMonthClaimed               13\nWeekOfMonthClaimed          5\nSex                         2\nMaritalStatus               4\nAge                        66\nFault                       2\nPolicyType                  9\nVehicleCategory             3\nVehiclePrice                6\nFraudFound_P                2\nPolicyNumber            15420\nRepNumber                  16\nDeductible                  4\nDriverRating                4\nDays_Policy_Accident        5\nDays_Policy_Claim           4\nPastNumberOfClaims          4\nAgeOfVehicle                8\nAgeOfPolicyHolder           9\nPoliceReportFiled           2\nWitnessPresent              2\nAgentType                   2\nNumberOfSuppliments         4\nAddressChange_Claim         5\nNumberOfCars                5\nYear                        3\nBasePolicy                  3\ndtype: int64"
     },
     "execution_count": 12,
     "metadata": {},
     "output_type": "execute_result"
    }
   ],
   "source": [
    "df.nunique()"
   ],
   "metadata": {
    "collapsed": false
   }
  },
  {
   "cell_type": "markdown",
   "source": [
    "### Observations\n",
    "   - 15,420 instances of Policy Number, should be able to drop this column\n",
    "   - Month Claimed has 13 occurances, where there seems to be a 0 in a single row. I can drop this also.\n",
    "   - Day of Week Claimed has 8 occurances, where I would expect 7, could be another 0. I can investigate further.\n",
    "   - Age also contains a 0 value by looking unique values."
   ],
   "metadata": {
    "collapsed": false
   }
  },
  {
   "cell_type": "markdown",
   "source": [
    "# 4. DATA CLEANING/FURTHER EDA"
   ],
   "metadata": {
    "collapsed": false
   }
  },
  {
   "cell_type": "code",
   "execution_count": 13,
   "outputs": [
    {
     "data": {
      "text/plain": "     Month  WeekOfMonth DayOfWeek   Make AccidentArea DayOfWeekClaimed  \\\n1516   Jul            2    Monday  Honda        Rural                0   \n\n     MonthClaimed  WeekOfMonthClaimed   Sex MaritalStatus  ...  AgeOfVehicle  \\\n1516            0                   1  Male        Single  ...           new   \n\n     AgeOfPolicyHolder PoliceReportFiled WitnessPresent AgentType  \\\n1516          16 to 17                No             No  External   \n\n      NumberOfSuppliments  AddressChange_Claim  NumberOfCars  Year  BasePolicy  \n1516                 none            no change     1 vehicle  1994  All Perils  \n\n[1 rows x 33 columns]",
      "text/html": "<div>\n<style scoped>\n    .dataframe tbody tr th:only-of-type {\n        vertical-align: middle;\n    }\n\n    .dataframe tbody tr th {\n        vertical-align: top;\n    }\n\n    .dataframe thead th {\n        text-align: right;\n    }\n</style>\n<table border=\"1\" class=\"dataframe\">\n  <thead>\n    <tr style=\"text-align: right;\">\n      <th></th>\n      <th>Month</th>\n      <th>WeekOfMonth</th>\n      <th>DayOfWeek</th>\n      <th>Make</th>\n      <th>AccidentArea</th>\n      <th>DayOfWeekClaimed</th>\n      <th>MonthClaimed</th>\n      <th>WeekOfMonthClaimed</th>\n      <th>Sex</th>\n      <th>MaritalStatus</th>\n      <th>...</th>\n      <th>AgeOfVehicle</th>\n      <th>AgeOfPolicyHolder</th>\n      <th>PoliceReportFiled</th>\n      <th>WitnessPresent</th>\n      <th>AgentType</th>\n      <th>NumberOfSuppliments</th>\n      <th>AddressChange_Claim</th>\n      <th>NumberOfCars</th>\n      <th>Year</th>\n      <th>BasePolicy</th>\n    </tr>\n  </thead>\n  <tbody>\n    <tr>\n      <th>1516</th>\n      <td>Jul</td>\n      <td>2</td>\n      <td>Monday</td>\n      <td>Honda</td>\n      <td>Rural</td>\n      <td>0</td>\n      <td>0</td>\n      <td>1</td>\n      <td>Male</td>\n      <td>Single</td>\n      <td>...</td>\n      <td>new</td>\n      <td>16 to 17</td>\n      <td>No</td>\n      <td>No</td>\n      <td>External</td>\n      <td>none</td>\n      <td>no change</td>\n      <td>1 vehicle</td>\n      <td>1994</td>\n      <td>All Perils</td>\n    </tr>\n  </tbody>\n</table>\n<p>1 rows × 33 columns</p>\n</div>"
     },
     "execution_count": 13,
     "metadata": {},
     "output_type": "execute_result"
    }
   ],
   "source": [
    "df[df['MonthClaimed']== '0']"
   ],
   "metadata": {
    "collapsed": false
   }
  },
  {
   "cell_type": "markdown",
   "source": [
    "Both Month Claimed, Age and DayofWeekClaimed is 0, so i will drop this row and check from additional occurances of DayOfWeekClaimed and Age being 0."
   ],
   "metadata": {
    "collapsed": false
   }
  },
  {
   "cell_type": "code",
   "execution_count": 14,
   "outputs": [],
   "source": [
    "df = df[df['MonthClaimed'] != '0']"
   ],
   "metadata": {
    "collapsed": false
   }
  },
  {
   "cell_type": "code",
   "execution_count": 15,
   "outputs": [
    {
     "data": {
      "text/plain": "Empty DataFrame\nColumns: [Month, WeekOfMonth, DayOfWeek, Make, AccidentArea, DayOfWeekClaimed, MonthClaimed, WeekOfMonthClaimed, Sex, MaritalStatus, Age, Fault, PolicyType, VehicleCategory, VehiclePrice, FraudFound_P, PolicyNumber, RepNumber, Deductible, DriverRating, Days_Policy_Accident, Days_Policy_Claim, PastNumberOfClaims, AgeOfVehicle, AgeOfPolicyHolder, PoliceReportFiled, WitnessPresent, AgentType, NumberOfSuppliments, AddressChange_Claim, NumberOfCars, Year, BasePolicy]\nIndex: []\n\n[0 rows x 33 columns]",
      "text/html": "<div>\n<style scoped>\n    .dataframe tbody tr th:only-of-type {\n        vertical-align: middle;\n    }\n\n    .dataframe tbody tr th {\n        vertical-align: top;\n    }\n\n    .dataframe thead th {\n        text-align: right;\n    }\n</style>\n<table border=\"1\" class=\"dataframe\">\n  <thead>\n    <tr style=\"text-align: right;\">\n      <th></th>\n      <th>Month</th>\n      <th>WeekOfMonth</th>\n      <th>DayOfWeek</th>\n      <th>Make</th>\n      <th>AccidentArea</th>\n      <th>DayOfWeekClaimed</th>\n      <th>MonthClaimed</th>\n      <th>WeekOfMonthClaimed</th>\n      <th>Sex</th>\n      <th>MaritalStatus</th>\n      <th>...</th>\n      <th>AgeOfVehicle</th>\n      <th>AgeOfPolicyHolder</th>\n      <th>PoliceReportFiled</th>\n      <th>WitnessPresent</th>\n      <th>AgentType</th>\n      <th>NumberOfSuppliments</th>\n      <th>AddressChange_Claim</th>\n      <th>NumberOfCars</th>\n      <th>Year</th>\n      <th>BasePolicy</th>\n    </tr>\n  </thead>\n  <tbody>\n  </tbody>\n</table>\n<p>0 rows × 33 columns</p>\n</div>"
     },
     "execution_count": 15,
     "metadata": {},
     "output_type": "execute_result"
    }
   ],
   "source": [
    "\n",
    "df[df['DayOfWeekClaimed']== '0']"
   ],
   "metadata": {
    "collapsed": false
   }
  },
  {
   "cell_type": "markdown",
   "source": [
    "No further instances of DayOfWeekClaimed being 0. I'll now check Age."
   ],
   "metadata": {
    "collapsed": false
   }
  },
  {
   "cell_type": "code",
   "execution_count": 16,
   "outputs": [
    {
     "data": {
      "text/plain": "      Month  WeekOfMonth DayOfWeek   Make AccidentArea DayOfWeekClaimed  \\\n7       Nov            1    Friday  Honda        Urban          Tuesday   \n13      Jan            5    Friday  Honda        Rural        Wednesday   \n28      Jul            1  Saturday  Honda        Urban          Tuesday   \n31      Mar            1    Sunday  Honda        Urban          Tuesday   \n58      May            1    Monday  Honda        Rural        Wednesday   \n...     ...          ...       ...    ...          ...              ...   \n15243   May            2   Tuesday  Honda        Urban           Monday   \n15262   Mar            3    Monday  Honda        Urban         Thursday   \n15274   Apr            3    Monday  Honda        Urban          Tuesday   \n15379   Jan            2   Tuesday  Honda        Urban         Thursday   \n15392   Jan            1  Thursday  Honda        Urban         Thursday   \n\n      MonthClaimed  WeekOfMonthClaimed   Sex MaritalStatus  ...  AgeOfVehicle  \\\n7              Mar                   4  Male        Single  ...           new   \n13             Feb                   1  Male        Single  ...           new   \n28             Sep                   4  Male        Single  ...           new   \n31             Mar                   2  Male        Single  ...           new   \n58             May                   4  Male        Single  ...           new   \n...            ...                 ...   ...           ...  ...           ...   \n15243          May                   3  Male        Single  ...           new   \n15262          Mar                   3  Male        Single  ...           new   \n15274          May                   1  Male        Single  ...           new   \n15379          Jan                   2  Male        Single  ...           new   \n15392          Jan                   2  Male        Single  ...           new   \n\n      AgeOfPolicyHolder PoliceReportFiled WitnessPresent AgentType  \\\n7              16 to 17                No             No  External   \n13             16 to 17                No             No  External   \n28             16 to 17                No             No  External   \n31             16 to 17                No             No  External   \n58             16 to 17                No             No  External   \n...                 ...               ...            ...       ...   \n15243          16 to 17                No             No  External   \n15262          16 to 17                No             No  External   \n15274          16 to 17                No             No  External   \n15379          16 to 17                No             No  External   \n15392          16 to 17                No             No  External   \n\n       NumberOfSuppliments  AddressChange_Claim  NumberOfCars  Year  \\\n7                     none            no change     1 vehicle  1994   \n13                    none            no change     1 vehicle  1994   \n28                    none            no change     1 vehicle  1994   \n31                    none            no change     1 vehicle  1994   \n58                    none            no change     1 vehicle  1994   \n...                    ...                  ...           ...   ...   \n15243                 none            no change     1 vehicle  1996   \n15262                 none            no change     1 vehicle  1996   \n15274                 none            no change     1 vehicle  1996   \n15379                 none               1 year     1 vehicle  1996   \n15392                 none            no change     1 vehicle  1996   \n\n       BasePolicy  \n7       Collision  \n13      Collision  \n28     All Perils  \n31      Collision  \n58      Liability  \n...           ...  \n15243   Liability  \n15262   Liability  \n15274   Collision  \n15379  All Perils  \n15392  All Perils  \n\n[319 rows x 33 columns]",
      "text/html": "<div>\n<style scoped>\n    .dataframe tbody tr th:only-of-type {\n        vertical-align: middle;\n    }\n\n    .dataframe tbody tr th {\n        vertical-align: top;\n    }\n\n    .dataframe thead th {\n        text-align: right;\n    }\n</style>\n<table border=\"1\" class=\"dataframe\">\n  <thead>\n    <tr style=\"text-align: right;\">\n      <th></th>\n      <th>Month</th>\n      <th>WeekOfMonth</th>\n      <th>DayOfWeek</th>\n      <th>Make</th>\n      <th>AccidentArea</th>\n      <th>DayOfWeekClaimed</th>\n      <th>MonthClaimed</th>\n      <th>WeekOfMonthClaimed</th>\n      <th>Sex</th>\n      <th>MaritalStatus</th>\n      <th>...</th>\n      <th>AgeOfVehicle</th>\n      <th>AgeOfPolicyHolder</th>\n      <th>PoliceReportFiled</th>\n      <th>WitnessPresent</th>\n      <th>AgentType</th>\n      <th>NumberOfSuppliments</th>\n      <th>AddressChange_Claim</th>\n      <th>NumberOfCars</th>\n      <th>Year</th>\n      <th>BasePolicy</th>\n    </tr>\n  </thead>\n  <tbody>\n    <tr>\n      <th>7</th>\n      <td>Nov</td>\n      <td>1</td>\n      <td>Friday</td>\n      <td>Honda</td>\n      <td>Urban</td>\n      <td>Tuesday</td>\n      <td>Mar</td>\n      <td>4</td>\n      <td>Male</td>\n      <td>Single</td>\n      <td>...</td>\n      <td>new</td>\n      <td>16 to 17</td>\n      <td>No</td>\n      <td>No</td>\n      <td>External</td>\n      <td>none</td>\n      <td>no change</td>\n      <td>1 vehicle</td>\n      <td>1994</td>\n      <td>Collision</td>\n    </tr>\n    <tr>\n      <th>13</th>\n      <td>Jan</td>\n      <td>5</td>\n      <td>Friday</td>\n      <td>Honda</td>\n      <td>Rural</td>\n      <td>Wednesday</td>\n      <td>Feb</td>\n      <td>1</td>\n      <td>Male</td>\n      <td>Single</td>\n      <td>...</td>\n      <td>new</td>\n      <td>16 to 17</td>\n      <td>No</td>\n      <td>No</td>\n      <td>External</td>\n      <td>none</td>\n      <td>no change</td>\n      <td>1 vehicle</td>\n      <td>1994</td>\n      <td>Collision</td>\n    </tr>\n    <tr>\n      <th>28</th>\n      <td>Jul</td>\n      <td>1</td>\n      <td>Saturday</td>\n      <td>Honda</td>\n      <td>Urban</td>\n      <td>Tuesday</td>\n      <td>Sep</td>\n      <td>4</td>\n      <td>Male</td>\n      <td>Single</td>\n      <td>...</td>\n      <td>new</td>\n      <td>16 to 17</td>\n      <td>No</td>\n      <td>No</td>\n      <td>External</td>\n      <td>none</td>\n      <td>no change</td>\n      <td>1 vehicle</td>\n      <td>1994</td>\n      <td>All Perils</td>\n    </tr>\n    <tr>\n      <th>31</th>\n      <td>Mar</td>\n      <td>1</td>\n      <td>Sunday</td>\n      <td>Honda</td>\n      <td>Urban</td>\n      <td>Tuesday</td>\n      <td>Mar</td>\n      <td>2</td>\n      <td>Male</td>\n      <td>Single</td>\n      <td>...</td>\n      <td>new</td>\n      <td>16 to 17</td>\n      <td>No</td>\n      <td>No</td>\n      <td>External</td>\n      <td>none</td>\n      <td>no change</td>\n      <td>1 vehicle</td>\n      <td>1994</td>\n      <td>Collision</td>\n    </tr>\n    <tr>\n      <th>58</th>\n      <td>May</td>\n      <td>1</td>\n      <td>Monday</td>\n      <td>Honda</td>\n      <td>Rural</td>\n      <td>Wednesday</td>\n      <td>May</td>\n      <td>4</td>\n      <td>Male</td>\n      <td>Single</td>\n      <td>...</td>\n      <td>new</td>\n      <td>16 to 17</td>\n      <td>No</td>\n      <td>No</td>\n      <td>External</td>\n      <td>none</td>\n      <td>no change</td>\n      <td>1 vehicle</td>\n      <td>1994</td>\n      <td>Liability</td>\n    </tr>\n    <tr>\n      <th>...</th>\n      <td>...</td>\n      <td>...</td>\n      <td>...</td>\n      <td>...</td>\n      <td>...</td>\n      <td>...</td>\n      <td>...</td>\n      <td>...</td>\n      <td>...</td>\n      <td>...</td>\n      <td>...</td>\n      <td>...</td>\n      <td>...</td>\n      <td>...</td>\n      <td>...</td>\n      <td>...</td>\n      <td>...</td>\n      <td>...</td>\n      <td>...</td>\n      <td>...</td>\n      <td>...</td>\n    </tr>\n    <tr>\n      <th>15243</th>\n      <td>May</td>\n      <td>2</td>\n      <td>Tuesday</td>\n      <td>Honda</td>\n      <td>Urban</td>\n      <td>Monday</td>\n      <td>May</td>\n      <td>3</td>\n      <td>Male</td>\n      <td>Single</td>\n      <td>...</td>\n      <td>new</td>\n      <td>16 to 17</td>\n      <td>No</td>\n      <td>No</td>\n      <td>External</td>\n      <td>none</td>\n      <td>no change</td>\n      <td>1 vehicle</td>\n      <td>1996</td>\n      <td>Liability</td>\n    </tr>\n    <tr>\n      <th>15262</th>\n      <td>Mar</td>\n      <td>3</td>\n      <td>Monday</td>\n      <td>Honda</td>\n      <td>Urban</td>\n      <td>Thursday</td>\n      <td>Mar</td>\n      <td>3</td>\n      <td>Male</td>\n      <td>Single</td>\n      <td>...</td>\n      <td>new</td>\n      <td>16 to 17</td>\n      <td>No</td>\n      <td>No</td>\n      <td>External</td>\n      <td>none</td>\n      <td>no change</td>\n      <td>1 vehicle</td>\n      <td>1996</td>\n      <td>Liability</td>\n    </tr>\n    <tr>\n      <th>15274</th>\n      <td>Apr</td>\n      <td>3</td>\n      <td>Monday</td>\n      <td>Honda</td>\n      <td>Urban</td>\n      <td>Tuesday</td>\n      <td>May</td>\n      <td>1</td>\n      <td>Male</td>\n      <td>Single</td>\n      <td>...</td>\n      <td>new</td>\n      <td>16 to 17</td>\n      <td>No</td>\n      <td>No</td>\n      <td>External</td>\n      <td>none</td>\n      <td>no change</td>\n      <td>1 vehicle</td>\n      <td>1996</td>\n      <td>Collision</td>\n    </tr>\n    <tr>\n      <th>15379</th>\n      <td>Jan</td>\n      <td>2</td>\n      <td>Tuesday</td>\n      <td>Honda</td>\n      <td>Urban</td>\n      <td>Thursday</td>\n      <td>Jan</td>\n      <td>2</td>\n      <td>Male</td>\n      <td>Single</td>\n      <td>...</td>\n      <td>new</td>\n      <td>16 to 17</td>\n      <td>No</td>\n      <td>No</td>\n      <td>External</td>\n      <td>none</td>\n      <td>1 year</td>\n      <td>1 vehicle</td>\n      <td>1996</td>\n      <td>All Perils</td>\n    </tr>\n    <tr>\n      <th>15392</th>\n      <td>Jan</td>\n      <td>1</td>\n      <td>Thursday</td>\n      <td>Honda</td>\n      <td>Urban</td>\n      <td>Thursday</td>\n      <td>Jan</td>\n      <td>2</td>\n      <td>Male</td>\n      <td>Single</td>\n      <td>...</td>\n      <td>new</td>\n      <td>16 to 17</td>\n      <td>No</td>\n      <td>No</td>\n      <td>External</td>\n      <td>none</td>\n      <td>no change</td>\n      <td>1 vehicle</td>\n      <td>1996</td>\n      <td>All Perils</td>\n    </tr>\n  </tbody>\n</table>\n<p>319 rows × 33 columns</p>\n</div>"
     },
     "execution_count": 16,
     "metadata": {},
     "output_type": "execute_result"
    }
   ],
   "source": [
    "df[df['Age']== 0]"
   ],
   "metadata": {
    "collapsed": false
   }
  },
  {
   "cell_type": "markdown",
   "source": [
    "\n",
    "A total of 319 occurrences where Age is 0, all of which are between the ages of 16-17, how can we deal with this?\n",
    "I have a few options,\n",
    "- Can I find the mean/median/mode based on Age of other Policy Holders?\n",
    "- Can I remove nulls?\n",
    "- Can I find a relationship between Age and AgeOfPolicyHolder? Are there any PolicyHolders who have an age of 16-17 with ages identified?"
   ],
   "metadata": {
    "collapsed": false
   }
  },
  {
   "cell_type": "markdown",
   "source": [
    "Lets investigate AgeOfPolicyHolder"
   ],
   "metadata": {
    "collapsed": false
   }
  },
  {
   "cell_type": "code",
   "execution_count": 17,
   "outputs": [
    {
     "data": {
      "text/plain": "                   Age      \n                  mean count\nAgeOfPolicyHolder           \n16 to 17           0.0   319",
      "text/html": "<div>\n<style scoped>\n    .dataframe tbody tr th:only-of-type {\n        vertical-align: middle;\n    }\n\n    .dataframe tbody tr th {\n        vertical-align: top;\n    }\n\n    .dataframe thead tr th {\n        text-align: left;\n    }\n\n    .dataframe thead tr:last-of-type th {\n        text-align: right;\n    }\n</style>\n<table border=\"1\" class=\"dataframe\">\n  <thead>\n    <tr>\n      <th></th>\n      <th colspan=\"2\" halign=\"left\">Age</th>\n    </tr>\n    <tr>\n      <th></th>\n      <th>mean</th>\n      <th>count</th>\n    </tr>\n    <tr>\n      <th>AgeOfPolicyHolder</th>\n      <th></th>\n      <th></th>\n    </tr>\n  </thead>\n  <tbody>\n    <tr>\n      <th>16 to 17</th>\n      <td>0.0</td>\n      <td>319</td>\n    </tr>\n  </tbody>\n</table>\n</div>"
     },
     "execution_count": 17,
     "metadata": {},
     "output_type": "execute_result"
    }
   ],
   "source": [
    "df[df['AgeOfPolicyHolder'] == '16 to 17'].groupby(['AgeOfPolicyHolder']).agg({'Age': ['mean','count']})"
   ],
   "metadata": {
    "collapsed": false
   }
  },
  {
   "cell_type": "markdown",
   "source": [
    "All 319 Rows are where age is 0, I think it would be best to assume the age of these policy holders is 16.5."
   ],
   "metadata": {
    "collapsed": false
   }
  },
  {
   "cell_type": "code",
   "execution_count": 18,
   "outputs": [],
   "source": [
    "df['Age'].replace({0:16.5}, inplace=True)"
   ],
   "metadata": {
    "collapsed": false
   }
  },
  {
   "cell_type": "markdown",
   "source": [
    "Check if this has worked as expected"
   ],
   "metadata": {
    "collapsed": false
   }
  },
  {
   "cell_type": "code",
   "execution_count": 19,
   "outputs": [
    {
     "data": {
      "text/plain": "                    Age      \n                   mean count\nAgeOfPolicyHolder            \n16 to 17           16.5   319",
      "text/html": "<div>\n<style scoped>\n    .dataframe tbody tr th:only-of-type {\n        vertical-align: middle;\n    }\n\n    .dataframe tbody tr th {\n        vertical-align: top;\n    }\n\n    .dataframe thead tr th {\n        text-align: left;\n    }\n\n    .dataframe thead tr:last-of-type th {\n        text-align: right;\n    }\n</style>\n<table border=\"1\" class=\"dataframe\">\n  <thead>\n    <tr>\n      <th></th>\n      <th colspan=\"2\" halign=\"left\">Age</th>\n    </tr>\n    <tr>\n      <th></th>\n      <th>mean</th>\n      <th>count</th>\n    </tr>\n    <tr>\n      <th>AgeOfPolicyHolder</th>\n      <th></th>\n      <th></th>\n    </tr>\n  </thead>\n  <tbody>\n    <tr>\n      <th>16 to 17</th>\n      <td>16.5</td>\n      <td>319</td>\n    </tr>\n  </tbody>\n</table>\n</div>"
     },
     "execution_count": 19,
     "metadata": {},
     "output_type": "execute_result"
    }
   ],
   "source": [
    "df[df['AgeOfPolicyHolder'] == '16 to 17'].groupby(['AgeOfPolicyHolder']).agg({'Age': ['mean','count']})"
   ],
   "metadata": {
    "collapsed": false
   }
  },
  {
   "cell_type": "markdown",
   "source": [
    "Next step, Remove Policy Number where these are unique"
   ],
   "metadata": {
    "collapsed": false
   }
  },
  {
   "cell_type": "code",
   "execution_count": 20,
   "outputs": [],
   "source": [
    "df.drop(columns='PolicyNumber', inplace=True)"
   ],
   "metadata": {
    "collapsed": false
   }
  },
  {
   "cell_type": "code",
   "execution_count": 21,
   "outputs": [
    {
     "data": {
      "text/plain": "<Figure size 640x480 with 1 Axes>",
      "image/png": "[encoded data removed]"
     },
     "metadata": {},
     "output_type": "display_data"
    }
   ],
   "source": [
    "ax = sns.countplot(x= df['FraudFound_P'])\n",
    "plt.title(f'Fraud Count')\n",
    "\n",
    "plt.xticks(\n",
    "    horizontalalignment='right',\n",
    "    fontweight ='light',\n",
    "    fontsize ='large', wrap = True\n",
    ")\n",
    "plt.show()"
   ],
   "metadata": {
    "collapsed": false
   }
  },
  {
   "cell_type": "code",
   "execution_count": 22,
   "outputs": [
    {
     "data": {
      "text/plain": "0    14496\n1      923\nName: FraudFound_P, dtype: int64"
     },
     "execution_count": 22,
     "metadata": {},
     "output_type": "execute_result"
    }
   ],
   "source": [
    "df['FraudFound_P'].value_counts()"
   ],
   "metadata": {
    "collapsed": false
   }
  },
  {
   "cell_type": "markdown",
   "source": [
    "923 occurrences of fraud found, account for approx. 6% of total dataset"
   ],
   "metadata": {
    "collapsed": false
   }
  },
  {
   "cell_type": "code",
   "execution_count": 23,
   "outputs": [
    {
     "data": {
      "text/plain": "<Figure size 640x480 with 1 Axes>",
      "image/png": "[encoded data removed]"
     },
     "metadata": {},
     "output_type": "display_data"
    }
   ],
   "source": [
    "\n",
    "ax = sns.countplot(x=df['Make'], order= df['Make'].value_counts().index)\n",
    "plt.title(f'Total Claims by Car Make')\n",
    "\n",
    "plt.xticks(\n",
    "    rotation=30,\n",
    "    horizontalalignment='right',\n",
    "    fontweight='light',\n",
    "    fontsize='large', wrap=True\n",
    ")\n",
    "plt.show()"
   ],
   "metadata": {
    "collapsed": false
   }
  },
  {
   "cell_type": "markdown",
   "source": [
    "Majority of Claimants drove a Pontiac, Toyota, Honda or Mazda"
   ],
   "metadata": {
    "collapsed": false
   }
  },
  {
   "cell_type": "code",
   "execution_count": 24,
   "outputs": [],
   "source": [
    "df_nof=df[df['FraudFound_P']==0]\n",
    "df_f=df[df['FraudFound_P']==1]"
   ],
   "metadata": {
    "collapsed": false
   }
  },
  {
   "cell_type": "code",
   "execution_count": 25,
   "outputs": [],
   "source": [
    "# def plot(category):\n",
    "#     plt.rcParams[\"figure.figsize\"] = [7.00, 3.50]\n",
    "#     plt.rcParams[\"figure.autolayout\"] = True\n",
    "#     f, axes = plt.subplots(1, 2,figsize= (25,5))\n",
    "#     sns.countplot(data=df_nof,x=category,color=\"red\", ax=axes[0], order=df_nof[category].value_counts().index)\n",
    "#     sns.countplot(data=df_f,x=category, color=\"green\", ax=axes[1], order=df_f[category].value_counts().index)\n",
    "#     plt.show()"
   ],
   "metadata": {
    "collapsed": false
   }
  },
  {
   "cell_type": "code",
   "execution_count": 26,
   "outputs": [],
   "source": [
    "# plotlist = ['Month', 'WeekOfMonth', 'DayOfWeek', 'Make', 'AccidentArea',\n",
    "#             'DayOfWeekClaimed', 'MonthClaimed', 'WeekOfMonthClaimed', 'Sex',\n",
    "#             'MaritalStatus', 'Age', 'Fault', 'PolicyType', 'VehicleCategory',\n",
    "#             'VehiclePrice', 'RepNumber',\n",
    "#             'Deductible', 'DriverRating', 'Days_Policy_Accident',\n",
    "#             'Days_Policy_Claim', 'PastNumberOfClaims', 'AgeOfVehicle',\n",
    "#             'AgeOfPolicyHolder', 'PoliceReportFiled', 'WitnessPresent', 'AgentType',\n",
    "#             'NumberOfSuppliments', 'AddressChange_Claim', 'NumberOfCars', 'Year',\n",
    "#             'BasePolicy'\n",
    "#             ]\n",
    "#\n",
    "# [plot(i) for i in plotlist]"
   ],
   "metadata": {
    "collapsed": false
   }
  },
  {
   "cell_type": "markdown",
   "source": [
    "## 5. SPLITTING DEPENDANT AND INDEPENDANT VARIABLES"
   ],
   "metadata": {
    "collapsed": false
   }
  },
  {
   "cell_type": "code",
   "execution_count": 27,
   "outputs": [],
   "source": [
    "X = df.drop(columns=['FraudFound_P'])\n",
    "y = df['FraudFound_P']"
   ],
   "metadata": {
    "collapsed": false
   }
  },
  {
   "cell_type": "markdown",
   "source": [
    "## 6. TRAIN TEST SPLIT"
   ],
   "metadata": {
    "collapsed": false
   }
  },
  {
   "cell_type": "code",
   "execution_count": 28,
   "outputs": [],
   "source": [
    "X_train, X_test, y_train, y_test = train_test_split(X, y, test_size=0.30, random_state=45)"
   ],
   "metadata": {
    "collapsed": false
   }
  },
  {
   "cell_type": "markdown",
   "source": [
    "## 7. FEATURE ENGINEERING"
   ],
   "metadata": {
    "collapsed": false
   }
  },
  {
   "cell_type": "markdown",
   "source": [
    "Appying one hot encoding in order to transform all categorical columns"
   ],
   "metadata": {
    "collapsed": false
   }
  },
  {
   "cell_type": "code",
   "execution_count": 29,
   "outputs": [],
   "source": [
    "def ohe(dataf):\n",
    "    dataf = pd.get_dummies(dataf, columns = ['Month', 'DayOfWeek', 'Make', 'AccidentArea',\n",
    "                                             'DayOfWeekClaimed', 'MonthClaimed', 'Sex',\n",
    "                                             'MaritalStatus', 'Fault', 'PolicyType', 'VehicleCategory',\n",
    "                                             'VehiclePrice','Days_Policy_Accident',\n",
    "                                             'Days_Policy_Claim', 'PastNumberOfClaims', 'AgeOfVehicle',\n",
    "                                             'AgeOfPolicyHolder', 'PoliceReportFiled', 'WitnessPresent', 'AgentType',\n",
    "                                             'NumberOfSuppliments', 'AddressChange_Claim', 'NumberOfCars',\n",
    "                                             'BasePolicy'\n",
    "                                             ], drop_first=True)\n",
    "\n",
    "    return dataf"
   ],
   "metadata": {
    "collapsed": false
   }
  },
  {
   "cell_type": "code",
   "execution_count": 30,
   "outputs": [],
   "source": [
    "X_train_eng=ohe(X_train)"
   ],
   "metadata": {
    "collapsed": false
   }
  },
  {
   "cell_type": "markdown",
   "source": [
    "## 8. BASELINE MODELS"
   ],
   "metadata": {
    "collapsed": false
   }
  },
  {
   "cell_type": "markdown",
   "source": [
    "Creating a function to visualise all results"
   ],
   "metadata": {
    "collapsed": false
   }
  },
  {
   "cell_type": "code",
   "execution_count": 31,
   "outputs": [],
   "source": [
    "def get_results(actual, predicted):\n",
    "    print(\"The confusion matrix for your predictions is:\")\n",
    "    print(confusion_matrix(actual, predicted), \"\\n\")\n",
    "    print(f'The accuracy of your model is: {accuracy(actual, predicted)}')\n",
    "    print(f'The recall of your model is: {recall(actual, predicted)}')\n",
    "    print(f'The precision of your model is: {precision(actual, predicted)}')\n",
    "    print(f'The F1-score of your model is: {f1(actual, predicted)}')\n",
    "    print(f'The ROC-AUC-score of your model is: {roc_auc_score(actual,predicted)}')"
   ],
   "metadata": {
    "collapsed": false
   }
  },
  {
   "cell_type": "markdown",
   "source": [
    " ### 8.1 LOGISTIC REGRESSION"
   ],
   "metadata": {
    "collapsed": false
   }
  },
  {
   "cell_type": "code",
   "execution_count": 32,
   "outputs": [],
   "source": [
    "grid_search = GridSearchCV(estimator = LogisticRegression(),\n",
    "                           param_grid = {'max_iter': [25, 50 , 75]},\n",
    "                           scoring = 'accuracy',\n",
    "                           cv = 5,\n",
    "                           verbose=0)"
   ],
   "metadata": {
    "collapsed": false
   }
  },
  {
   "cell_type": "code",
   "execution_count": 33,
   "outputs": [
    {
     "name": "stderr",
     "output_type": "stream",
     "text": [
      "C:\\Users\\mites\\anaconda3\\lib\\site-packages\\sklearn\\linear_model\\_logistic.py:458: ConvergenceWarning: lbfgs failed to converge (status=1):\n",
      "STOP: TOTAL NO. of ITERATIONS REACHED LIMIT.\n",
      "\n",
      "Increase the number of iterations (max_iter) or scale the data as shown in:\n",
      "    https://scikit-learn.org/stable/modules/preprocessing.html\n",
      "Please also refer to the documentation for alternative solver options:\n",
      "    https://scikit-learn.org/stable/modules/linear_model.html#logistic-regression\n",
      "  n_iter_i = _check_optimize_result(\n",
      "C:\\Users\\mites\\anaconda3\\lib\\site-packages\\sklearn\\linear_model\\_logistic.py:458: ConvergenceWarning: lbfgs failed to converge (status=1):\n",
      "STOP: TOTAL NO. of ITERATIONS REACHED LIMIT.\n",
      "\n",
      "Increase the number of iterations (max_iter) or scale the data as shown in:\n",
      "    https://scikit-learn.org/stable/modules/preprocessing.html\n",
      "Please also refer to the documentation for alternative solver options:\n",
      "    https://scikit-learn.org/stable/modules/linear_model.html#logistic-regression\n",
      "  n_iter_i = _check_optimize_result(\n",
      "C:\\Users\\mites\\anaconda3\\lib\\site-packages\\sklearn\\linear_model\\_logistic.py:458: ConvergenceWarning: lbfgs failed to converge (status=1):\n",
      "STOP: TOTAL NO. of ITERATIONS REACHED LIMIT.\n",
      "\n",
      "Increase the number of iterations (max_iter) or scale the data as shown in:\n",
      "    https://scikit-learn.org/stable/modules/preprocessing.html\n",
      "Please also refer to the documentation for alternative solver options:\n",
      "    https://scikit-learn.org/stable/modules/linear_model.html#logistic-regression\n",
      "  n_iter_i = _check_optimize_result(\n",
      "C:\\Users\\mites\\anaconda3\\lib\\site-packages\\sklearn\\linear_model\\_logistic.py:458: ConvergenceWarning: lbfgs failed to converge (status=1):\n",
      "STOP: TOTAL NO. of ITERATIONS REACHED LIMIT.\n",
      "\n",
      "Increase the number of iterations (max_iter) or scale the data as shown in:\n",
      "    https://scikit-learn.org/stable/modules/preprocessing.html\n",
      "Please also refer to the documentation for alternative solver options:\n",
      "    https://scikit-learn.org/stable/modules/linear_model.html#logistic-regression\n",
      "  n_iter_i = _check_optimize_result(\n",
      "C:\\Users\\mites\\anaconda3\\lib\\site-packages\\sklearn\\linear_model\\_logistic.py:458: ConvergenceWarning: lbfgs failed to converge (status=1):\n",
      "STOP: TOTAL NO. of ITERATIONS REACHED LIMIT.\n",
      "\n",
      "Increase the number of iterations (max_iter) or scale the data as shown in:\n",
      "    https://scikit-learn.org/stable/modules/preprocessing.html\n",
      "Please also refer to the documentation for alternative solver options:\n",
      "    https://scikit-learn.org/stable/modules/linear_model.html#logistic-regression\n",
      "  n_iter_i = _check_optimize_result(\n",
      "C:\\Users\\mites\\anaconda3\\lib\\site-packages\\sklearn\\linear_model\\_logistic.py:458: ConvergenceWarning: lbfgs failed to converge (status=1):\n",
      "STOP: TOTAL NO. of ITERATIONS REACHED LIMIT.\n",
      "\n",
      "Increase the number of iterations (max_iter) or scale the data as shown in:\n",
      "    https://scikit-learn.org/stable/modules/preprocessing.html\n",
      "Please also refer to the documentation for alternative solver options:\n",
      "    https://scikit-learn.org/stable/modules/linear_model.html#logistic-regression\n",
      "  n_iter_i = _check_optimize_result(\n",
      "C:\\Users\\mites\\anaconda3\\lib\\site-packages\\sklearn\\linear_model\\_logistic.py:458: ConvergenceWarning: lbfgs failed to converge (status=1):\n",
      "STOP: TOTAL NO. of ITERATIONS REACHED LIMIT.\n",
      "\n",
      "Increase the number of iterations (max_iter) or scale the data as shown in:\n",
      "    https://scikit-learn.org/stable/modules/preprocessing.html\n",
      "Please also refer to the documentation for alternative solver options:\n",
      "    https://scikit-learn.org/stable/modules/linear_model.html#logistic-regression\n",
      "  n_iter_i = _check_optimize_result(\n",
      "C:\\Users\\mites\\anaconda3\\lib\\site-packages\\sklearn\\linear_model\\_logistic.py:458: ConvergenceWarning: lbfgs failed to converge (status=1):\n",
      "STOP: TOTAL NO. of ITERATIONS REACHED LIMIT.\n",
      "\n",
      "Increase the number of iterations (max_iter) or scale the data as shown in:\n",
      "    https://scikit-learn.org/stable/modules/preprocessing.html\n",
      "Please also refer to the documentation for alternative solver options:\n",
      "    https://scikit-learn.org/stable/modules/linear_model.html#logistic-regression\n",
      "  n_iter_i = _check_optimize_result(\n",
      "C:\\Users\\mites\\anaconda3\\lib\\site-packages\\sklearn\\linear_model\\_logistic.py:458: ConvergenceWarning: lbfgs failed to converge (status=1):\n",
      "STOP: TOTAL NO. of ITERATIONS REACHED LIMIT.\n",
      "\n",
      "Increase the number of iterations (max_iter) or scale the data as shown in:\n",
      "    https://scikit-learn.org/stable/modules/preprocessing.html\n",
      "Please also refer to the documentation for alternative solver options:\n",
      "    https://scikit-learn.org/stable/modules/linear_model.html#logistic-regression\n",
      "  n_iter_i = _check_optimize_result(\n",
      "C:\\Users\\mites\\anaconda3\\lib\\site-packages\\sklearn\\linear_model\\_logistic.py:458: ConvergenceWarning: lbfgs failed to converge (status=1):\n",
      "STOP: TOTAL NO. of ITERATIONS REACHED LIMIT.\n",
      "\n",
      "Increase the number of iterations (max_iter) or scale the data as shown in:\n",
      "    https://scikit-learn.org/stable/modules/preprocessing.html\n",
      "Please also refer to the documentation for alternative solver options:\n",
      "    https://scikit-learn.org/stable/modules/linear_model.html#logistic-regression\n",
      "  n_iter_i = _check_optimize_result(\n",
      "C:\\Users\\mites\\anaconda3\\lib\\site-packages\\sklearn\\linear_model\\_logistic.py:458: ConvergenceWarning: lbfgs failed to converge (status=1):\n",
      "STOP: TOTAL NO. of ITERATIONS REACHED LIMIT.\n",
      "\n",
      "Increase the number of iterations (max_iter) or scale the data as shown in:\n",
      "    https://scikit-learn.org/stable/modules/preprocessing.html\n",
      "Please also refer to the documentation for alternative solver options:\n",
      "    https://scikit-learn.org/stable/modules/linear_model.html#logistic-regression\n",
      "  n_iter_i = _check_optimize_result(\n",
      "C:\\Users\\mites\\anaconda3\\lib\\site-packages\\sklearn\\linear_model\\_logistic.py:458: ConvergenceWarning: lbfgs failed to converge (status=1):\n",
      "STOP: TOTAL NO. of ITERATIONS REACHED LIMIT.\n",
      "\n",
      "Increase the number of iterations (max_iter) or scale the data as shown in:\n",
      "    https://scikit-learn.org/stable/modules/preprocessing.html\n",
      "Please also refer to the documentation for alternative solver options:\n",
      "    https://scikit-learn.org/stable/modules/linear_model.html#logistic-regression\n",
      "  n_iter_i = _check_optimize_result(\n",
      "C:\\Users\\mites\\anaconda3\\lib\\site-packages\\sklearn\\linear_model\\_logistic.py:458: ConvergenceWarning: lbfgs failed to converge (status=1):\n",
      "STOP: TOTAL NO. of ITERATIONS REACHED LIMIT.\n",
      "\n",
      "Increase the number of iterations (max_iter) or scale the data as shown in:\n",
      "    https://scikit-learn.org/stable/modules/preprocessing.html\n",
      "Please also refer to the documentation for alternative solver options:\n",
      "    https://scikit-learn.org/stable/modules/linear_model.html#logistic-regression\n",
      "  n_iter_i = _check_optimize_result(\n",
      "C:\\Users\\mites\\anaconda3\\lib\\site-packages\\sklearn\\linear_model\\_logistic.py:458: ConvergenceWarning: lbfgs failed to converge (status=1):\n",
      "STOP: TOTAL NO. of ITERATIONS REACHED LIMIT.\n",
      "\n",
      "Increase the number of iterations (max_iter) or scale the data as shown in:\n",
      "    https://scikit-learn.org/stable/modules/preprocessing.html\n",
      "Please also refer to the documentation for alternative solver options:\n",
      "    https://scikit-learn.org/stable/modules/linear_model.html#logistic-regression\n",
      "  n_iter_i = _check_optimize_result(\n",
      "C:\\Users\\mites\\anaconda3\\lib\\site-packages\\sklearn\\linear_model\\_logistic.py:458: ConvergenceWarning: lbfgs failed to converge (status=1):\n",
      "STOP: TOTAL NO. of ITERATIONS REACHED LIMIT.\n",
      "\n",
      "Increase the number of iterations (max_iter) or scale the data as shown in:\n",
      "    https://scikit-learn.org/stable/modules/preprocessing.html\n",
      "Please also refer to the documentation for alternative solver options:\n",
      "    https://scikit-learn.org/stable/modules/linear_model.html#logistic-regression\n",
      "  n_iter_i = _check_optimize_result(\n",
      "C:\\Users\\mites\\anaconda3\\lib\\site-packages\\sklearn\\linear_model\\_logistic.py:458: ConvergenceWarning: lbfgs failed to converge (status=1):\n",
      "STOP: TOTAL NO. of ITERATIONS REACHED LIMIT.\n",
      "\n",
      "Increase the number of iterations (max_iter) or scale the data as shown in:\n",
      "    https://scikit-learn.org/stable/modules/preprocessing.html\n",
      "Please also refer to the documentation for alternative solver options:\n",
      "    https://scikit-learn.org/stable/modules/linear_model.html#logistic-regression\n",
      "  n_iter_i = _check_optimize_result(\n"
     ]
    },
    {
     "data": {
      "text/plain": "GridSearchCV(cv=5, estimator=LogisticRegression(),\n             param_grid={'max_iter': [25, 50, 75]}, scoring='accuracy')",
      "text/html": "<style>#sk-container-id-1 {color: black;background-color: white;}#sk-container-id-1 pre{padding: 0;}#sk-container-id-1 div.sk-toggleable {background-color: white;}#sk-container-id-1 label.sk-toggleable__label {cursor: pointer;display: block;width: 100%;margin-bottom: 0;padding: 0.3em;box-sizing: border-box;text-align: center;}#sk-container-id-1 label.sk-toggleable__label-arrow:before {content: \"▸\";float: left;margin-right: 0.25em;color: #696969;}#sk-container-id-1 label.sk-toggleable__label-arrow:hover:before {color: black;}#sk-container-id-1 div.sk-estimator:hover label.sk-toggleable__label-arrow:before {color: black;}#sk-container-id-1 div.sk-toggleable__content {max-height: 0;max-width: 0;overflow: hidden;text-align: left;background-color: #f0f8ff;}#sk-container-id-1 div.sk-toggleable__content pre {margin: 0.2em;color: black;border-radius: 0.25em;background-color: #f0f8ff;}#sk-container-id-1 input.sk-toggleable__control:checked~div.sk-toggleable__content {max-height: 200px;max-width: 100%;overflow: auto;}#sk-container-id-1 input.sk-toggleable__control:checked~label.sk-toggleable__label-arrow:before {content: \"▾\";}#sk-container-id-1 div.sk-estimator input.sk-toggleable__control:checked~label.sk-toggleable__label {background-color: #d4ebff;}#sk-container-id-1 div.sk-label input.sk-toggleable__control:checked~label.sk-toggleable__label {background-color: #d4ebff;}#sk-container-id-1 input.sk-hidden--visually {border: 0;clip: rect(1px 1px 1px 1px);clip: rect(1px, 1px, 1px, 1px);height: 1px;margin: -1px;overflow: hidden;padding: 0;position: absolute;width: 1px;}#sk-container-id-1 div.sk-estimator {font-family: monospace;background-color: #f0f8ff;border: 1px dotted black;border-radius: 0.25em;box-sizing: border-box;margin-bottom: 0.5em;}#sk-container-id-1 div.sk-estimator:hover {background-color: #d4ebff;}#sk-container-id-1 div.sk-parallel-item::after {content: \"\";width: 100%;border-bottom: 1px solid gray;flex-grow: 1;}#sk-container-id-1 div.sk-label:hover label.sk-toggleable__label {background-color: #d4ebff;}#sk-container-id-1 div.sk-serial::before {content: \"\";position: absolute;border-left: 1px solid gray;box-sizing: border-box;top: 0;bottom: 0;left: 50%;z-index: 0;}#sk-container-id-1 div.sk-serial {display: flex;flex-direction: column;align-items: center;background-color: white;padding-right: 0.2em;padding-left: 0.2em;position: relative;}#sk-container-id-1 div.sk-item {position: relative;z-index: 1;}#sk-container-id-1 div.sk-parallel {display: flex;align-items: stretch;justify-content: center;background-color: white;position: relative;}#sk-container-id-1 div.sk-item::before, #sk-container-id-1 div.sk-parallel-item::before {content: \"\";position: absolute;border-left: 1px solid gray;box-sizing: border-box;top: 0;bottom: 0;left: 50%;z-index: -1;}#sk-container-id-1 div.sk-parallel-item {display: flex;flex-direction: column;z-index: 1;position: relative;background-color: white;}#sk-container-id-1 div.sk-parallel-item:first-child::after {align-self: flex-end;width: 50%;}#sk-container-id-1 div.sk-parallel-item:last-child::after {align-self: flex-start;width: 50%;}#sk-container-id-1 div.sk-parallel-item:only-child::after {width: 0;}#sk-container-id-1 div.sk-dashed-wrapped {border: 1px dashed gray;margin: 0 0.4em 0.5em 0.4em;box-sizing: border-box;padding-bottom: 0.4em;background-color: white;}#sk-container-id-1 div.sk-label label {font-family: monospace;font-weight: bold;display: inline-block;line-height: 1.2em;}#sk-container-id-1 div.sk-label-container {text-align: center;}#sk-container-id-1 div.sk-container {/* jupyter's `normalize.less` sets `[hidden] { display: none; }` but bootstrap.min.css set `[hidden] { display: none !important; }` so we also need the `!important` here to be able to override the default hidden behavior on the sphinx rendered scikit-learn.org. See: https://github.com/scikit-learn/scikit-learn/issues/21755 */display: inline-block !important;position: relative;}#sk-container-id-1 div.sk-text-repr-fallback {display: none;}</style><div id=\"sk-container-id-1\" class=\"sk-top-container\"><div class=\"sk-text-repr-fallback\"><pre>GridSearchCV(cv=5, estimator=LogisticRegression(),\n             param_grid={&#x27;max_iter&#x27;: [25, 50, 75]}, scoring=&#x27;accuracy&#x27;)</pre><b>In a Jupyter environment, please rerun this cell to show the HTML representation or trust the notebook. <br />On GitHub, the HTML representation is unable to render, please try loading this page with nbviewer.org.</b></div><div class=\"sk-container\" hidden><div class=\"sk-item sk-dashed-wrapped\"><div class=\"sk-label-container\"><div class=\"sk-label sk-toggleable\"><input class=\"sk-toggleable__control sk-hidden--visually\" id=\"sk-estimator-id-1\" type=\"checkbox\" ><label for=\"sk-estimator-id-1\" class=\"sk-toggleable__label sk-toggleable__label-arrow\">GridSearchCV</label><div class=\"sk-toggleable__content\"><pre>GridSearchCV(cv=5, estimator=LogisticRegression(),\n             param_grid={&#x27;max_iter&#x27;: [25, 50, 75]}, scoring=&#x27;accuracy&#x27;)</pre></div></div></div><div class=\"sk-parallel\"><div class=\"sk-parallel-item\"><div class=\"sk-item\"><div class=\"sk-label-container\"><div class=\"sk-label sk-toggleable\"><input class=\"sk-toggleable__control sk-hidden--visually\" id=\"sk-estimator-id-2\" type=\"checkbox\" ><label for=\"sk-estimator-id-2\" class=\"sk-toggleable__label sk-toggleable__label-arrow\">estimator: LogisticRegression</label><div class=\"sk-toggleable__content\"><pre>LogisticRegression()</pre></div></div></div><div class=\"sk-serial\"><div class=\"sk-item\"><div class=\"sk-estimator sk-toggleable\"><input class=\"sk-toggleable__control sk-hidden--visually\" id=\"sk-estimator-id-3\" type=\"checkbox\" ><label for=\"sk-estimator-id-3\" class=\"sk-toggleable__label sk-toggleable__label-arrow\">LogisticRegression</label><div class=\"sk-toggleable__content\"><pre>LogisticRegression()</pre></div></div></div></div></div></div></div></div></div></div>"
     },
     "execution_count": 33,
     "metadata": {},
     "output_type": "execute_result"
    }
   ],
   "source": [
    "grid_search.fit(X_train_eng, y_train)"
   ],
   "metadata": {
    "collapsed": false
   }
  },
  {
   "cell_type": "code",
   "execution_count": 34,
   "outputs": [
    {
     "name": "stdout",
     "output_type": "stream",
     "text": [
      "{'max_iter': 25}\n",
      "0.9396831420168865\n"
     ]
    }
   ],
   "source": [
    "print(grid_search.best_params_)\n",
    "print(grid_search.best_score_)"
   ],
   "metadata": {
    "collapsed": false
   }
  },
  {
   "cell_type": "code",
   "execution_count": 35,
   "outputs": [],
   "source": [
    "lgr = LogisticRegression(max_iter=25, random_state=10)\n",
    "def lre(X,y):\n",
    "    lgr.fit(X, y)\n",
    "    lgr_results = X.copy()\n",
    "    lgr_results[['Not Fraud', 'Fraud']] = lgr.predict_proba(X)\n",
    "    lgr_results['y_pred'] = np.where(lgr_results['Fraud'] > 0.12, 1, 0)\n",
    "\n",
    "    return lgr_results"
   ],
   "metadata": {
    "collapsed": false
   }
  },
  {
   "cell_type": "code",
   "execution_count": 36,
   "outputs": [
    {
     "name": "stderr",
     "output_type": "stream",
     "text": [
      "C:\\Users\\mites\\anaconda3\\lib\\site-packages\\sklearn\\linear_model\\_logistic.py:458: ConvergenceWarning: lbfgs failed to converge (status=1):\n",
      "STOP: TOTAL NO. of ITERATIONS REACHED LIMIT.\n",
      "\n",
      "Increase the number of iterations (max_iter) or scale the data as shown in:\n",
      "    https://scikit-learn.org/stable/modules/preprocessing.html\n",
      "Please also refer to the documentation for alternative solver options:\n",
      "    https://scikit-learn.org/stable/modules/linear_model.html#logistic-regression\n",
      "  n_iter_i = _check_optimize_result(\n",
      "C:\\Users\\mites\\anaconda3\\lib\\site-packages\\sklearn\\metrics\\_classification.py:1344: UndefinedMetricWarning: Precision is ill-defined and being set to 0.0 due to no predicted samples. Use `zero_division` parameter to control this behavior.\n",
      "  _warn_prf(average, modifier, msg_start, len(result))\n"
     ]
    },
    {
     "name": "stdout",
     "output_type": "stream",
     "text": [
      "The confusion matrix for your predictions is:\n",
      "[[10142     0]\n",
      " [  651     0]] \n",
      "\n",
      "The accuracy of your model is: 0.9396831279533031\n",
      "The recall of your model is: 0.0\n",
      "The precision of your model is: 0.0\n",
      "The F1-score of your model is: 0.0\n",
      "The ROC-AUC-score of your model is: 0.5\n"
     ]
    },
    {
     "name": "stderr",
     "output_type": "stream",
     "text": [
      "C:\\Users\\mites\\anaconda3\\lib\\site-packages\\sklearn\\linear_model\\_logistic.py:458: ConvergenceWarning: lbfgs failed to converge (status=1):\n",
      "STOP: TOTAL NO. of ITERATIONS REACHED LIMIT.\n",
      "\n",
      "Increase the number of iterations (max_iter) or scale the data as shown in:\n",
      "    https://scikit-learn.org/stable/modules/preprocessing.html\n",
      "Please also refer to the documentation for alternative solver options:\n",
      "    https://scikit-learn.org/stable/modules/linear_model.html#logistic-regression\n",
      "  n_iter_i = _check_optimize_result(\n",
      "C:\\Users\\mites\\anaconda3\\lib\\site-packages\\sklearn\\linear_model\\_logistic.py:458: ConvergenceWarning: lbfgs failed to converge (status=1):\n",
      "STOP: TOTAL NO. of ITERATIONS REACHED LIMIT.\n",
      "\n",
      "Increase the number of iterations (max_iter) or scale the data as shown in:\n",
      "    https://scikit-learn.org/stable/modules/preprocessing.html\n",
      "Please also refer to the documentation for alternative solver options:\n",
      "    https://scikit-learn.org/stable/modules/linear_model.html#logistic-regression\n",
      "  n_iter_i = _check_optimize_result(\n",
      "C:\\Users\\mites\\anaconda3\\lib\\site-packages\\sklearn\\linear_model\\_logistic.py:458: ConvergenceWarning: lbfgs failed to converge (status=1):\n",
      "STOP: TOTAL NO. of ITERATIONS REACHED LIMIT.\n",
      "\n",
      "Increase the number of iterations (max_iter) or scale the data as shown in:\n",
      "    https://scikit-learn.org/stable/modules/preprocessing.html\n",
      "Please also refer to the documentation for alternative solver options:\n",
      "    https://scikit-learn.org/stable/modules/linear_model.html#logistic-regression\n",
      "  n_iter_i = _check_optimize_result(\n",
      "C:\\Users\\mites\\anaconda3\\lib\\site-packages\\sklearn\\linear_model\\_logistic.py:458: ConvergenceWarning: lbfgs failed to converge (status=1):\n",
      "STOP: TOTAL NO. of ITERATIONS REACHED LIMIT.\n",
      "\n",
      "Increase the number of iterations (max_iter) or scale the data as shown in:\n",
      "    https://scikit-learn.org/stable/modules/preprocessing.html\n",
      "Please also refer to the documentation for alternative solver options:\n",
      "    https://scikit-learn.org/stable/modules/linear_model.html#logistic-regression\n",
      "  n_iter_i = _check_optimize_result(\n",
      "C:\\Users\\mites\\anaconda3\\lib\\site-packages\\sklearn\\linear_model\\_logistic.py:458: ConvergenceWarning: lbfgs failed to converge (status=1):\n",
      "STOP: TOTAL NO. of ITERATIONS REACHED LIMIT.\n",
      "\n",
      "Increase the number of iterations (max_iter) or scale the data as shown in:\n",
      "    https://scikit-learn.org/stable/modules/preprocessing.html\n",
      "Please also refer to the documentation for alternative solver options:\n",
      "    https://scikit-learn.org/stable/modules/linear_model.html#logistic-regression\n",
      "  n_iter_i = _check_optimize_result(\n"
     ]
    },
    {
     "data": {
      "text/plain": "{'fit_time': array([0.07780695, 0.07614899, 0.07205796, 0.07799315, 0.07599568]),\n 'score_time': array([0.01580215, 0.01914096, 0.01684189, 0.01835108, 0.01884937]),\n 'test_accuracy': array([0.93978694, 0.93978694, 0.93932376, 0.93975904, 0.93975904]),\n 'test_f1': array([0., 0., 0., 0., 0.]),\n 'test_roc_auc': array([0.51265876, 0.5492247 , 0.57378758, 0.55536337, 0.54199666]),\n 'test_matthews_corrcoef': array([0., 0., 0., 0., 0.])}"
     },
     "execution_count": 36,
     "metadata": {},
     "output_type": "execute_result"
    }
   ],
   "source": [
    " #APPLYING FUNCTION TO TRAIN\n",
    "\n",
    "lgr_results =lre(X_train_eng, y_train)\n",
    "get_results(y_train,lgr_results['y_pred'])\n",
    "lgr_score = cross_validate(lgr, X_train_eng, y_train, cv=5, scoring = ['accuracy', 'f1','roc_auc','matthews_corrcoef'])\n",
    "lgr_score"
   ],
   "metadata": {
    "collapsed": false
   }
  },
  {
   "cell_type": "markdown",
   "source": [
    "### 8.2 DECISION TREE'S"
   ],
   "metadata": {
    "collapsed": false
   }
  },
  {
   "cell_type": "code",
   "execution_count": 37,
   "outputs": [],
   "source": [
    "grid = GridSearchCV(estimator = DecisionTreeClassifier(),\n",
    "                    param_grid = {'max_depth': [2, 4, 6],\n",
    "                                  'min_samples_split': [2,4,6,8,10],\n",
    "                                  'min_samples_leaf': [2,4,6,8,10]},\n",
    "                    cv = 5,\n",
    "                    refit = True,\n",
    "                    verbose = 2,\n",
    "                    scoring = 'accuracy')"
   ],
   "metadata": {
    "collapsed": false
   }
  },
  {
   "cell_type": "code",
   "execution_count": 38,
   "outputs": [
    {
     "name": "stdout",
     "output_type": "stream",
     "text": [
      "Fitting 5 folds for each of 75 candidates, totalling 375 fits\n",
      "[CV] END max_depth=2, min_samples_leaf=2, min_samples_split=2; total time=   0.0s\n",
      "[CV] END max_depth=2, min_samples_leaf=2, min_samples_split=2; total time=   0.0s\n",
      "[CV] END max_depth=2, min_samples_leaf=2, min_samples_split=2; total time=   0.0s\n",
      "[CV] END max_depth=2, min_samples_leaf=2, min_samples_split=2; total time=   0.0s\n",
      "[CV] END max_depth=2, min_samples_leaf=2, min_samples_split=2; total time=   0.0s\n",
      "[CV] END max_depth=2, min_samples_leaf=2, min_samples_split=4; total time=   0.0s\n",
      "[CV] END max_depth=2, min_samples_leaf=2, min_samples_split=4; total time=   0.0s\n",
      "[CV] END max_depth=2, min_samples_leaf=2, min_samples_split=4; total time=   0.0s\n",
      "[CV] END max_depth=2, min_samples_leaf=2, min_samples_split=4; total time=   0.0s\n",
      "[CV] END max_depth=2, min_samples_leaf=2, min_samples_split=4; total time=   0.0s\n",
      "[CV] END max_depth=2, min_samples_leaf=2, min_samples_split=6; total time=   0.0s\n",
      "[CV] END max_depth=2, min_samples_leaf=2, min_samples_split=6; total time=   0.0s\n",
      "[CV] END max_depth=2, min_samples_leaf=2, min_samples_split=6; total time=   0.0s\n",
      "[CV] END max_depth=2, min_samples_leaf=2, min_samples_split=6; total time=   0.0s\n",
      "[CV] END max_depth=2, min_samples_leaf=2, min_samples_split=6; total time=   0.0s\n",
      "[CV] END max_depth=2, min_samples_leaf=2, min_samples_split=8; total time=   0.0s\n",
      "[CV] END max_depth=2, min_samples_leaf=2, min_samples_split=8; total time=   0.0s\n",
      "[CV] END max_depth=2, min_samples_leaf=2, min_samples_split=8; total time=   0.0s\n",
      "[CV] END max_depth=2, min_samples_leaf=2, min_samples_split=8; total time=   0.0s\n",
      "[CV] END max_depth=2, min_samples_leaf=2, min_samples_split=8; total time=   0.0s\n",
      "[CV] END max_depth=2, min_samples_leaf=2, min_samples_split=10; total time=   0.0s\n",
      "[CV] END max_depth=2, min_samples_leaf=2, min_samples_split=10; total time=   0.0s\n",
      "[CV] END max_depth=2, min_samples_leaf=2, min_samples_split=10; total time=   0.0s\n",
      "[CV] END max_depth=2, min_samples_leaf=2, min_samples_split=10; total time=   0.0s\n",
      "[CV] END max_depth=2, min_samples_leaf=2, min_samples_split=10; total time=   0.0s\n",
      "[CV] END max_depth=2, min_samples_leaf=4, min_samples_split=2; total time=   0.0s\n",
      "[CV] END max_depth=2, min_samples_leaf=4, min_samples_split=2; total time=   0.0s\n",
      "[CV] END max_depth=2, min_samples_leaf=4, min_samples_split=2; total time=   0.0s\n",
      "[CV] END max_depth=2, min_samples_leaf=4, min_samples_split=2; total time=   0.0s\n",
      "[CV] END max_depth=2, min_samples_leaf=4, min_samples_split=2; total time=   0.0s\n",
      "[CV] END max_depth=2, min_samples_leaf=4, min_samples_split=4; total time=   0.0s\n",
      "[CV] END max_depth=2, min_samples_leaf=4, min_samples_split=4; total time=   0.0s\n",
      "[CV] END max_depth=2, min_samples_leaf=4, min_samples_split=4; total time=   0.0s\n",
      "[CV] END max_depth=2, min_samples_leaf=4, min_samples_split=4; total time=   0.0s\n",
      "[CV] END max_depth=2, min_samples_leaf=4, min_samples_split=4; total time=   0.0s\n",
      "[CV] END max_depth=2, min_samples_leaf=4, min_samples_split=6; total time=   0.0s\n",
      "[CV] END max_depth=2, min_samples_leaf=4, min_samples_split=6; total time=   0.0s\n",
      "[CV] END max_depth=2, min_samples_leaf=4, min_samples_split=6; total time=   0.0s\n",
      "[CV] END max_depth=2, min_samples_leaf=4, min_samples_split=6; total time=   0.0s\n",
      "[CV] END max_depth=2, min_samples_leaf=4, min_samples_split=6; total time=   0.0s\n",
      "[CV] END max_depth=2, min_samples_leaf=4, min_samples_split=8; total time=   0.0s\n",
      "[CV] END max_depth=2, min_samples_leaf=4, min_samples_split=8; total time=   0.0s\n",
      "[CV] END max_depth=2, min_samples_leaf=4, min_samples_split=8; total time=   0.0s\n",
      "[CV] END max_depth=2, min_samples_leaf=4, min_samples_split=8; total time=   0.0s\n",
      "[CV] END max_depth=2, min_samples_leaf=4, min_samples_split=8; total time=   0.0s\n",
      "[CV] END max_depth=2, min_samples_leaf=4, min_samples_split=10; total time=   0.0s\n",
      "[CV] END max_depth=2, min_samples_leaf=4, min_samples_split=10; total time=   0.0s\n",
      "[CV] END max_depth=2, min_samples_leaf=4, min_samples_split=10; total time=   0.0s\n",
      "[CV] END max_depth=2, min_samples_leaf=4, min_samples_split=10; total time=   0.0s\n",
      "[CV] END max_depth=2, min_samples_leaf=4, min_samples_split=10; total time=   0.0s\n",
      "[CV] END max_depth=2, min_samples_leaf=6, min_samples_split=2; total time=   0.0s\n",
      "[CV] END max_depth=2, min_samples_leaf=6, min_samples_split=2; total time=   0.0s\n",
      "[CV] END max_depth=2, min_samples_leaf=6, min_samples_split=2; total time=   0.0s\n",
      "[CV] END max_depth=2, min_samples_leaf=6, min_samples_split=2; total time=   0.0s\n",
      "[CV] END max_depth=2, min_samples_leaf=6, min_samples_split=2; total time=   0.0s\n",
      "[CV] END max_depth=2, min_samples_leaf=6, min_samples_split=4; total time=   0.0s\n",
      "[CV] END max_depth=2, min_samples_leaf=6, min_samples_split=4; total time=   0.0s\n",
      "[CV] END max_depth=2, min_samples_leaf=6, min_samples_split=4; total time=   0.0s\n",
      "[CV] END max_depth=2, min_samples_leaf=6, min_samples_split=4; total time=   0.0s\n",
      "[CV] END max_depth=2, min_samples_leaf=6, min_samples_split=4; total time=   0.0s\n",
      "[CV] END max_depth=2, min_samples_leaf=6, min_samples_split=6; total time=   0.0s\n",
      "[CV] END max_depth=2, min_samples_leaf=6, min_samples_split=6; total time=   0.0s\n",
      "[CV] END max_depth=2, min_samples_leaf=6, min_samples_split=6; total time=   0.0s\n",
      "[CV] END max_depth=2, min_samples_leaf=6, min_samples_split=6; total time=   0.0s\n",
      "[CV] END max_depth=2, min_samples_leaf=6, min_samples_split=6; total time=   0.0s\n",
      "[CV] END max_depth=2, min_samples_leaf=6, min_samples_split=8; total time=   0.0s\n",
      "[CV] END max_depth=2, min_samples_leaf=6, min_samples_split=8; total time=   0.0s\n",
      "[CV] END max_depth=2, min_samples_leaf=6, min_samples_split=8; total time=   0.0s\n",
      "[CV] END max_depth=2, min_samples_leaf=6, min_samples_split=8; total time=   0.0s\n",
      "[CV] END max_depth=2, min_samples_leaf=6, min_samples_split=8; total time=   0.0s\n",
      "[CV] END max_depth=2, min_samples_leaf=6, min_samples_split=10; total time=   0.0s\n",
      "[CV] END max_depth=2, min_samples_leaf=6, min_samples_split=10; total time=   0.0s\n",
      "[CV] END max_depth=2, min_samples_leaf=6, min_samples_split=10; total time=   0.0s\n",
      "[CV] END max_depth=2, min_samples_leaf=6, min_samples_split=10; total time=   0.0s\n",
      "[CV] END max_depth=2, min_samples_leaf=6, min_samples_split=10; total time=   0.0s\n",
      "[CV] END max_depth=2, min_samples_leaf=8, min_samples_split=2; total time=   0.0s\n",
      "[CV] END max_depth=2, min_samples_leaf=8, min_samples_split=2; total time=   0.0s\n",
      "[CV] END max_depth=2, min_samples_leaf=8, min_samples_split=2; total time=   0.0s\n",
      "[CV] END max_depth=2, min_samples_leaf=8, min_samples_split=2; total time=   0.0s\n",
      "[CV] END max_depth=2, min_samples_leaf=8, min_samples_split=2; total time=   0.0s\n",
      "[CV] END max_depth=2, min_samples_leaf=8, min_samples_split=4; total time=   0.0s\n",
      "[CV] END max_depth=2, min_samples_leaf=8, min_samples_split=4; total time=   0.0s\n",
      "[CV] END max_depth=2, min_samples_leaf=8, min_samples_split=4; total time=   0.0s\n",
      "[CV] END max_depth=2, min_samples_leaf=8, min_samples_split=4; total time=   0.0s\n",
      "[CV] END max_depth=2, min_samples_leaf=8, min_samples_split=4; total time=   0.0s\n",
      "[CV] END max_depth=2, min_samples_leaf=8, min_samples_split=6; total time=   0.0s\n",
      "[CV] END max_depth=2, min_samples_leaf=8, min_samples_split=6; total time=   0.0s\n",
      "[CV] END max_depth=2, min_samples_leaf=8, min_samples_split=6; total time=   0.0s\n",
      "[CV] END max_depth=2, min_samples_leaf=8, min_samples_split=6; total time=   0.0s\n",
      "[CV] END max_depth=2, min_samples_leaf=8, min_samples_split=6; total time=   0.0s\n",
      "[CV] END max_depth=2, min_samples_leaf=8, min_samples_split=8; total time=   0.0s\n",
      "[CV] END max_depth=2, min_samples_leaf=8, min_samples_split=8; total time=   0.0s\n",
      "[CV] END max_depth=2, min_samples_leaf=8, min_samples_split=8; total time=   0.0s\n",
      "[CV] END max_depth=2, min_samples_leaf=8, min_samples_split=8; total time=   0.0s\n",
      "[CV] END max_depth=2, min_samples_leaf=8, min_samples_split=8; total time=   0.0s\n",
      "[CV] END max_depth=2, min_samples_leaf=8, min_samples_split=10; total time=   0.0s\n",
      "[CV] END max_depth=2, min_samples_leaf=8, min_samples_split=10; total time=   0.0s\n",
      "[CV] END max_depth=2, min_samples_leaf=8, min_samples_split=10; total time=   0.0s\n",
      "[CV] END max_depth=2, min_samples_leaf=8, min_samples_split=10; total time=   0.0s\n",
      "[CV] END max_depth=2, min_samples_leaf=8, min_samples_split=10; total time=   0.0s\n",
      "[CV] END max_depth=2, min_samples_leaf=10, min_samples_split=2; total time=   0.0s\n",
      "[CV] END max_depth=2, min_samples_leaf=10, min_samples_split=2; total time=   0.0s\n",
      "[CV] END max_depth=2, min_samples_leaf=10, min_samples_split=2; total time=   0.0s\n",
      "[CV] END max_depth=2, min_samples_leaf=10, min_samples_split=2; total time=   0.0s\n",
      "[CV] END max_depth=2, min_samples_leaf=10, min_samples_split=2; total time=   0.0s\n",
      "[CV] END max_depth=2, min_samples_leaf=10, min_samples_split=4; total time=   0.0s\n",
      "[CV] END max_depth=2, min_samples_leaf=10, min_samples_split=4; total time=   0.0s\n",
      "[CV] END max_depth=2, min_samples_leaf=10, min_samples_split=4; total time=   0.0s\n",
      "[CV] END max_depth=2, min_samples_leaf=10, min_samples_split=4; total time=   0.0s\n",
      "[CV] END max_depth=2, min_samples_leaf=10, min_samples_split=4; total time=   0.0s\n",
      "[CV] END max_depth=2, min_samples_leaf=10, min_samples_split=6; total time=   0.0s\n",
      "[CV] END max_depth=2, min_samples_leaf=10, min_samples_split=6; total time=   0.0s\n",
      "[CV] END max_depth=2, min_samples_leaf=10, min_samples_split=6; total time=   0.0s\n",
      "[CV] END max_depth=2, min_samples_leaf=10, min_samples_split=6; total time=   0.0s\n",
      "[CV] END max_depth=2, min_samples_leaf=10, min_samples_split=6; total time=   0.0s\n",
      "[CV] END max_depth=2, min_samples_leaf=10, min_samples_split=8; total time=   0.0s\n",
      "[CV] END max_depth=2, min_samples_leaf=10, min_samples_split=8; total time=   0.0s\n",
      "[CV] END max_depth=2, min_samples_leaf=10, min_samples_split=8; total time=   0.0s\n",
      "[CV] END max_depth=2, min_samples_leaf=10, min_samples_split=8; total time=   0.0s\n",
      "[CV] END max_depth=2, min_samples_leaf=10, min_samples_split=8; total time=   0.0s\n",
      "[CV] END max_depth=2, min_samples_leaf=10, min_samples_split=10; total time=   0.0s\n",
      "[CV] END max_depth=2, min_samples_leaf=10, min_samples_split=10; total time=   0.0s\n",
      "[CV] END max_depth=2, min_samples_leaf=10, min_samples_split=10; total time=   0.0s\n",
      "[CV] END max_depth=2, min_samples_leaf=10, min_samples_split=10; total time=   0.0s\n",
      "[CV] END max_depth=2, min_samples_leaf=10, min_samples_split=10; total time=   0.0s\n",
      "[CV] END max_depth=4, min_samples_leaf=2, min_samples_split=2; total time=   0.0s\n",
      "[CV] END max_depth=4, min_samples_leaf=2, min_samples_split=2; total time=   0.0s\n",
      "[CV] END max_depth=4, min_samples_leaf=2, min_samples_split=2; total time=   0.0s\n",
      "[CV] END max_depth=4, min_samples_leaf=2, min_samples_split=2; total time=   0.0s\n",
      "[CV] END max_depth=4, min_samples_leaf=2, min_samples_split=2; total time=   0.0s\n",
      "[CV] END max_depth=4, min_samples_leaf=2, min_samples_split=4; total time=   0.0s\n",
      "[CV] END max_depth=4, min_samples_leaf=2, min_samples_split=4; total time=   0.0s\n",
      "[CV] END max_depth=4, min_samples_leaf=2, min_samples_split=4; total time=   0.0s\n",
      "[CV] END max_depth=4, min_samples_leaf=2, min_samples_split=4; total time=   0.0s\n",
      "[CV] END max_depth=4, min_samples_leaf=2, min_samples_split=4; total time=   0.0s\n",
      "[CV] END max_depth=4, min_samples_leaf=2, min_samples_split=6; total time=   0.0s\n",
      "[CV] END max_depth=4, min_samples_leaf=2, min_samples_split=6; total time=   0.0s\n",
      "[CV] END max_depth=4, min_samples_leaf=2, min_samples_split=6; total time=   0.0s\n",
      "[CV] END max_depth=4, min_samples_leaf=2, min_samples_split=6; total time=   0.0s\n",
      "[CV] END max_depth=4, min_samples_leaf=2, min_samples_split=6; total time=   0.0s\n",
      "[CV] END max_depth=4, min_samples_leaf=2, min_samples_split=8; total time=   0.0s\n",
      "[CV] END max_depth=4, min_samples_leaf=2, min_samples_split=8; total time=   0.0s\n",
      "[CV] END max_depth=4, min_samples_leaf=2, min_samples_split=8; total time=   0.0s\n",
      "[CV] END max_depth=4, min_samples_leaf=2, min_samples_split=8; total time=   0.0s\n",
      "[CV] END max_depth=4, min_samples_leaf=2, min_samples_split=8; total time=   0.0s\n",
      "[CV] END max_depth=4, min_samples_leaf=2, min_samples_split=10; total time=   0.0s\n",
      "[CV] END max_depth=4, min_samples_leaf=2, min_samples_split=10; total time=   0.0s\n",
      "[CV] END max_depth=4, min_samples_leaf=2, min_samples_split=10; total time=   0.0s\n",
      "[CV] END max_depth=4, min_samples_leaf=2, min_samples_split=10; total time=   0.0s\n",
      "[CV] END max_depth=4, min_samples_leaf=2, min_samples_split=10; total time=   0.0s\n",
      "[CV] END max_depth=4, min_samples_leaf=4, min_samples_split=2; total time=   0.0s\n",
      "[CV] END max_depth=4, min_samples_leaf=4, min_samples_split=2; total time=   0.0s\n",
      "[CV] END max_depth=4, min_samples_leaf=4, min_samples_split=2; total time=   0.0s\n",
      "[CV] END max_depth=4, min_samples_leaf=4, min_samples_split=2; total time=   0.0s\n",
      "[CV] END max_depth=4, min_samples_leaf=4, min_samples_split=2; total time=   0.0s\n",
      "[CV] END max_depth=4, min_samples_leaf=4, min_samples_split=4; total time=   0.0s\n",
      "[CV] END max_depth=4, min_samples_leaf=4, min_samples_split=4; total time=   0.0s\n",
      "[CV] END max_depth=4, min_samples_leaf=4, min_samples_split=4; total time=   0.0s\n",
      "[CV] END max_depth=4, min_samples_leaf=4, min_samples_split=4; total time=   0.0s\n",
      "[CV] END max_depth=4, min_samples_leaf=4, min_samples_split=4; total time=   0.0s\n",
      "[CV] END max_depth=4, min_samples_leaf=4, min_samples_split=6; total time=   0.0s\n",
      "[CV] END max_depth=4, min_samples_leaf=4, min_samples_split=6; total time=   0.0s\n",
      "[CV] END max_depth=4, min_samples_leaf=4, min_samples_split=6; total time=   0.0s\n",
      "[CV] END max_depth=4, min_samples_leaf=4, min_samples_split=6; total time=   0.0s\n",
      "[CV] END max_depth=4, min_samples_leaf=4, min_samples_split=6; total time=   0.0s\n",
      "[CV] END max_depth=4, min_samples_leaf=4, min_samples_split=8; total time=   0.0s\n",
      "[CV] END max_depth=4, min_samples_leaf=4, min_samples_split=8; total time=   0.0s\n",
      "[CV] END max_depth=4, min_samples_leaf=4, min_samples_split=8; total time=   0.0s\n",
      "[CV] END max_depth=4, min_samples_leaf=4, min_samples_split=8; total time=   0.0s\n",
      "[CV] END max_depth=4, min_samples_leaf=4, min_samples_split=8; total time=   0.0s\n",
      "[CV] END max_depth=4, min_samples_leaf=4, min_samples_split=10; total time=   0.0s\n",
      "[CV] END max_depth=4, min_samples_leaf=4, min_samples_split=10; total time=   0.0s\n",
      "[CV] END max_depth=4, min_samples_leaf=4, min_samples_split=10; total time=   0.0s\n",
      "[CV] END max_depth=4, min_samples_leaf=4, min_samples_split=10; total time=   0.0s\n",
      "[CV] END max_depth=4, min_samples_leaf=4, min_samples_split=10; total time=   0.0s\n",
      "[CV] END max_depth=4, min_samples_leaf=6, min_samples_split=2; total time=   0.0s\n",
      "[CV] END max_depth=4, min_samples_leaf=6, min_samples_split=2; total time=   0.0s\n",
      "[CV] END max_depth=4, min_samples_leaf=6, min_samples_split=2; total time=   0.0s\n",
      "[CV] END max_depth=4, min_samples_leaf=6, min_samples_split=2; total time=   0.0s\n",
      "[CV] END max_depth=4, min_samples_leaf=6, min_samples_split=2; total time=   0.0s\n",
      "[CV] END max_depth=4, min_samples_leaf=6, min_samples_split=4; total time=   0.0s\n",
      "[CV] END max_depth=4, min_samples_leaf=6, min_samples_split=4; total time=   0.0s\n",
      "[CV] END max_depth=4, min_samples_leaf=6, min_samples_split=4; total time=   0.0s\n",
      "[CV] END max_depth=4, min_samples_leaf=6, min_samples_split=4; total time=   0.0s\n",
      "[CV] END max_depth=4, min_samples_leaf=6, min_samples_split=4; total time=   0.0s\n",
      "[CV] END max_depth=4, min_samples_leaf=6, min_samples_split=6; total time=   0.0s\n",
      "[CV] END max_depth=4, min_samples_leaf=6, min_samples_split=6; total time=   0.0s\n",
      "[CV] END max_depth=4, min_samples_leaf=6, min_samples_split=6; total time=   0.0s\n",
      "[CV] END max_depth=4, min_samples_leaf=6, min_samples_split=6; total time=   0.0s\n",
      "[CV] END max_depth=4, min_samples_leaf=6, min_samples_split=6; total time=   0.0s\n",
      "[CV] END max_depth=4, min_samples_leaf=6, min_samples_split=8; total time=   0.0s\n",
      "[CV] END max_depth=4, min_samples_leaf=6, min_samples_split=8; total time=   0.0s\n",
      "[CV] END max_depth=4, min_samples_leaf=6, min_samples_split=8; total time=   0.0s\n",
      "[CV] END max_depth=4, min_samples_leaf=6, min_samples_split=8; total time=   0.0s\n",
      "[CV] END max_depth=4, min_samples_leaf=6, min_samples_split=8; total time=   0.0s\n",
      "[CV] END max_depth=4, min_samples_leaf=6, min_samples_split=10; total time=   0.0s\n",
      "[CV] END max_depth=4, min_samples_leaf=6, min_samples_split=10; total time=   0.0s\n",
      "[CV] END max_depth=4, min_samples_leaf=6, min_samples_split=10; total time=   0.0s\n",
      "[CV] END max_depth=4, min_samples_leaf=6, min_samples_split=10; total time=   0.0s\n",
      "[CV] END max_depth=4, min_samples_leaf=6, min_samples_split=10; total time=   0.0s\n",
      "[CV] END max_depth=4, min_samples_leaf=8, min_samples_split=2; total time=   0.0s\n",
      "[CV] END max_depth=4, min_samples_leaf=8, min_samples_split=2; total time=   0.0s\n",
      "[CV] END max_depth=4, min_samples_leaf=8, min_samples_split=2; total time=   0.0s\n",
      "[CV] END max_depth=4, min_samples_leaf=8, min_samples_split=2; total time=   0.0s\n",
      "[CV] END max_depth=4, min_samples_leaf=8, min_samples_split=2; total time=   0.0s\n",
      "[CV] END max_depth=4, min_samples_leaf=8, min_samples_split=4; total time=   0.0s\n",
      "[CV] END max_depth=4, min_samples_leaf=8, min_samples_split=4; total time=   0.0s\n",
      "[CV] END max_depth=4, min_samples_leaf=8, min_samples_split=4; total time=   0.0s\n",
      "[CV] END max_depth=4, min_samples_leaf=8, min_samples_split=4; total time=   0.0s\n",
      "[CV] END max_depth=4, min_samples_leaf=8, min_samples_split=4; total time=   0.0s\n",
      "[CV] END max_depth=4, min_samples_leaf=8, min_samples_split=6; total time=   0.0s\n",
      "[CV] END max_depth=4, min_samples_leaf=8, min_samples_split=6; total time=   0.0s\n",
      "[CV] END max_depth=4, min_samples_leaf=8, min_samples_split=6; total time=   0.0s\n",
      "[CV] END max_depth=4, min_samples_leaf=8, min_samples_split=6; total time=   0.0s\n",
      "[CV] END max_depth=4, min_samples_leaf=8, min_samples_split=6; total time=   0.0s\n",
      "[CV] END max_depth=4, min_samples_leaf=8, min_samples_split=8; total time=   0.0s\n",
      "[CV] END max_depth=4, min_samples_leaf=8, min_samples_split=8; total time=   0.0s\n",
      "[CV] END max_depth=4, min_samples_leaf=8, min_samples_split=8; total time=   0.0s\n",
      "[CV] END max_depth=4, min_samples_leaf=8, min_samples_split=8; total time=   0.0s\n",
      "[CV] END max_depth=4, min_samples_leaf=8, min_samples_split=8; total time=   0.0s\n",
      "[CV] END max_depth=4, min_samples_leaf=8, min_samples_split=10; total time=   0.0s\n",
      "[CV] END max_depth=4, min_samples_leaf=8, min_samples_split=10; total time=   0.0s\n",
      "[CV] END max_depth=4, min_samples_leaf=8, min_samples_split=10; total time=   0.0s\n",
      "[CV] END max_depth=4, min_samples_leaf=8, min_samples_split=10; total time=   0.0s\n",
      "[CV] END max_depth=4, min_samples_leaf=8, min_samples_split=10; total time=   0.0s\n",
      "[CV] END max_depth=4, min_samples_leaf=10, min_samples_split=2; total time=   0.0s\n",
      "[CV] END max_depth=4, min_samples_leaf=10, min_samples_split=2; total time=   0.0s\n",
      "[CV] END max_depth=4, min_samples_leaf=10, min_samples_split=2; total time=   0.0s\n",
      "[CV] END max_depth=4, min_samples_leaf=10, min_samples_split=2; total time=   0.0s\n",
      "[CV] END max_depth=4, min_samples_leaf=10, min_samples_split=2; total time=   0.0s\n",
      "[CV] END max_depth=4, min_samples_leaf=10, min_samples_split=4; total time=   0.0s\n",
      "[CV] END max_depth=4, min_samples_leaf=10, min_samples_split=4; total time=   0.0s\n",
      "[CV] END max_depth=4, min_samples_leaf=10, min_samples_split=4; total time=   0.0s\n",
      "[CV] END max_depth=4, min_samples_leaf=10, min_samples_split=4; total time=   0.0s\n",
      "[CV] END max_depth=4, min_samples_leaf=10, min_samples_split=4; total time=   0.0s\n",
      "[CV] END max_depth=4, min_samples_leaf=10, min_samples_split=6; total time=   0.0s\n",
      "[CV] END max_depth=4, min_samples_leaf=10, min_samples_split=6; total time=   0.0s\n",
      "[CV] END max_depth=4, min_samples_leaf=10, min_samples_split=6; total time=   0.0s\n",
      "[CV] END max_depth=4, min_samples_leaf=10, min_samples_split=6; total time=   0.0s\n",
      "[CV] END max_depth=4, min_samples_leaf=10, min_samples_split=6; total time=   0.0s\n",
      "[CV] END max_depth=4, min_samples_leaf=10, min_samples_split=8; total time=   0.0s\n",
      "[CV] END max_depth=4, min_samples_leaf=10, min_samples_split=8; total time=   0.0s\n",
      "[CV] END max_depth=4, min_samples_leaf=10, min_samples_split=8; total time=   0.0s\n",
      "[CV] END max_depth=4, min_samples_leaf=10, min_samples_split=8; total time=   0.0s\n",
      "[CV] END max_depth=4, min_samples_leaf=10, min_samples_split=8; total time=   0.0s\n",
      "[CV] END max_depth=4, min_samples_leaf=10, min_samples_split=10; total time=   0.0s\n",
      "[CV] END max_depth=4, min_samples_leaf=10, min_samples_split=10; total time=   0.0s\n",
      "[CV] END max_depth=4, min_samples_leaf=10, min_samples_split=10; total time=   0.0s\n",
      "[CV] END max_depth=4, min_samples_leaf=10, min_samples_split=10; total time=   0.0s\n",
      "[CV] END max_depth=4, min_samples_leaf=10, min_samples_split=10; total time=   0.0s\n",
      "[CV] END max_depth=6, min_samples_leaf=2, min_samples_split=2; total time=   0.0s\n",
      "[CV] END max_depth=6, min_samples_leaf=2, min_samples_split=2; total time=   0.0s\n",
      "[CV] END max_depth=6, min_samples_leaf=2, min_samples_split=2; total time=   0.0s\n",
      "[CV] END max_depth=6, min_samples_leaf=2, min_samples_split=2; total time=   0.0s\n",
      "[CV] END max_depth=6, min_samples_leaf=2, min_samples_split=2; total time=   0.0s\n",
      "[CV] END max_depth=6, min_samples_leaf=2, min_samples_split=4; total time=   0.0s\n",
      "[CV] END max_depth=6, min_samples_leaf=2, min_samples_split=4; total time=   0.0s\n",
      "[CV] END max_depth=6, min_samples_leaf=2, min_samples_split=4; total time=   0.0s\n",
      "[CV] END max_depth=6, min_samples_leaf=2, min_samples_split=4; total time=   0.0s\n",
      "[CV] END max_depth=6, min_samples_leaf=2, min_samples_split=4; total time=   0.0s\n",
      "[CV] END max_depth=6, min_samples_leaf=2, min_samples_split=6; total time=   0.0s\n",
      "[CV] END max_depth=6, min_samples_leaf=2, min_samples_split=6; total time=   0.0s\n",
      "[CV] END max_depth=6, min_samples_leaf=2, min_samples_split=6; total time=   0.0s\n",
      "[CV] END max_depth=6, min_samples_leaf=2, min_samples_split=6; total time=   0.0s\n",
      "[CV] END max_depth=6, min_samples_leaf=2, min_samples_split=6; total time=   0.0s\n",
      "[CV] END max_depth=6, min_samples_leaf=2, min_samples_split=8; total time=   0.0s\n",
      "[CV] END max_depth=6, min_samples_leaf=2, min_samples_split=8; total time=   0.0s\n",
      "[CV] END max_depth=6, min_samples_leaf=2, min_samples_split=8; total time=   0.0s\n",
      "[CV] END max_depth=6, min_samples_leaf=2, min_samples_split=8; total time=   0.0s\n",
      "[CV] END max_depth=6, min_samples_leaf=2, min_samples_split=8; total time=   0.0s\n",
      "[CV] END max_depth=6, min_samples_leaf=2, min_samples_split=10; total time=   0.0s\n",
      "[CV] END max_depth=6, min_samples_leaf=2, min_samples_split=10; total time=   0.0s\n",
      "[CV] END max_depth=6, min_samples_leaf=2, min_samples_split=10; total time=   0.0s\n",
      "[CV] END max_depth=6, min_samples_leaf=2, min_samples_split=10; total time=   0.0s\n",
      "[CV] END max_depth=6, min_samples_leaf=2, min_samples_split=10; total time=   0.0s\n",
      "[CV] END max_depth=6, min_samples_leaf=4, min_samples_split=2; total time=   0.0s\n",
      "[CV] END max_depth=6, min_samples_leaf=4, min_samples_split=2; total time=   0.0s\n",
      "[CV] END max_depth=6, min_samples_leaf=4, min_samples_split=2; total time=   0.0s\n",
      "[CV] END max_depth=6, min_samples_leaf=4, min_samples_split=2; total time=   0.0s\n",
      "[CV] END max_depth=6, min_samples_leaf=4, min_samples_split=2; total time=   0.0s\n",
      "[CV] END max_depth=6, min_samples_leaf=4, min_samples_split=4; total time=   0.0s\n",
      "[CV] END max_depth=6, min_samples_leaf=4, min_samples_split=4; total time=   0.0s\n",
      "[CV] END max_depth=6, min_samples_leaf=4, min_samples_split=4; total time=   0.0s\n",
      "[CV] END max_depth=6, min_samples_leaf=4, min_samples_split=4; total time=   0.0s\n",
      "[CV] END max_depth=6, min_samples_leaf=4, min_samples_split=4; total time=   0.0s\n",
      "[CV] END max_depth=6, min_samples_leaf=4, min_samples_split=6; total time=   0.0s\n",
      "[CV] END max_depth=6, min_samples_leaf=4, min_samples_split=6; total time=   0.0s\n",
      "[CV] END max_depth=6, min_samples_leaf=4, min_samples_split=6; total time=   0.0s\n",
      "[CV] END max_depth=6, min_samples_leaf=4, min_samples_split=6; total time=   0.0s\n",
      "[CV] END max_depth=6, min_samples_leaf=4, min_samples_split=6; total time=   0.0s\n",
      "[CV] END max_depth=6, min_samples_leaf=4, min_samples_split=8; total time=   0.0s\n",
      "[CV] END max_depth=6, min_samples_leaf=4, min_samples_split=8; total time=   0.0s\n",
      "[CV] END max_depth=6, min_samples_leaf=4, min_samples_split=8; total time=   0.0s\n",
      "[CV] END max_depth=6, min_samples_leaf=4, min_samples_split=8; total time=   0.0s\n",
      "[CV] END max_depth=6, min_samples_leaf=4, min_samples_split=8; total time=   0.0s\n",
      "[CV] END max_depth=6, min_samples_leaf=4, min_samples_split=10; total time=   0.0s\n",
      "[CV] END max_depth=6, min_samples_leaf=4, min_samples_split=10; total time=   0.0s\n",
      "[CV] END max_depth=6, min_samples_leaf=4, min_samples_split=10; total time=   0.0s\n",
      "[CV] END max_depth=6, min_samples_leaf=4, min_samples_split=10; total time=   0.0s\n",
      "[CV] END max_depth=6, min_samples_leaf=4, min_samples_split=10; total time=   0.0s\n",
      "[CV] END max_depth=6, min_samples_leaf=6, min_samples_split=2; total time=   0.0s\n",
      "[CV] END max_depth=6, min_samples_leaf=6, min_samples_split=2; total time=   0.0s\n",
      "[CV] END max_depth=6, min_samples_leaf=6, min_samples_split=2; total time=   0.0s\n",
      "[CV] END max_depth=6, min_samples_leaf=6, min_samples_split=2; total time=   0.0s\n",
      "[CV] END max_depth=6, min_samples_leaf=6, min_samples_split=2; total time=   0.0s\n",
      "[CV] END max_depth=6, min_samples_leaf=6, min_samples_split=4; total time=   0.0s\n",
      "[CV] END max_depth=6, min_samples_leaf=6, min_samples_split=4; total time=   0.0s\n",
      "[CV] END max_depth=6, min_samples_leaf=6, min_samples_split=4; total time=   0.0s\n",
      "[CV] END max_depth=6, min_samples_leaf=6, min_samples_split=4; total time=   0.0s\n",
      "[CV] END max_depth=6, min_samples_leaf=6, min_samples_split=4; total time=   0.0s\n",
      "[CV] END max_depth=6, min_samples_leaf=6, min_samples_split=6; total time=   0.0s\n",
      "[CV] END max_depth=6, min_samples_leaf=6, min_samples_split=6; total time=   0.0s\n",
      "[CV] END max_depth=6, min_samples_leaf=6, min_samples_split=6; total time=   0.0s\n",
      "[CV] END max_depth=6, min_samples_leaf=6, min_samples_split=6; total time=   0.0s\n",
      "[CV] END max_depth=6, min_samples_leaf=6, min_samples_split=6; total time=   0.0s\n",
      "[CV] END max_depth=6, min_samples_leaf=6, min_samples_split=8; total time=   0.0s\n",
      "[CV] END max_depth=6, min_samples_leaf=6, min_samples_split=8; total time=   0.0s\n",
      "[CV] END max_depth=6, min_samples_leaf=6, min_samples_split=8; total time=   0.0s\n",
      "[CV] END max_depth=6, min_samples_leaf=6, min_samples_split=8; total time=   0.0s\n",
      "[CV] END max_depth=6, min_samples_leaf=6, min_samples_split=8; total time=   0.0s\n",
      "[CV] END max_depth=6, min_samples_leaf=6, min_samples_split=10; total time=   0.0s\n",
      "[CV] END max_depth=6, min_samples_leaf=6, min_samples_split=10; total time=   0.0s\n",
      "[CV] END max_depth=6, min_samples_leaf=6, min_samples_split=10; total time=   0.0s\n",
      "[CV] END max_depth=6, min_samples_leaf=6, min_samples_split=10; total time=   0.0s\n",
      "[CV] END max_depth=6, min_samples_leaf=6, min_samples_split=10; total time=   0.0s\n",
      "[CV] END max_depth=6, min_samples_leaf=8, min_samples_split=2; total time=   0.0s\n",
      "[CV] END max_depth=6, min_samples_leaf=8, min_samples_split=2; total time=   0.0s\n",
      "[CV] END max_depth=6, min_samples_leaf=8, min_samples_split=2; total time=   0.0s\n",
      "[CV] END max_depth=6, min_samples_leaf=8, min_samples_split=2; total time=   0.0s\n",
      "[CV] END max_depth=6, min_samples_leaf=8, min_samples_split=2; total time=   0.0s\n",
      "[CV] END max_depth=6, min_samples_leaf=8, min_samples_split=4; total time=   0.0s\n",
      "[CV] END max_depth=6, min_samples_leaf=8, min_samples_split=4; total time=   0.0s\n",
      "[CV] END max_depth=6, min_samples_leaf=8, min_samples_split=4; total time=   0.0s\n",
      "[CV] END max_depth=6, min_samples_leaf=8, min_samples_split=4; total time=   0.0s\n",
      "[CV] END max_depth=6, min_samples_leaf=8, min_samples_split=4; total time=   0.0s\n",
      "[CV] END max_depth=6, min_samples_leaf=8, min_samples_split=6; total time=   0.0s\n",
      "[CV] END max_depth=6, min_samples_leaf=8, min_samples_split=6; total time=   0.0s\n",
      "[CV] END max_depth=6, min_samples_leaf=8, min_samples_split=6; total time=   0.0s\n",
      "[CV] END max_depth=6, min_samples_leaf=8, min_samples_split=6; total time=   0.0s\n",
      "[CV] END max_depth=6, min_samples_leaf=8, min_samples_split=6; total time=   0.0s\n",
      "[CV] END max_depth=6, min_samples_leaf=8, min_samples_split=8; total time=   0.0s\n",
      "[CV] END max_depth=6, min_samples_leaf=8, min_samples_split=8; total time=   0.0s\n",
      "[CV] END max_depth=6, min_samples_leaf=8, min_samples_split=8; total time=   0.0s\n",
      "[CV] END max_depth=6, min_samples_leaf=8, min_samples_split=8; total time=   0.0s\n",
      "[CV] END max_depth=6, min_samples_leaf=8, min_samples_split=8; total time=   0.0s\n",
      "[CV] END max_depth=6, min_samples_leaf=8, min_samples_split=10; total time=   0.0s\n",
      "[CV] END max_depth=6, min_samples_leaf=8, min_samples_split=10; total time=   0.0s\n",
      "[CV] END max_depth=6, min_samples_leaf=8, min_samples_split=10; total time=   0.0s\n",
      "[CV] END max_depth=6, min_samples_leaf=8, min_samples_split=10; total time=   0.0s\n",
      "[CV] END max_depth=6, min_samples_leaf=8, min_samples_split=10; total time=   0.0s\n",
      "[CV] END max_depth=6, min_samples_leaf=10, min_samples_split=2; total time=   0.0s\n",
      "[CV] END max_depth=6, min_samples_leaf=10, min_samples_split=2; total time=   0.0s\n",
      "[CV] END max_depth=6, min_samples_leaf=10, min_samples_split=2; total time=   0.0s\n",
      "[CV] END max_depth=6, min_samples_leaf=10, min_samples_split=2; total time=   0.0s\n",
      "[CV] END max_depth=6, min_samples_leaf=10, min_samples_split=2; total time=   0.0s\n",
      "[CV] END max_depth=6, min_samples_leaf=10, min_samples_split=4; total time=   0.0s\n",
      "[CV] END max_depth=6, min_samples_leaf=10, min_samples_split=4; total time=   0.0s\n",
      "[CV] END max_depth=6, min_samples_leaf=10, min_samples_split=4; total time=   0.0s\n",
      "[CV] END max_depth=6, min_samples_leaf=10, min_samples_split=4; total time=   0.0s\n",
      "[CV] END max_depth=6, min_samples_leaf=10, min_samples_split=4; total time=   0.0s\n",
      "[CV] END max_depth=6, min_samples_leaf=10, min_samples_split=6; total time=   0.0s\n",
      "[CV] END max_depth=6, min_samples_leaf=10, min_samples_split=6; total time=   0.0s\n",
      "[CV] END max_depth=6, min_samples_leaf=10, min_samples_split=6; total time=   0.0s\n",
      "[CV] END max_depth=6, min_samples_leaf=10, min_samples_split=6; total time=   0.0s\n",
      "[CV] END max_depth=6, min_samples_leaf=10, min_samples_split=6; total time=   0.0s\n",
      "[CV] END max_depth=6, min_samples_leaf=10, min_samples_split=8; total time=   0.0s\n",
      "[CV] END max_depth=6, min_samples_leaf=10, min_samples_split=8; total time=   0.0s\n",
      "[CV] END max_depth=6, min_samples_leaf=10, min_samples_split=8; total time=   0.0s\n",
      "[CV] END max_depth=6, min_samples_leaf=10, min_samples_split=8; total time=   0.0s\n",
      "[CV] END max_depth=6, min_samples_leaf=10, min_samples_split=8; total time=   0.0s\n",
      "[CV] END max_depth=6, min_samples_leaf=10, min_samples_split=10; total time=   0.0s\n",
      "[CV] END max_depth=6, min_samples_leaf=10, min_samples_split=10; total time=   0.0s\n",
      "[CV] END max_depth=6, min_samples_leaf=10, min_samples_split=10; total time=   0.0s\n",
      "[CV] END max_depth=6, min_samples_leaf=10, min_samples_split=10; total time=   0.0s\n",
      "[CV] END max_depth=6, min_samples_leaf=10, min_samples_split=10; total time=   0.0s\n"
     ]
    },
    {
     "data": {
      "text/plain": "GridSearchCV(cv=5, estimator=DecisionTreeClassifier(),\n             param_grid={'max_depth': [2, 4, 6],\n                         'min_samples_leaf': [2, 4, 6, 8, 10],\n                         'min_samples_split': [2, 4, 6, 8, 10]},\n             scoring='accuracy', verbose=2)",
      "text/html": "<style>#sk-container-id-2 {color: black;background-color: white;}#sk-container-id-2 pre{padding: 0;}#sk-container-id-2 div.sk-toggleable {background-color: white;}#sk-container-id-2 label.sk-toggleable__label {cursor: pointer;display: block;width: 100%;margin-bottom: 0;padding: 0.3em;box-sizing: border-box;text-align: center;}#sk-container-id-2 label.sk-toggleable__label-arrow:before {content: \"▸\";float: left;margin-right: 0.25em;color: #696969;}#sk-container-id-2 label.sk-toggleable__label-arrow:hover:before {color: black;}#sk-container-id-2 div.sk-estimator:hover label.sk-toggleable__label-arrow:before {color: black;}#sk-container-id-2 div.sk-toggleable__content {max-height: 0;max-width: 0;overflow: hidden;text-align: left;background-color: #f0f8ff;}#sk-container-id-2 div.sk-toggleable__content pre {margin: 0.2em;color: black;border-radius: 0.25em;background-color: #f0f8ff;}#sk-container-id-2 input.sk-toggleable__control:checked~div.sk-toggleable__content {max-height: 200px;max-width: 100%;overflow: auto;}#sk-container-id-2 input.sk-toggleable__control:checked~label.sk-toggleable__label-arrow:before {content: \"▾\";}#sk-container-id-2 div.sk-estimator input.sk-toggleable__control:checked~label.sk-toggleable__label {background-color: #d4ebff;}#sk-container-id-2 div.sk-label input.sk-toggleable__control:checked~label.sk-toggleable__label {background-color: #d4ebff;}#sk-container-id-2 input.sk-hidden--visually {border: 0;clip: rect(1px 1px 1px 1px);clip: rect(1px, 1px, 1px, 1px);height: 1px;margin: -1px;overflow: hidden;padding: 0;position: absolute;width: 1px;}#sk-container-id-2 div.sk-estimator {font-family: monospace;background-color: #f0f8ff;border: 1px dotted black;border-radius: 0.25em;box-sizing: border-box;margin-bottom: 0.5em;}#sk-container-id-2 div.sk-estimator:hover {background-color: #d4ebff;}#sk-container-id-2 div.sk-parallel-item::after {content: \"\";width: 100%;border-bottom: 1px solid gray;flex-grow: 1;}#sk-container-id-2 div.sk-label:hover label.sk-toggleable__label {background-color: #d4ebff;}#sk-container-id-2 div.sk-serial::before {content: \"\";position: absolute;border-left: 1px solid gray;box-sizing: border-box;top: 0;bottom: 0;left: 50%;z-index: 0;}#sk-container-id-2 div.sk-serial {display: flex;flex-direction: column;align-items: center;background-color: white;padding-right: 0.2em;padding-left: 0.2em;position: relative;}#sk-container-id-2 div.sk-item {position: relative;z-index: 1;}#sk-container-id-2 div.sk-parallel {display: flex;align-items: stretch;justify-content: center;background-color: white;position: relative;}#sk-container-id-2 div.sk-item::before, #sk-container-id-2 div.sk-parallel-item::before {content: \"\";position: absolute;border-left: 1px solid gray;box-sizing: border-box;top: 0;bottom: 0;left: 50%;z-index: -1;}#sk-container-id-2 div.sk-parallel-item {display: flex;flex-direction: column;z-index: 1;position: relative;background-color: white;}#sk-container-id-2 div.sk-parallel-item:first-child::after {align-self: flex-end;width: 50%;}#sk-container-id-2 div.sk-parallel-item:last-child::after {align-self: flex-start;width: 50%;}#sk-container-id-2 div.sk-parallel-item:only-child::after {width: 0;}#sk-container-id-2 div.sk-dashed-wrapped {border: 1px dashed gray;margin: 0 0.4em 0.5em 0.4em;box-sizing: border-box;padding-bottom: 0.4em;background-color: white;}#sk-container-id-2 div.sk-label label {font-family: monospace;font-weight: bold;display: inline-block;line-height: 1.2em;}#sk-container-id-2 div.sk-label-container {text-align: center;}#sk-container-id-2 div.sk-container {/* jupyter's `normalize.less` sets `[hidden] { display: none; }` but bootstrap.min.css set `[hidden] { display: none !important; }` so we also need the `!important` here to be able to override the default hidden behavior on the sphinx rendered scikit-learn.org. See: https://github.com/scikit-learn/scikit-learn/issues/21755 */display: inline-block !important;position: relative;}#sk-container-id-2 div.sk-text-repr-fallback {display: none;}</style><div id=\"sk-container-id-2\" class=\"sk-top-container\"><div class=\"sk-text-repr-fallback\"><pre>GridSearchCV(cv=5, estimator=DecisionTreeClassifier(),\n             param_grid={&#x27;max_depth&#x27;: [2, 4, 6],\n                         &#x27;min_samples_leaf&#x27;: [2, 4, 6, 8, 10],\n                         &#x27;min_samples_split&#x27;: [2, 4, 6, 8, 10]},\n             scoring=&#x27;accuracy&#x27;, verbose=2)</pre><b>In a Jupyter environment, please rerun this cell to show the HTML representation or trust the notebook. <br />On GitHub, the HTML representation is unable to render, please try loading this page with nbviewer.org.</b></div><div class=\"sk-container\" hidden><div class=\"sk-item sk-dashed-wrapped\"><div class=\"sk-label-container\"><div class=\"sk-label sk-toggleable\"><input class=\"sk-toggleable__control sk-hidden--visually\" id=\"sk-estimator-id-4\" type=\"checkbox\" ><label for=\"sk-estimator-id-4\" class=\"sk-toggleable__label sk-toggleable__label-arrow\">GridSearchCV</label><div class=\"sk-toggleable__content\"><pre>GridSearchCV(cv=5, estimator=DecisionTreeClassifier(),\n             param_grid={&#x27;max_depth&#x27;: [2, 4, 6],\n                         &#x27;min_samples_leaf&#x27;: [2, 4, 6, 8, 10],\n                         &#x27;min_samples_split&#x27;: [2, 4, 6, 8, 10]},\n             scoring=&#x27;accuracy&#x27;, verbose=2)</pre></div></div></div><div class=\"sk-parallel\"><div class=\"sk-parallel-item\"><div class=\"sk-item\"><div class=\"sk-label-container\"><div class=\"sk-label sk-toggleable\"><input class=\"sk-toggleable__control sk-hidden--visually\" id=\"sk-estimator-id-5\" type=\"checkbox\" ><label for=\"sk-estimator-id-5\" class=\"sk-toggleable__label sk-toggleable__label-arrow\">estimator: DecisionTreeClassifier</label><div class=\"sk-toggleable__content\"><pre>DecisionTreeClassifier()</pre></div></div></div><div class=\"sk-serial\"><div class=\"sk-item\"><div class=\"sk-estimator sk-toggleable\"><input class=\"sk-toggleable__control sk-hidden--visually\" id=\"sk-estimator-id-6\" type=\"checkbox\" ><label for=\"sk-estimator-id-6\" class=\"sk-toggleable__label sk-toggleable__label-arrow\">DecisionTreeClassifier</label><div class=\"sk-toggleable__content\"><pre>DecisionTreeClassifier()</pre></div></div></div></div></div></div></div></div></div></div>"
     },
     "execution_count": 38,
     "metadata": {},
     "output_type": "execute_result"
    }
   ],
   "source": [
    "grid.fit(X_train_eng, y_train)"
   ],
   "metadata": {
    "collapsed": false
   }
  },
  {
   "cell_type": "code",
   "execution_count": null,
   "outputs": [],
   "source": [
    "print(grid.best_params_)\n",
    "print(grid.best_score_)"
   ],
   "metadata": {
    "collapsed": false
   }
  },
  {
   "cell_type": "code",
   "execution_count": 40,
   "outputs": [],
   "source": [
    "dt = DecisionTreeClassifier(max_depth=4, min_samples_leaf=2, min_samples_split=2)\n",
    "\n",
    "def dtf(X,y,dt):\n",
    "    dt = dt.fit(X, y)\n",
    "    dt_results = X.copy()\n",
    "    dt_results['y_pred'] = dt.predict(X)\n",
    "    dt_results['y_real'] = y\n",
    "    dt_results['y_prob'] = dt.predict_proba(X)[:,1]\n",
    "    dt_results['y_pred'] = np.where(dt_results['y_prob'] > 0.15, 1, 0)\n",
    "    return dt_results"
   ],
   "metadata": {
    "collapsed": false
   }
  },
  {
   "cell_type": "code",
   "execution_count": 41,
   "outputs": [
    {
     "name": "stdout",
     "output_type": "stream",
     "text": [
      "The confusion matrix for your predictions is:\n",
      "[[9511  631]\n",
      " [ 455  196]] \n",
      "\n",
      "The accuracy of your model is: 0.8993792272769388\n",
      "The recall of your model is: 0.3010752688172043\n",
      "The precision of your model is: 0.2370012091898428\n",
      "The F1-score of your model is: 0.2652232746955345\n",
      "The ROC-AUC-score of your model is: 0.6194293717385173\n"
     ]
    },
    {
     "data": {
      "text/plain": "{'fit_time': array([0.03690577, 0.03356838, 0.03800201, 0.03710723, 0.03471494]),\n 'score_time': array([0.00953221, 0.00997114, 0.01039028, 0.010216  , 0.00908852]),\n 'test_accuracy': array([0.94210283, 0.94210283, 0.94071329, 0.942076  , 0.94022243]),\n 'test_f1': array([0.07407407, 0.10071942, 0.05882353, 0.10071942, 0.01526718]),\n 'test_roc_auc': array([0.80302726, 0.82633923, 0.81730205, 0.807423  , 0.81782165]),\n 'test_matthews_corrcoef': array([0.19034063, 0.1951655 , 0.14920378, 0.195161  , 0.08504274])}"
     },
     "execution_count": 41,
     "metadata": {},
     "output_type": "execute_result"
    }
   ],
   "source": [
    "dt_results = dtf(X_train_eng, y_train,dt)\n",
    "get_results(y_train,dt_results['y_pred'])\n",
    "dt_score = cross_validate(dt, X_train_eng, y_train, cv=5, scoring = ['accuracy', 'f1','roc_auc','matthews_corrcoef'])\n",
    "dt_score"
   ],
   "metadata": {
    "collapsed": false
   }
  },
  {
   "cell_type": "markdown",
   "source": [
    "### 8.3 RANDOM FORESTS"
   ],
   "metadata": {
    "collapsed": false
   }
  },
  {
   "cell_type": "code",
   "execution_count": 42,
   "outputs": [],
   "source": [
    "#DETERMINING BEST PARAMETERS FOR RANDOM FOREST CLASSIFIER\n",
    "\n",
    "gs = GridSearchCV(RandomForestClassifier(),\n",
    "                  param_grid={'max_depth': [2, 4, 6, 8],\n",
    "                              'n_estimators': [10, 25, 50]},\n",
    "                  cv=5)"
   ],
   "metadata": {
    "collapsed": false
   }
  },
  {
   "cell_type": "code",
   "execution_count": 43,
   "outputs": [
    {
     "data": {
      "text/plain": "GridSearchCV(cv=5, estimator=RandomForestClassifier(),\n             param_grid={'max_depth': [2, 4, 6, 8],\n                         'n_estimators': [10, 25, 50]})",
      "text/html": "<style>#sk-container-id-3 {color: black;background-color: white;}#sk-container-id-3 pre{padding: 0;}#sk-container-id-3 div.sk-toggleable {background-color: white;}#sk-container-id-3 label.sk-toggleable__label {cursor: pointer;display: block;width: 100%;margin-bottom: 0;padding: 0.3em;box-sizing: border-box;text-align: center;}#sk-container-id-3 label.sk-toggleable__label-arrow:before {content: \"▸\";float: left;margin-right: 0.25em;color: #696969;}#sk-container-id-3 label.sk-toggleable__label-arrow:hover:before {color: black;}#sk-container-id-3 div.sk-estimator:hover label.sk-toggleable__label-arrow:before {color: black;}#sk-container-id-3 div.sk-toggleable__content {max-height: 0;max-width: 0;overflow: hidden;text-align: left;background-color: #f0f8ff;}#sk-container-id-3 div.sk-toggleable__content pre {margin: 0.2em;color: black;border-radius: 0.25em;background-color: #f0f8ff;}#sk-container-id-3 input.sk-toggleable__control:checked~div.sk-toggleable__content {max-height: 200px;max-width: 100%;overflow: auto;}#sk-container-id-3 input.sk-toggleable__control:checked~label.sk-toggleable__label-arrow:before {content: \"▾\";}#sk-container-id-3 div.sk-estimator input.sk-toggleable__control:checked~label.sk-toggleable__label {background-color: #d4ebff;}#sk-container-id-3 div.sk-label input.sk-toggleable__control:checked~label.sk-toggleable__label {background-color: #d4ebff;}#sk-container-id-3 input.sk-hidden--visually {border: 0;clip: rect(1px 1px 1px 1px);clip: rect(1px, 1px, 1px, 1px);height: 1px;margin: -1px;overflow: hidden;padding: 0;position: absolute;width: 1px;}#sk-container-id-3 div.sk-estimator {font-family: monospace;background-color: #f0f8ff;border: 1px dotted black;border-radius: 0.25em;box-sizing: border-box;margin-bottom: 0.5em;}#sk-container-id-3 div.sk-estimator:hover {background-color: #d4ebff;}#sk-container-id-3 div.sk-parallel-item::after {content: \"\";width: 100%;border-bottom: 1px solid gray;flex-grow: 1;}#sk-container-id-3 div.sk-label:hover label.sk-toggleable__label {background-color: #d4ebff;}#sk-container-id-3 div.sk-serial::before {content: \"\";position: absolute;border-left: 1px solid gray;box-sizing: border-box;top: 0;bottom: 0;left: 50%;z-index: 0;}#sk-container-id-3 div.sk-serial {display: flex;flex-direction: column;align-items: center;background-color: white;padding-right: 0.2em;padding-left: 0.2em;position: relative;}#sk-container-id-3 div.sk-item {position: relative;z-index: 1;}#sk-container-id-3 div.sk-parallel {display: flex;align-items: stretch;justify-content: center;background-color: white;position: relative;}#sk-container-id-3 div.sk-item::before, #sk-container-id-3 div.sk-parallel-item::before {content: \"\";position: absolute;border-left: 1px solid gray;box-sizing: border-box;top: 0;bottom: 0;left: 50%;z-index: -1;}#sk-container-id-3 div.sk-parallel-item {display: flex;flex-direction: column;z-index: 1;position: relative;background-color: white;}#sk-container-id-3 div.sk-parallel-item:first-child::after {align-self: flex-end;width: 50%;}#sk-container-id-3 div.sk-parallel-item:last-child::after {align-self: flex-start;width: 50%;}#sk-container-id-3 div.sk-parallel-item:only-child::after {width: 0;}#sk-container-id-3 div.sk-dashed-wrapped {border: 1px dashed gray;margin: 0 0.4em 0.5em 0.4em;box-sizing: border-box;padding-bottom: 0.4em;background-color: white;}#sk-container-id-3 div.sk-label label {font-family: monospace;font-weight: bold;display: inline-block;line-height: 1.2em;}#sk-container-id-3 div.sk-label-container {text-align: center;}#sk-container-id-3 div.sk-container {/* jupyter's `normalize.less` sets `[hidden] { display: none; }` but bootstrap.min.css set `[hidden] { display: none !important; }` so we also need the `!important` here to be able to override the default hidden behavior on the sphinx rendered scikit-learn.org. See: https://github.com/scikit-learn/scikit-learn/issues/21755 */display: inline-block !important;position: relative;}#sk-container-id-3 div.sk-text-repr-fallback {display: none;}</style><div id=\"sk-container-id-3\" class=\"sk-top-container\"><div class=\"sk-text-repr-fallback\"><pre>GridSearchCV(cv=5, estimator=RandomForestClassifier(),\n             param_grid={&#x27;max_depth&#x27;: [2, 4, 6, 8],\n                         &#x27;n_estimators&#x27;: [10, 25, 50]})</pre><b>In a Jupyter environment, please rerun this cell to show the HTML representation or trust the notebook. <br />On GitHub, the HTML representation is unable to render, please try loading this page with nbviewer.org.</b></div><div class=\"sk-container\" hidden><div class=\"sk-item sk-dashed-wrapped\"><div class=\"sk-label-container\"><div class=\"sk-label sk-toggleable\"><input class=\"sk-toggleable__control sk-hidden--visually\" id=\"sk-estimator-id-7\" type=\"checkbox\" ><label for=\"sk-estimator-id-7\" class=\"sk-toggleable__label sk-toggleable__label-arrow\">GridSearchCV</label><div class=\"sk-toggleable__content\"><pre>GridSearchCV(cv=5, estimator=RandomForestClassifier(),\n             param_grid={&#x27;max_depth&#x27;: [2, 4, 6, 8],\n                         &#x27;n_estimators&#x27;: [10, 25, 50]})</pre></div></div></div><div class=\"sk-parallel\"><div class=\"sk-parallel-item\"><div class=\"sk-item\"><div class=\"sk-label-container\"><div class=\"sk-label sk-toggleable\"><input class=\"sk-toggleable__control sk-hidden--visually\" id=\"sk-estimator-id-8\" type=\"checkbox\" ><label for=\"sk-estimator-id-8\" class=\"sk-toggleable__label sk-toggleable__label-arrow\">estimator: RandomForestClassifier</label><div class=\"sk-toggleable__content\"><pre>RandomForestClassifier()</pre></div></div></div><div class=\"sk-serial\"><div class=\"sk-item\"><div class=\"sk-estimator sk-toggleable\"><input class=\"sk-toggleable__control sk-hidden--visually\" id=\"sk-estimator-id-9\" type=\"checkbox\" ><label for=\"sk-estimator-id-9\" class=\"sk-toggleable__label sk-toggleable__label-arrow\">RandomForestClassifier</label><div class=\"sk-toggleable__content\"><pre>RandomForestClassifier()</pre></div></div></div></div></div></div></div></div></div></div>"
     },
     "execution_count": 43,
     "metadata": {},
     "output_type": "execute_result"
    }
   ],
   "source": [
    "gs.fit(X_train_eng, y_train)"
   ],
   "metadata": {
    "collapsed": false
   }
  },
  {
   "cell_type": "code",
   "execution_count": 44,
   "outputs": [
    {
     "name": "stdout",
     "output_type": "stream",
     "text": [
      "{'max_depth': 2, 'n_estimators': 10}\n",
      "0.9396831420168865\n"
     ]
    }
   ],
   "source": [
    "print(gs.best_params_)\n",
    "print(gs.best_score_)"
   ],
   "metadata": {
    "collapsed": false
   }
  },
  {
   "cell_type": "code",
   "execution_count": 45,
   "outputs": [],
   "source": [
    "rf1 = RandomForestClassifier(n_estimators= 10, max_depth= 2)\n",
    "def rff(X,y):\n",
    "    rf1.fit(X, y)\n",
    "    rf_results = X.copy()\n",
    "    rf_results['y_pred'] = rf1.predict(X)\n",
    "    rf_results['y_real'] = y\n",
    "    rf_results['y_prob'] = rf1.predict_proba(X)[:,1]\n",
    "    rf_results['y_pred'] = np.where(rf_results['y_prob'] > 0.12, 1, 0)\n",
    "    return rf_results"
   ],
   "metadata": {
    "collapsed": false
   }
  },
  {
   "cell_type": "code",
   "execution_count": 46,
   "outputs": [
    {
     "name": "stdout",
     "output_type": "stream",
     "text": [
      "The confusion matrix for your predictions is:\n",
      "[[10130    12]\n",
      " [  642     9]] \n",
      "\n",
      "The accuracy of your model is: 0.939405170017604\n",
      "The recall of your model is: 0.013824884792626729\n",
      "The precision of your model is: 0.42857142857142855\n",
      "The F1-score of your model is: 0.026785714285714288\n",
      "The ROC-AUC-score of your model is: 0.5063208431062325\n"
     ]
    },
    {
     "data": {
      "text/plain": "{'fit_time': array([0.0396626 , 0.04074931, 0.03886986, 0.03906703, 0.03943682]),\n 'score_time': array([0.01305962, 0.01300287, 0.01263094, 0.01187825, 0.01363587]),\n 'test_accuracy': array([0.93978694, 0.93978694, 0.93932376, 0.93975904, 0.93975904]),\n 'test_f1': array([0., 0., 0., 0., 0.]),\n 'test_roc_auc': array([0.73894871, 0.70472002, 0.77000241, 0.69906881, 0.75249583]),\n 'test_matthews_corrcoef': array([0., 0., 0., 0., 0.])}"
     },
     "execution_count": 46,
     "metadata": {},
     "output_type": "execute_result"
    }
   ],
   "source": [
    "rf_results = rff(X_train_eng, y_train)\n",
    "get_results(y_train,rf_results['y_pred'])\n",
    "rf_score = cross_validate(rf1, X_train_eng, y_train, cv=5, scoring = ['accuracy', 'f1','roc_auc','matthews_corrcoef'])\n",
    "rf_score"
   ],
   "metadata": {
    "collapsed": false
   }
  },
  {
   "cell_type": "markdown",
   "source": [
    "#### Upon inspection of these results, we are yielding a high accuracy however low recall, precision and F1 score. The ROC AUC score is close to 0.5 also, which indicates randomness in results. We can identify this with an imbalanced dataset.\n",
    "\n",
    "### How can we tackle this?\n",
    "- Downsample through resample?\n",
    "- Upsample using SMOTE?\n"
   ],
   "metadata": {
    "collapsed": false
   }
  },
  {
   "cell_type": "markdown",
   "source": [
    "### 9. DOWNSAMPLING"
   ],
   "metadata": {
    "collapsed": false
   }
  },
  {
   "cell_type": "code",
   "execution_count": 47,
   "outputs": [
    {
     "name": "stdout",
     "output_type": "stream",
     "text": [
      "(923, 32)\n"
     ]
    }
   ],
   "source": [
    "nf_downsample = resample(df_nof,\n",
    "                          replace=True,\n",
    "                          n_samples=len(df_f),\n",
    "                          random_state=42)\n",
    "\n",
    "print(nf_downsample.shape)"
   ],
   "metadata": {
    "collapsed": false
   }
  },
  {
   "cell_type": "code",
   "execution_count": 48,
   "outputs": [],
   "source": [
    "df_downsampled = pd.concat([nf_downsample, df_f])"
   ],
   "metadata": {
    "collapsed": false
   }
  },
  {
   "cell_type": "code",
   "execution_count": 49,
   "outputs": [],
   "source": [
    "\n",
    "df_eng_ds=ohe(df_downsampled)"
   ],
   "metadata": {
    "collapsed": false
   }
  },
  {
   "cell_type": "markdown",
   "source": [
    "#### Now we need to split feature columns out once again and apply a train test split."
   ],
   "metadata": {
    "collapsed": false
   }
  },
  {
   "cell_type": "code",
   "execution_count": 50,
   "outputs": [],
   "source": [
    "X1 = df_eng_ds.drop(columns=['FraudFound_P'])\n",
    "y2 = df_eng_ds['FraudFound_P']\n",
    "#APPLYING TRAIN TEST SPLIT\n",
    "\n",
    "X_train1, X_test1, y_train1, y_test1 = train_test_split(X1, y2, test_size=0.20, random_state=45)"
   ],
   "metadata": {
    "collapsed": false
   }
  },
  {
   "cell_type": "markdown",
   "source": [
    "## 10. MODELS WITH DOWNSAMPLING APPLIED"
   ],
   "metadata": {
    "collapsed": false
   }
  },
  {
   "cell_type": "markdown",
   "source": [
    "### 10.1 LOGISTIC REGRESSION"
   ],
   "metadata": {
    "collapsed": false
   }
  },
  {
   "cell_type": "code",
   "execution_count": 51,
   "outputs": [],
   "source": [
    "grid_search = GridSearchCV(estimator = LogisticRegression(),\n",
    "                           param_grid = {'max_iter': [75, 150 , 200]},\n",
    "                           scoring = 'accuracy',\n",
    "                           cv = 5,\n",
    "                           verbose=0)"
   ],
   "metadata": {
    "collapsed": false
   }
  },
  {
   "cell_type": "code",
   "execution_count": 52,
   "outputs": [
    {
     "name": "stderr",
     "output_type": "stream",
     "text": [
      "C:\\Users\\mites\\anaconda3\\lib\\site-packages\\sklearn\\linear_model\\_logistic.py:458: ConvergenceWarning: lbfgs failed to converge (status=1):\n",
      "STOP: TOTAL NO. of ITERATIONS REACHED LIMIT.\n",
      "\n",
      "Increase the number of iterations (max_iter) or scale the data as shown in:\n",
      "    https://scikit-learn.org/stable/modules/preprocessing.html\n",
      "Please also refer to the documentation for alternative solver options:\n",
      "    https://scikit-learn.org/stable/modules/linear_model.html#logistic-regression\n",
      "  n_iter_i = _check_optimize_result(\n",
      "C:\\Users\\mites\\anaconda3\\lib\\site-packages\\sklearn\\linear_model\\_logistic.py:458: ConvergenceWarning: lbfgs failed to converge (status=1):\n",
      "STOP: TOTAL NO. of ITERATIONS REACHED LIMIT.\n",
      "\n",
      "Increase the number of iterations (max_iter) or scale the data as shown in:\n",
      "    https://scikit-learn.org/stable/modules/preprocessing.html\n",
      "Please also refer to the documentation for alternative solver options:\n",
      "    https://scikit-learn.org/stable/modules/linear_model.html#logistic-regression\n",
      "  n_iter_i = _check_optimize_result(\n",
      "C:\\Users\\mites\\anaconda3\\lib\\site-packages\\sklearn\\linear_model\\_logistic.py:458: ConvergenceWarning: lbfgs failed to converge (status=1):\n",
      "STOP: TOTAL NO. of ITERATIONS REACHED LIMIT.\n",
      "\n",
      "Increase the number of iterations (max_iter) or scale the data as shown in:\n",
      "    https://scikit-learn.org/stable/modules/preprocessing.html\n",
      "Please also refer to the documentation for alternative solver options:\n",
      "    https://scikit-learn.org/stable/modules/linear_model.html#logistic-regression\n",
      "  n_iter_i = _check_optimize_result(\n",
      "C:\\Users\\mites\\anaconda3\\lib\\site-packages\\sklearn\\linear_model\\_logistic.py:458: ConvergenceWarning: lbfgs failed to converge (status=1):\n",
      "STOP: TOTAL NO. of ITERATIONS REACHED LIMIT.\n",
      "\n",
      "Increase the number of iterations (max_iter) or scale the data as shown in:\n",
      "    https://scikit-learn.org/stable/modules/preprocessing.html\n",
      "Please also refer to the documentation for alternative solver options:\n",
      "    https://scikit-learn.org/stable/modules/linear_model.html#logistic-regression\n",
      "  n_iter_i = _check_optimize_result(\n",
      "C:\\Users\\mites\\anaconda3\\lib\\site-packages\\sklearn\\linear_model\\_logistic.py:458: ConvergenceWarning: lbfgs failed to converge (status=1):\n",
      "STOP: TOTAL NO. of ITERATIONS REACHED LIMIT.\n",
      "\n",
      "Increase the number of iterations (max_iter) or scale the data as shown in:\n",
      "    https://scikit-learn.org/stable/modules/preprocessing.html\n",
      "Please also refer to the documentation for alternative solver options:\n",
      "    https://scikit-learn.org/stable/modules/linear_model.html#logistic-regression\n",
      "  n_iter_i = _check_optimize_result(\n",
      "C:\\Users\\mites\\anaconda3\\lib\\site-packages\\sklearn\\linear_model\\_logistic.py:458: ConvergenceWarning: lbfgs failed to converge (status=1):\n",
      "STOP: TOTAL NO. of ITERATIONS REACHED LIMIT.\n",
      "\n",
      "Increase the number of iterations (max_iter) or scale the data as shown in:\n",
      "    https://scikit-learn.org/stable/modules/preprocessing.html\n",
      "Please also refer to the documentation for alternative solver options:\n",
      "    https://scikit-learn.org/stable/modules/linear_model.html#logistic-regression\n",
      "  n_iter_i = _check_optimize_result(\n",
      "C:\\Users\\mites\\anaconda3\\lib\\site-packages\\sklearn\\linear_model\\_logistic.py:458: ConvergenceWarning: lbfgs failed to converge (status=1):\n",
      "STOP: TOTAL NO. of ITERATIONS REACHED LIMIT.\n",
      "\n",
      "Increase the number of iterations (max_iter) or scale the data as shown in:\n",
      "    https://scikit-learn.org/stable/modules/preprocessing.html\n",
      "Please also refer to the documentation for alternative solver options:\n",
      "    https://scikit-learn.org/stable/modules/linear_model.html#logistic-regression\n",
      "  n_iter_i = _check_optimize_result(\n",
      "C:\\Users\\mites\\anaconda3\\lib\\site-packages\\sklearn\\linear_model\\_logistic.py:458: ConvergenceWarning: lbfgs failed to converge (status=1):\n",
      "STOP: TOTAL NO. of ITERATIONS REACHED LIMIT.\n",
      "\n",
      "Increase the number of iterations (max_iter) or scale the data as shown in:\n",
      "    https://scikit-learn.org/stable/modules/preprocessing.html\n",
      "Please also refer to the documentation for alternative solver options:\n",
      "    https://scikit-learn.org/stable/modules/linear_model.html#logistic-regression\n",
      "  n_iter_i = _check_optimize_result(\n",
      "C:\\Users\\mites\\anaconda3\\lib\\site-packages\\sklearn\\linear_model\\_logistic.py:458: ConvergenceWarning: lbfgs failed to converge (status=1):\n",
      "STOP: TOTAL NO. of ITERATIONS REACHED LIMIT.\n",
      "\n",
      "Increase the number of iterations (max_iter) or scale the data as shown in:\n",
      "    https://scikit-learn.org/stable/modules/preprocessing.html\n",
      "Please also refer to the documentation for alternative solver options:\n",
      "    https://scikit-learn.org/stable/modules/linear_model.html#logistic-regression\n",
      "  n_iter_i = _check_optimize_result(\n",
      "C:\\Users\\mites\\anaconda3\\lib\\site-packages\\sklearn\\linear_model\\_logistic.py:458: ConvergenceWarning: lbfgs failed to converge (status=1):\n",
      "STOP: TOTAL NO. of ITERATIONS REACHED LIMIT.\n",
      "\n",
      "Increase the number of iterations (max_iter) or scale the data as shown in:\n",
      "    https://scikit-learn.org/stable/modules/preprocessing.html\n",
      "Please also refer to the documentation for alternative solver options:\n",
      "    https://scikit-learn.org/stable/modules/linear_model.html#logistic-regression\n",
      "  n_iter_i = _check_optimize_result(\n",
      "C:\\Users\\mites\\anaconda3\\lib\\site-packages\\sklearn\\linear_model\\_logistic.py:458: ConvergenceWarning: lbfgs failed to converge (status=1):\n",
      "STOP: TOTAL NO. of ITERATIONS REACHED LIMIT.\n",
      "\n",
      "Increase the number of iterations (max_iter) or scale the data as shown in:\n",
      "    https://scikit-learn.org/stable/modules/preprocessing.html\n",
      "Please also refer to the documentation for alternative solver options:\n",
      "    https://scikit-learn.org/stable/modules/linear_model.html#logistic-regression\n",
      "  n_iter_i = _check_optimize_result(\n",
      "C:\\Users\\mites\\anaconda3\\lib\\site-packages\\sklearn\\linear_model\\_logistic.py:458: ConvergenceWarning: lbfgs failed to converge (status=1):\n",
      "STOP: TOTAL NO. of ITERATIONS REACHED LIMIT.\n",
      "\n",
      "Increase the number of iterations (max_iter) or scale the data as shown in:\n",
      "    https://scikit-learn.org/stable/modules/preprocessing.html\n",
      "Please also refer to the documentation for alternative solver options:\n",
      "    https://scikit-learn.org/stable/modules/linear_model.html#logistic-regression\n",
      "  n_iter_i = _check_optimize_result(\n",
      "C:\\Users\\mites\\anaconda3\\lib\\site-packages\\sklearn\\linear_model\\_logistic.py:458: ConvergenceWarning: lbfgs failed to converge (status=1):\n",
      "STOP: TOTAL NO. of ITERATIONS REACHED LIMIT.\n",
      "\n",
      "Increase the number of iterations (max_iter) or scale the data as shown in:\n",
      "    https://scikit-learn.org/stable/modules/preprocessing.html\n",
      "Please also refer to the documentation for alternative solver options:\n",
      "    https://scikit-learn.org/stable/modules/linear_model.html#logistic-regression\n",
      "  n_iter_i = _check_optimize_result(\n",
      "C:\\Users\\mites\\anaconda3\\lib\\site-packages\\sklearn\\linear_model\\_logistic.py:458: ConvergenceWarning: lbfgs failed to converge (status=1):\n",
      "STOP: TOTAL NO. of ITERATIONS REACHED LIMIT.\n",
      "\n",
      "Increase the number of iterations (max_iter) or scale the data as shown in:\n",
      "    https://scikit-learn.org/stable/modules/preprocessing.html\n",
      "Please also refer to the documentation for alternative solver options:\n",
      "    https://scikit-learn.org/stable/modules/linear_model.html#logistic-regression\n",
      "  n_iter_i = _check_optimize_result(\n",
      "C:\\Users\\mites\\anaconda3\\lib\\site-packages\\sklearn\\linear_model\\_logistic.py:458: ConvergenceWarning: lbfgs failed to converge (status=1):\n",
      "STOP: TOTAL NO. of ITERATIONS REACHED LIMIT.\n",
      "\n",
      "Increase the number of iterations (max_iter) or scale the data as shown in:\n",
      "    https://scikit-learn.org/stable/modules/preprocessing.html\n",
      "Please also refer to the documentation for alternative solver options:\n",
      "    https://scikit-learn.org/stable/modules/linear_model.html#logistic-regression\n",
      "  n_iter_i = _check_optimize_result(\n",
      "C:\\Users\\mites\\anaconda3\\lib\\site-packages\\sklearn\\linear_model\\_logistic.py:458: ConvergenceWarning: lbfgs failed to converge (status=1):\n",
      "STOP: TOTAL NO. of ITERATIONS REACHED LIMIT.\n",
      "\n",
      "Increase the number of iterations (max_iter) or scale the data as shown in:\n",
      "    https://scikit-learn.org/stable/modules/preprocessing.html\n",
      "Please also refer to the documentation for alternative solver options:\n",
      "    https://scikit-learn.org/stable/modules/linear_model.html#logistic-regression\n",
      "  n_iter_i = _check_optimize_result(\n"
     ]
    },
    {
     "data": {
      "text/plain": "GridSearchCV(cv=5, estimator=LogisticRegression(),\n             param_grid={'max_iter': [75, 150, 200]}, scoring='accuracy')",
      "text/html": "<style>#sk-container-id-4 {color: black;background-color: white;}#sk-container-id-4 pre{padding: 0;}#sk-container-id-4 div.sk-toggleable {background-color: white;}#sk-container-id-4 label.sk-toggleable__label {cursor: pointer;display: block;width: 100%;margin-bottom: 0;padding: 0.3em;box-sizing: border-box;text-align: center;}#sk-container-id-4 label.sk-toggleable__label-arrow:before {content: \"▸\";float: left;margin-right: 0.25em;color: #696969;}#sk-container-id-4 label.sk-toggleable__label-arrow:hover:before {color: black;}#sk-container-id-4 div.sk-estimator:hover label.sk-toggleable__label-arrow:before {color: black;}#sk-container-id-4 div.sk-toggleable__content {max-height: 0;max-width: 0;overflow: hidden;text-align: left;background-color: #f0f8ff;}#sk-container-id-4 div.sk-toggleable__content pre {margin: 0.2em;color: black;border-radius: 0.25em;background-color: #f0f8ff;}#sk-container-id-4 input.sk-toggleable__control:checked~div.sk-toggleable__content {max-height: 200px;max-width: 100%;overflow: auto;}#sk-container-id-4 input.sk-toggleable__control:checked~label.sk-toggleable__label-arrow:before {content: \"▾\";}#sk-container-id-4 div.sk-estimator input.sk-toggleable__control:checked~label.sk-toggleable__label {background-color: #d4ebff;}#sk-container-id-4 div.sk-label input.sk-toggleable__control:checked~label.sk-toggleable__label {background-color: #d4ebff;}#sk-container-id-4 input.sk-hidden--visually {border: 0;clip: rect(1px 1px 1px 1px);clip: rect(1px, 1px, 1px, 1px);height: 1px;margin: -1px;overflow: hidden;padding: 0;position: absolute;width: 1px;}#sk-container-id-4 div.sk-estimator {font-family: monospace;background-color: #f0f8ff;border: 1px dotted black;border-radius: 0.25em;box-sizing: border-box;margin-bottom: 0.5em;}#sk-container-id-4 div.sk-estimator:hover {background-color: #d4ebff;}#sk-container-id-4 div.sk-parallel-item::after {content: \"\";width: 100%;border-bottom: 1px solid gray;flex-grow: 1;}#sk-container-id-4 div.sk-label:hover label.sk-toggleable__label {background-color: #d4ebff;}#sk-container-id-4 div.sk-serial::before {content: \"\";position: absolute;border-left: 1px solid gray;box-sizing: border-box;top: 0;bottom: 0;left: 50%;z-index: 0;}#sk-container-id-4 div.sk-serial {display: flex;flex-direction: column;align-items: center;background-color: white;padding-right: 0.2em;padding-left: 0.2em;position: relative;}#sk-container-id-4 div.sk-item {position: relative;z-index: 1;}#sk-container-id-4 div.sk-parallel {display: flex;align-items: stretch;justify-content: center;background-color: white;position: relative;}#sk-container-id-4 div.sk-item::before, #sk-container-id-4 div.sk-parallel-item::before {content: \"\";position: absolute;border-left: 1px solid gray;box-sizing: border-box;top: 0;bottom: 0;left: 50%;z-index: -1;}#sk-container-id-4 div.sk-parallel-item {display: flex;flex-direction: column;z-index: 1;position: relative;background-color: white;}#sk-container-id-4 div.sk-parallel-item:first-child::after {align-self: flex-end;width: 50%;}#sk-container-id-4 div.sk-parallel-item:last-child::after {align-self: flex-start;width: 50%;}#sk-container-id-4 div.sk-parallel-item:only-child::after {width: 0;}#sk-container-id-4 div.sk-dashed-wrapped {border: 1px dashed gray;margin: 0 0.4em 0.5em 0.4em;box-sizing: border-box;padding-bottom: 0.4em;background-color: white;}#sk-container-id-4 div.sk-label label {font-family: monospace;font-weight: bold;display: inline-block;line-height: 1.2em;}#sk-container-id-4 div.sk-label-container {text-align: center;}#sk-container-id-4 div.sk-container {/* jupyter's `normalize.less` sets `[hidden] { display: none; }` but bootstrap.min.css set `[hidden] { display: none !important; }` so we also need the `!important` here to be able to override the default hidden behavior on the sphinx rendered scikit-learn.org. See: https://github.com/scikit-learn/scikit-learn/issues/21755 */display: inline-block !important;position: relative;}#sk-container-id-4 div.sk-text-repr-fallback {display: none;}</style><div id=\"sk-container-id-4\" class=\"sk-top-container\"><div class=\"sk-text-repr-fallback\"><pre>GridSearchCV(cv=5, estimator=LogisticRegression(),\n             param_grid={&#x27;max_iter&#x27;: [75, 150, 200]}, scoring=&#x27;accuracy&#x27;)</pre><b>In a Jupyter environment, please rerun this cell to show the HTML representation or trust the notebook. <br />On GitHub, the HTML representation is unable to render, please try loading this page with nbviewer.org.</b></div><div class=\"sk-container\" hidden><div class=\"sk-item sk-dashed-wrapped\"><div class=\"sk-label-container\"><div class=\"sk-label sk-toggleable\"><input class=\"sk-toggleable__control sk-hidden--visually\" id=\"sk-estimator-id-10\" type=\"checkbox\" ><label for=\"sk-estimator-id-10\" class=\"sk-toggleable__label sk-toggleable__label-arrow\">GridSearchCV</label><div class=\"sk-toggleable__content\"><pre>GridSearchCV(cv=5, estimator=LogisticRegression(),\n             param_grid={&#x27;max_iter&#x27;: [75, 150, 200]}, scoring=&#x27;accuracy&#x27;)</pre></div></div></div><div class=\"sk-parallel\"><div class=\"sk-parallel-item\"><div class=\"sk-item\"><div class=\"sk-label-container\"><div class=\"sk-label sk-toggleable\"><input class=\"sk-toggleable__control sk-hidden--visually\" id=\"sk-estimator-id-11\" type=\"checkbox\" ><label for=\"sk-estimator-id-11\" class=\"sk-toggleable__label sk-toggleable__label-arrow\">estimator: LogisticRegression</label><div class=\"sk-toggleable__content\"><pre>LogisticRegression()</pre></div></div></div><div class=\"sk-serial\"><div class=\"sk-item\"><div class=\"sk-estimator sk-toggleable\"><input class=\"sk-toggleable__control sk-hidden--visually\" id=\"sk-estimator-id-12\" type=\"checkbox\" ><label for=\"sk-estimator-id-12\" class=\"sk-toggleable__label sk-toggleable__label-arrow\">LogisticRegression</label><div class=\"sk-toggleable__content\"><pre>LogisticRegression()</pre></div></div></div></div></div></div></div></div></div></div>"
     },
     "execution_count": 52,
     "metadata": {},
     "output_type": "execute_result"
    }
   ],
   "source": [
    "grid_search.fit(X_train1, y_train1)"
   ],
   "metadata": {
    "collapsed": false
   }
  },
  {
   "cell_type": "code",
   "execution_count": 53,
   "outputs": [
    {
     "name": "stdout",
     "output_type": "stream",
     "text": [
      "{'max_iter': 150}\n",
      "0.7405199267063673\n"
     ]
    }
   ],
   "source": [
    "print(grid_search.best_params_)\n",
    "print(grid_search.best_score_)"
   ],
   "metadata": {
    "collapsed": false
   }
  },
  {
   "cell_type": "code",
   "execution_count": 54,
   "outputs": [],
   "source": [
    "lgr_ds = LogisticRegression(max_iter=150, random_state=10)\n",
    "def lre_ds(X,y):\n",
    "    lgr.fit(X, y)\n",
    "    lgr_results = X.copy()\n",
    "    lgr_results[['Not Fraud', 'Fraud']] = lgr.predict_proba(X)\n",
    "    lgr_results['y_pred'] = np.where(lgr_results['Fraud'] > 0.5, 1, 0)\n",
    "\n",
    "    return lgr_results"
   ],
   "metadata": {
    "collapsed": false
   }
  },
  {
   "cell_type": "code",
   "execution_count": 55,
   "outputs": [
    {
     "name": "stdout",
     "output_type": "stream",
     "text": [
      "The confusion matrix for your predictions is:\n",
      "[[329 410]\n",
      " [298 439]] \n",
      "\n",
      "The accuracy of your model is: 0.5203252032520326\n",
      "The recall of your model is: 0.5956580732700135\n",
      "The precision of your model is: 0.5170789163722026\n",
      "The F1-score of your model is: 0.55359394703657\n",
      "The ROC-AUC-score of your model is: 0.5204271421830446\n"
     ]
    },
    {
     "name": "stderr",
     "output_type": "stream",
     "text": [
      "C:\\Users\\mites\\anaconda3\\lib\\site-packages\\sklearn\\linear_model\\_logistic.py:458: ConvergenceWarning: lbfgs failed to converge (status=1):\n",
      "STOP: TOTAL NO. of ITERATIONS REACHED LIMIT.\n",
      "\n",
      "Increase the number of iterations (max_iter) or scale the data as shown in:\n",
      "    https://scikit-learn.org/stable/modules/preprocessing.html\n",
      "Please also refer to the documentation for alternative solver options:\n",
      "    https://scikit-learn.org/stable/modules/linear_model.html#logistic-regression\n",
      "  n_iter_i = _check_optimize_result(\n",
      "C:\\Users\\mites\\anaconda3\\lib\\site-packages\\sklearn\\linear_model\\_logistic.py:458: ConvergenceWarning: lbfgs failed to converge (status=1):\n",
      "STOP: TOTAL NO. of ITERATIONS REACHED LIMIT.\n",
      "\n",
      "Increase the number of iterations (max_iter) or scale the data as shown in:\n",
      "    https://scikit-learn.org/stable/modules/preprocessing.html\n",
      "Please also refer to the documentation for alternative solver options:\n",
      "    https://scikit-learn.org/stable/modules/linear_model.html#logistic-regression\n",
      "  n_iter_i = _check_optimize_result(\n",
      "C:\\Users\\mites\\anaconda3\\lib\\site-packages\\sklearn\\linear_model\\_logistic.py:458: ConvergenceWarning: lbfgs failed to converge (status=1):\n",
      "STOP: TOTAL NO. of ITERATIONS REACHED LIMIT.\n",
      "\n",
      "Increase the number of iterations (max_iter) or scale the data as shown in:\n",
      "    https://scikit-learn.org/stable/modules/preprocessing.html\n",
      "Please also refer to the documentation for alternative solver options:\n",
      "    https://scikit-learn.org/stable/modules/linear_model.html#logistic-regression\n",
      "  n_iter_i = _check_optimize_result(\n",
      "C:\\Users\\mites\\anaconda3\\lib\\site-packages\\sklearn\\linear_model\\_logistic.py:458: ConvergenceWarning: lbfgs failed to converge (status=1):\n",
      "STOP: TOTAL NO. of ITERATIONS REACHED LIMIT.\n",
      "\n",
      "Increase the number of iterations (max_iter) or scale the data as shown in:\n",
      "    https://scikit-learn.org/stable/modules/preprocessing.html\n",
      "Please also refer to the documentation for alternative solver options:\n",
      "    https://scikit-learn.org/stable/modules/linear_model.html#logistic-regression\n",
      "  n_iter_i = _check_optimize_result(\n",
      "C:\\Users\\mites\\anaconda3\\lib\\site-packages\\sklearn\\linear_model\\_logistic.py:458: ConvergenceWarning: lbfgs failed to converge (status=1):\n",
      "STOP: TOTAL NO. of ITERATIONS REACHED LIMIT.\n",
      "\n",
      "Increase the number of iterations (max_iter) or scale the data as shown in:\n",
      "    https://scikit-learn.org/stable/modules/preprocessing.html\n",
      "Please also refer to the documentation for alternative solver options:\n",
      "    https://scikit-learn.org/stable/modules/linear_model.html#logistic-regression\n",
      "  n_iter_i = _check_optimize_result(\n",
      "C:\\Users\\mites\\anaconda3\\lib\\site-packages\\sklearn\\linear_model\\_logistic.py:458: ConvergenceWarning: lbfgs failed to converge (status=1):\n",
      "STOP: TOTAL NO. of ITERATIONS REACHED LIMIT.\n",
      "\n",
      "Increase the number of iterations (max_iter) or scale the data as shown in:\n",
      "    https://scikit-learn.org/stable/modules/preprocessing.html\n",
      "Please also refer to the documentation for alternative solver options:\n",
      "    https://scikit-learn.org/stable/modules/linear_model.html#logistic-regression\n",
      "  n_iter_i = _check_optimize_result(\n"
     ]
    },
    {
     "data": {
      "text/plain": "{'fit_time': array([0.01654053, 0.01508713, 0.01614785, 0.01117039, 0.01215291]),\n 'score_time': array([0.00863028, 0.01133919, 0.00963378, 0.00863385, 0.00797415]),\n 'test_accuracy': array([0.50675676, 0.55254237, 0.67118644, 0.5220339 , 0.50508475]),\n 'test_f1': array([0.52903226, 0.52857143, 0.66202091, 0.54368932, 0.54375   ]),\n 'test_roc_auc': array([0.49958912, 0.54789483, 0.74108292, 0.53888582, 0.51608752]),\n 'test_matthews_corrcoef': array([0.01357438, 0.10526196, 0.34264572, 0.0446174 , 0.00974182])}"
     },
     "execution_count": 55,
     "metadata": {},
     "output_type": "execute_result"
    }
   ],
   "source": [
    " #APPLYING FUNCTION TO TRAIN\n",
    "\n",
    "lgrds_results =lre_ds(X_train1, y_train1)\n",
    "get_results(y_train1,lgrds_results['y_pred'])\n",
    "lgrds_score = cross_validate(lgr, X_train1, y_train1, cv=5, scoring = ['accuracy', 'f1','roc_auc','matthews_corrcoef'])\n",
    "lgrds_score"
   ],
   "metadata": {
    "collapsed": false
   }
  },
  {
   "cell_type": "markdown",
   "source": [
    "### 10.2 DECISION TREE"
   ],
   "metadata": {
    "collapsed": false
   }
  },
  {
   "cell_type": "code",
   "execution_count": 56,
   "outputs": [],
   "source": [
    "grid = GridSearchCV(estimator = DecisionTreeClassifier(),\n",
    "                    param_grid = {'max_depth': [2, 4, 6],\n",
    "                                  'min_samples_split': [2,4,6,8,10],\n",
    "                                  'min_samples_leaf': [2,4,6,8,10]},\n",
    "                    cv = 5,\n",
    "                    refit = True,\n",
    "                    verbose = 2,\n",
    "                    scoring = 'accuracy')"
   ],
   "metadata": {
    "collapsed": false
   }
  },
  {
   "cell_type": "code",
   "execution_count": 57,
   "outputs": [
    {
     "name": "stdout",
     "output_type": "stream",
     "text": [
      "Fitting 5 folds for each of 75 candidates, totalling 375 fits\n",
      "[CV] END max_depth=2, min_samples_leaf=2, min_samples_split=2; total time=   0.0s\n",
      "[CV] END max_depth=2, min_samples_leaf=2, min_samples_split=2; total time=   0.0s\n",
      "[CV] END max_depth=2, min_samples_leaf=2, min_samples_split=2; total time=   0.0s\n",
      "[CV] END max_depth=2, min_samples_leaf=2, min_samples_split=2; total time=   0.0s\n",
      "[CV] END max_depth=2, min_samples_leaf=2, min_samples_split=2; total time=   0.0s\n",
      "[CV] END max_depth=2, min_samples_leaf=2, min_samples_split=4; total time=   0.0s\n",
      "[CV] END max_depth=2, min_samples_leaf=2, min_samples_split=4; total time=   0.0s\n",
      "[CV] END max_depth=2, min_samples_leaf=2, min_samples_split=4; total time=   0.0s\n",
      "[CV] END max_depth=2, min_samples_leaf=2, min_samples_split=4; total time=   0.0s\n",
      "[CV] END max_depth=2, min_samples_leaf=2, min_samples_split=4; total time=   0.0s\n",
      "[CV] END max_depth=2, min_samples_leaf=2, min_samples_split=6; total time=   0.0s\n",
      "[CV] END max_depth=2, min_samples_leaf=2, min_samples_split=6; total time=   0.0s\n",
      "[CV] END max_depth=2, min_samples_leaf=2, min_samples_split=6; total time=   0.0s\n",
      "[CV] END max_depth=2, min_samples_leaf=2, min_samples_split=6; total time=   0.0s\n",
      "[CV] END max_depth=2, min_samples_leaf=2, min_samples_split=6; total time=   0.0s\n",
      "[CV] END max_depth=2, min_samples_leaf=2, min_samples_split=8; total time=   0.0s\n",
      "[CV] END max_depth=2, min_samples_leaf=2, min_samples_split=8; total time=   0.0s\n",
      "[CV] END max_depth=2, min_samples_leaf=2, min_samples_split=8; total time=   0.0s\n",
      "[CV] END max_depth=2, min_samples_leaf=2, min_samples_split=8; total time=   0.0s\n",
      "[CV] END max_depth=2, min_samples_leaf=2, min_samples_split=8; total time=   0.0s\n",
      "[CV] END max_depth=2, min_samples_leaf=2, min_samples_split=10; total time=   0.0s\n",
      "[CV] END max_depth=2, min_samples_leaf=2, min_samples_split=10; total time=   0.0s\n",
      "[CV] END max_depth=2, min_samples_leaf=2, min_samples_split=10; total time=   0.0s\n",
      "[CV] END max_depth=2, min_samples_leaf=2, min_samples_split=10; total time=   0.0s\n",
      "[CV] END max_depth=2, min_samples_leaf=2, min_samples_split=10; total time=   0.0s\n",
      "[CV] END max_depth=2, min_samples_leaf=4, min_samples_split=2; total time=   0.0s\n",
      "[CV] END max_depth=2, min_samples_leaf=4, min_samples_split=2; total time=   0.0s\n",
      "[CV] END max_depth=2, min_samples_leaf=4, min_samples_split=2; total time=   0.0s\n",
      "[CV] END max_depth=2, min_samples_leaf=4, min_samples_split=2; total time=   0.0s\n",
      "[CV] END max_depth=2, min_samples_leaf=4, min_samples_split=2; total time=   0.0s\n",
      "[CV] END max_depth=2, min_samples_leaf=4, min_samples_split=4; total time=   0.0s\n",
      "[CV] END max_depth=2, min_samples_leaf=4, min_samples_split=4; total time=   0.0s\n",
      "[CV] END max_depth=2, min_samples_leaf=4, min_samples_split=4; total time=   0.0s\n",
      "[CV] END max_depth=2, min_samples_leaf=4, min_samples_split=4; total time=   0.0s\n",
      "[CV] END max_depth=2, min_samples_leaf=4, min_samples_split=4; total time=   0.0s\n",
      "[CV] END max_depth=2, min_samples_leaf=4, min_samples_split=6; total time=   0.0s\n",
      "[CV] END max_depth=2, min_samples_leaf=4, min_samples_split=6; total time=   0.0s\n",
      "[CV] END max_depth=2, min_samples_leaf=4, min_samples_split=6; total time=   0.0s\n",
      "[CV] END max_depth=2, min_samples_leaf=4, min_samples_split=6; total time=   0.0s\n",
      "[CV] END max_depth=2, min_samples_leaf=4, min_samples_split=6; total time=   0.0s\n",
      "[CV] END max_depth=2, min_samples_leaf=4, min_samples_split=8; total time=   0.0s\n",
      "[CV] END max_depth=2, min_samples_leaf=4, min_samples_split=8; total time=   0.0s\n",
      "[CV] END max_depth=2, min_samples_leaf=4, min_samples_split=8; total time=   0.0s\n",
      "[CV] END max_depth=2, min_samples_leaf=4, min_samples_split=8; total time=   0.0s\n",
      "[CV] END max_depth=2, min_samples_leaf=4, min_samples_split=8; total time=   0.0s\n",
      "[CV] END max_depth=2, min_samples_leaf=4, min_samples_split=10; total time=   0.0s\n",
      "[CV] END max_depth=2, min_samples_leaf=4, min_samples_split=10; total time=   0.0s\n",
      "[CV] END max_depth=2, min_samples_leaf=4, min_samples_split=10; total time=   0.0s\n",
      "[CV] END max_depth=2, min_samples_leaf=4, min_samples_split=10; total time=   0.0s\n",
      "[CV] END max_depth=2, min_samples_leaf=4, min_samples_split=10; total time=   0.0s\n",
      "[CV] END max_depth=2, min_samples_leaf=6, min_samples_split=2; total time=   0.0s\n",
      "[CV] END max_depth=2, min_samples_leaf=6, min_samples_split=2; total time=   0.0s\n",
      "[CV] END max_depth=2, min_samples_leaf=6, min_samples_split=2; total time=   0.0s\n",
      "[CV] END max_depth=2, min_samples_leaf=6, min_samples_split=2; total time=   0.0s\n",
      "[CV] END max_depth=2, min_samples_leaf=6, min_samples_split=2; total time=   0.0s\n",
      "[CV] END max_depth=2, min_samples_leaf=6, min_samples_split=4; total time=   0.0s\n",
      "[CV] END max_depth=2, min_samples_leaf=6, min_samples_split=4; total time=   0.0s\n",
      "[CV] END max_depth=2, min_samples_leaf=6, min_samples_split=4; total time=   0.0s\n",
      "[CV] END max_depth=2, min_samples_leaf=6, min_samples_split=4; total time=   0.0s\n",
      "[CV] END max_depth=2, min_samples_leaf=6, min_samples_split=4; total time=   0.0s\n",
      "[CV] END max_depth=2, min_samples_leaf=6, min_samples_split=6; total time=   0.0s\n",
      "[CV] END max_depth=2, min_samples_leaf=6, min_samples_split=6; total time=   0.0s\n",
      "[CV] END max_depth=2, min_samples_leaf=6, min_samples_split=6; total time=   0.0s\n",
      "[CV] END max_depth=2, min_samples_leaf=6, min_samples_split=6; total time=   0.0s\n",
      "[CV] END max_depth=2, min_samples_leaf=6, min_samples_split=6; total time=   0.0s\n",
      "[CV] END max_depth=2, min_samples_leaf=6, min_samples_split=8; total time=   0.0s\n",
      "[CV] END max_depth=2, min_samples_leaf=6, min_samples_split=8; total time=   0.0s\n",
      "[CV] END max_depth=2, min_samples_leaf=6, min_samples_split=8; total time=   0.0s\n",
      "[CV] END max_depth=2, min_samples_leaf=6, min_samples_split=8; total time=   0.0s\n",
      "[CV] END max_depth=2, min_samples_leaf=6, min_samples_split=8; total time=   0.0s\n",
      "[CV] END max_depth=2, min_samples_leaf=6, min_samples_split=10; total time=   0.0s\n",
      "[CV] END max_depth=2, min_samples_leaf=6, min_samples_split=10; total time=   0.0s\n",
      "[CV] END max_depth=2, min_samples_leaf=6, min_samples_split=10; total time=   0.0s\n",
      "[CV] END max_depth=2, min_samples_leaf=6, min_samples_split=10; total time=   0.0s\n",
      "[CV] END max_depth=2, min_samples_leaf=6, min_samples_split=10; total time=   0.0s\n",
      "[CV] END max_depth=2, min_samples_leaf=8, min_samples_split=2; total time=   0.0s\n",
      "[CV] END max_depth=2, min_samples_leaf=8, min_samples_split=2; total time=   0.0s\n",
      "[CV] END max_depth=2, min_samples_leaf=8, min_samples_split=2; total time=   0.0s\n",
      "[CV] END max_depth=2, min_samples_leaf=8, min_samples_split=2; total time=   0.0s\n",
      "[CV] END max_depth=2, min_samples_leaf=8, min_samples_split=2; total time=   0.0s\n",
      "[CV] END max_depth=2, min_samples_leaf=8, min_samples_split=4; total time=   0.0s\n",
      "[CV] END max_depth=2, min_samples_leaf=8, min_samples_split=4; total time=   0.0s\n",
      "[CV] END max_depth=2, min_samples_leaf=8, min_samples_split=4; total time=   0.0s\n",
      "[CV] END max_depth=2, min_samples_leaf=8, min_samples_split=4; total time=   0.0s\n",
      "[CV] END max_depth=2, min_samples_leaf=8, min_samples_split=4; total time=   0.0s\n",
      "[CV] END max_depth=2, min_samples_leaf=8, min_samples_split=6; total time=   0.0s\n",
      "[CV] END max_depth=2, min_samples_leaf=8, min_samples_split=6; total time=   0.0s\n",
      "[CV] END max_depth=2, min_samples_leaf=8, min_samples_split=6; total time=   0.0s\n",
      "[CV] END max_depth=2, min_samples_leaf=8, min_samples_split=6; total time=   0.0s\n",
      "[CV] END max_depth=2, min_samples_leaf=8, min_samples_split=6; total time=   0.0s\n",
      "[CV] END max_depth=2, min_samples_leaf=8, min_samples_split=8; total time=   0.0s\n",
      "[CV] END max_depth=2, min_samples_leaf=8, min_samples_split=8; total time=   0.0s\n",
      "[CV] END max_depth=2, min_samples_leaf=8, min_samples_split=8; total time=   0.0s\n",
      "[CV] END max_depth=2, min_samples_leaf=8, min_samples_split=8; total time=   0.0s\n",
      "[CV] END max_depth=2, min_samples_leaf=8, min_samples_split=8; total time=   0.0s\n",
      "[CV] END max_depth=2, min_samples_leaf=8, min_samples_split=10; total time=   0.0s\n",
      "[CV] END max_depth=2, min_samples_leaf=8, min_samples_split=10; total time=   0.0s\n",
      "[CV] END max_depth=2, min_samples_leaf=8, min_samples_split=10; total time=   0.0s\n",
      "[CV] END max_depth=2, min_samples_leaf=8, min_samples_split=10; total time=   0.0s\n",
      "[CV] END max_depth=2, min_samples_leaf=8, min_samples_split=10; total time=   0.0s\n",
      "[CV] END max_depth=2, min_samples_leaf=10, min_samples_split=2; total time=   0.0s\n",
      "[CV] END max_depth=2, min_samples_leaf=10, min_samples_split=2; total time=   0.0s\n",
      "[CV] END max_depth=2, min_samples_leaf=10, min_samples_split=2; total time=   0.0s\n",
      "[CV] END max_depth=2, min_samples_leaf=10, min_samples_split=2; total time=   0.0s\n",
      "[CV] END max_depth=2, min_samples_leaf=10, min_samples_split=2; total time=   0.0s\n",
      "[CV] END max_depth=2, min_samples_leaf=10, min_samples_split=4; total time=   0.0s\n",
      "[CV] END max_depth=2, min_samples_leaf=10, min_samples_split=4; total time=   0.0s\n",
      "[CV] END max_depth=2, min_samples_leaf=10, min_samples_split=4; total time=   0.0s\n",
      "[CV] END max_depth=2, min_samples_leaf=10, min_samples_split=4; total time=   0.0s\n",
      "[CV] END max_depth=2, min_samples_leaf=10, min_samples_split=4; total time=   0.0s\n",
      "[CV] END max_depth=2, min_samples_leaf=10, min_samples_split=6; total time=   0.0s\n",
      "[CV] END max_depth=2, min_samples_leaf=10, min_samples_split=6; total time=   0.0s\n",
      "[CV] END max_depth=2, min_samples_leaf=10, min_samples_split=6; total time=   0.0s\n",
      "[CV] END max_depth=2, min_samples_leaf=10, min_samples_split=6; total time=   0.0s\n",
      "[CV] END max_depth=2, min_samples_leaf=10, min_samples_split=6; total time=   0.0s\n",
      "[CV] END max_depth=2, min_samples_leaf=10, min_samples_split=8; total time=   0.0s\n",
      "[CV] END max_depth=2, min_samples_leaf=10, min_samples_split=8; total time=   0.0s\n",
      "[CV] END max_depth=2, min_samples_leaf=10, min_samples_split=8; total time=   0.0s\n",
      "[CV] END max_depth=2, min_samples_leaf=10, min_samples_split=8; total time=   0.0s\n",
      "[CV] END max_depth=2, min_samples_leaf=10, min_samples_split=8; total time=   0.0s\n",
      "[CV] END max_depth=2, min_samples_leaf=10, min_samples_split=10; total time=   0.0s\n",
      "[CV] END max_depth=2, min_samples_leaf=10, min_samples_split=10; total time=   0.0s\n",
      "[CV] END max_depth=2, min_samples_leaf=10, min_samples_split=10; total time=   0.0s\n",
      "[CV] END max_depth=2, min_samples_leaf=10, min_samples_split=10; total time=   0.0s\n",
      "[CV] END max_depth=2, min_samples_leaf=10, min_samples_split=10; total time=   0.0s\n",
      "[CV] END max_depth=4, min_samples_leaf=2, min_samples_split=2; total time=   0.0s\n",
      "[CV] END max_depth=4, min_samples_leaf=2, min_samples_split=2; total time=   0.0s\n",
      "[CV] END max_depth=4, min_samples_leaf=2, min_samples_split=2; total time=   0.0s\n",
      "[CV] END max_depth=4, min_samples_leaf=2, min_samples_split=2; total time=   0.0s\n",
      "[CV] END max_depth=4, min_samples_leaf=2, min_samples_split=2; total time=   0.0s\n",
      "[CV] END max_depth=4, min_samples_leaf=2, min_samples_split=4; total time=   0.0s\n",
      "[CV] END max_depth=4, min_samples_leaf=2, min_samples_split=4; total time=   0.0s\n",
      "[CV] END max_depth=4, min_samples_leaf=2, min_samples_split=4; total time=   0.0s\n",
      "[CV] END max_depth=4, min_samples_leaf=2, min_samples_split=4; total time=   0.0s\n",
      "[CV] END max_depth=4, min_samples_leaf=2, min_samples_split=4; total time=   0.0s\n",
      "[CV] END max_depth=4, min_samples_leaf=2, min_samples_split=6; total time=   0.0s\n",
      "[CV] END max_depth=4, min_samples_leaf=2, min_samples_split=6; total time=   0.0s\n",
      "[CV] END max_depth=4, min_samples_leaf=2, min_samples_split=6; total time=   0.0s\n",
      "[CV] END max_depth=4, min_samples_leaf=2, min_samples_split=6; total time=   0.0s\n",
      "[CV] END max_depth=4, min_samples_leaf=2, min_samples_split=6; total time=   0.0s\n",
      "[CV] END max_depth=4, min_samples_leaf=2, min_samples_split=8; total time=   0.0s\n",
      "[CV] END max_depth=4, min_samples_leaf=2, min_samples_split=8; total time=   0.0s\n",
      "[CV] END max_depth=4, min_samples_leaf=2, min_samples_split=8; total time=   0.0s\n",
      "[CV] END max_depth=4, min_samples_leaf=2, min_samples_split=8; total time=   0.0s\n",
      "[CV] END max_depth=4, min_samples_leaf=2, min_samples_split=8; total time=   0.0s\n",
      "[CV] END max_depth=4, min_samples_leaf=2, min_samples_split=10; total time=   0.0s\n",
      "[CV] END max_depth=4, min_samples_leaf=2, min_samples_split=10; total time=   0.0s\n",
      "[CV] END max_depth=4, min_samples_leaf=2, min_samples_split=10; total time=   0.0s\n",
      "[CV] END max_depth=4, min_samples_leaf=2, min_samples_split=10; total time=   0.0s\n",
      "[CV] END max_depth=4, min_samples_leaf=2, min_samples_split=10; total time=   0.0s\n",
      "[CV] END max_depth=4, min_samples_leaf=4, min_samples_split=2; total time=   0.0s\n",
      "[CV] END max_depth=4, min_samples_leaf=4, min_samples_split=2; total time=   0.0s\n",
      "[CV] END max_depth=4, min_samples_leaf=4, min_samples_split=2; total time=   0.0s\n",
      "[CV] END max_depth=4, min_samples_leaf=4, min_samples_split=2; total time=   0.0s\n",
      "[CV] END max_depth=4, min_samples_leaf=4, min_samples_split=2; total time=   0.0s\n",
      "[CV] END max_depth=4, min_samples_leaf=4, min_samples_split=4; total time=   0.0s\n",
      "[CV] END max_depth=4, min_samples_leaf=4, min_samples_split=4; total time=   0.0s\n",
      "[CV] END max_depth=4, min_samples_leaf=4, min_samples_split=4; total time=   0.0s\n",
      "[CV] END max_depth=4, min_samples_leaf=4, min_samples_split=4; total time=   0.0s\n",
      "[CV] END max_depth=4, min_samples_leaf=4, min_samples_split=4; total time=   0.0s\n",
      "[CV] END max_depth=4, min_samples_leaf=4, min_samples_split=6; total time=   0.0s\n",
      "[CV] END max_depth=4, min_samples_leaf=4, min_samples_split=6; total time=   0.0s\n",
      "[CV] END max_depth=4, min_samples_leaf=4, min_samples_split=6; total time=   0.0s\n",
      "[CV] END max_depth=4, min_samples_leaf=4, min_samples_split=6; total time=   0.0s\n",
      "[CV] END max_depth=4, min_samples_leaf=4, min_samples_split=6; total time=   0.0s\n",
      "[CV] END max_depth=4, min_samples_leaf=4, min_samples_split=8; total time=   0.0s\n",
      "[CV] END max_depth=4, min_samples_leaf=4, min_samples_split=8; total time=   0.0s\n",
      "[CV] END max_depth=4, min_samples_leaf=4, min_samples_split=8; total time=   0.0s\n",
      "[CV] END max_depth=4, min_samples_leaf=4, min_samples_split=8; total time=   0.0s\n",
      "[CV] END max_depth=4, min_samples_leaf=4, min_samples_split=8; total time=   0.0s\n",
      "[CV] END max_depth=4, min_samples_leaf=4, min_samples_split=10; total time=   0.0s\n",
      "[CV] END max_depth=4, min_samples_leaf=4, min_samples_split=10; total time=   0.0s\n",
      "[CV] END max_depth=4, min_samples_leaf=4, min_samples_split=10; total time=   0.0s\n",
      "[CV] END max_depth=4, min_samples_leaf=4, min_samples_split=10; total time=   0.0s\n",
      "[CV] END max_depth=4, min_samples_leaf=4, min_samples_split=10; total time=   0.0s\n",
      "[CV] END max_depth=4, min_samples_leaf=6, min_samples_split=2; total time=   0.0s\n",
      "[CV] END max_depth=4, min_samples_leaf=6, min_samples_split=2; total time=   0.0s\n",
      "[CV] END max_depth=4, min_samples_leaf=6, min_samples_split=2; total time=   0.0s\n",
      "[CV] END max_depth=4, min_samples_leaf=6, min_samples_split=2; total time=   0.0s\n",
      "[CV] END max_depth=4, min_samples_leaf=6, min_samples_split=2; total time=   0.0s\n",
      "[CV] END max_depth=4, min_samples_leaf=6, min_samples_split=4; total time=   0.0s\n",
      "[CV] END max_depth=4, min_samples_leaf=6, min_samples_split=4; total time=   0.0s\n",
      "[CV] END max_depth=4, min_samples_leaf=6, min_samples_split=4; total time=   0.0s\n",
      "[CV] END max_depth=4, min_samples_leaf=6, min_samples_split=4; total time=   0.0s\n",
      "[CV] END max_depth=4, min_samples_leaf=6, min_samples_split=4; total time=   0.0s\n",
      "[CV] END max_depth=4, min_samples_leaf=6, min_samples_split=6; total time=   0.0s\n",
      "[CV] END max_depth=4, min_samples_leaf=6, min_samples_split=6; total time=   0.0s\n",
      "[CV] END max_depth=4, min_samples_leaf=6, min_samples_split=6; total time=   0.0s\n",
      "[CV] END max_depth=4, min_samples_leaf=6, min_samples_split=6; total time=   0.0s\n",
      "[CV] END max_depth=4, min_samples_leaf=6, min_samples_split=6; total time=   0.0s\n",
      "[CV] END max_depth=4, min_samples_leaf=6, min_samples_split=8; total time=   0.0s\n",
      "[CV] END max_depth=4, min_samples_leaf=6, min_samples_split=8; total time=   0.0s\n",
      "[CV] END max_depth=4, min_samples_leaf=6, min_samples_split=8; total time=   0.0s\n",
      "[CV] END max_depth=4, min_samples_leaf=6, min_samples_split=8; total time=   0.0s\n",
      "[CV] END max_depth=4, min_samples_leaf=6, min_samples_split=8; total time=   0.0s\n",
      "[CV] END max_depth=4, min_samples_leaf=6, min_samples_split=10; total time=   0.0s\n",
      "[CV] END max_depth=4, min_samples_leaf=6, min_samples_split=10; total time=   0.0s\n",
      "[CV] END max_depth=4, min_samples_leaf=6, min_samples_split=10; total time=   0.0s\n",
      "[CV] END max_depth=4, min_samples_leaf=6, min_samples_split=10; total time=   0.0s\n",
      "[CV] END max_depth=4, min_samples_leaf=6, min_samples_split=10; total time=   0.0s\n",
      "[CV] END max_depth=4, min_samples_leaf=8, min_samples_split=2; total time=   0.0s\n",
      "[CV] END max_depth=4, min_samples_leaf=8, min_samples_split=2; total time=   0.0s\n",
      "[CV] END max_depth=4, min_samples_leaf=8, min_samples_split=2; total time=   0.0s\n",
      "[CV] END max_depth=4, min_samples_leaf=8, min_samples_split=2; total time=   0.0s\n",
      "[CV] END max_depth=4, min_samples_leaf=8, min_samples_split=2; total time=   0.0s\n",
      "[CV] END max_depth=4, min_samples_leaf=8, min_samples_split=4; total time=   0.0s\n",
      "[CV] END max_depth=4, min_samples_leaf=8, min_samples_split=4; total time=   0.0s\n",
      "[CV] END max_depth=4, min_samples_leaf=8, min_samples_split=4; total time=   0.0s\n",
      "[CV] END max_depth=4, min_samples_leaf=8, min_samples_split=4; total time=   0.0s\n",
      "[CV] END max_depth=4, min_samples_leaf=8, min_samples_split=4; total time=   0.0s\n",
      "[CV] END max_depth=4, min_samples_leaf=8, min_samples_split=6; total time=   0.0s\n",
      "[CV] END max_depth=4, min_samples_leaf=8, min_samples_split=6; total time=   0.0s\n",
      "[CV] END max_depth=4, min_samples_leaf=8, min_samples_split=6; total time=   0.0s\n",
      "[CV] END max_depth=4, min_samples_leaf=8, min_samples_split=6; total time=   0.0s\n",
      "[CV] END max_depth=4, min_samples_leaf=8, min_samples_split=6; total time=   0.0s\n",
      "[CV] END max_depth=4, min_samples_leaf=8, min_samples_split=8; total time=   0.0s\n",
      "[CV] END max_depth=4, min_samples_leaf=8, min_samples_split=8; total time=   0.0s\n",
      "[CV] END max_depth=4, min_samples_leaf=8, min_samples_split=8; total time=   0.0s\n",
      "[CV] END max_depth=4, min_samples_leaf=8, min_samples_split=8; total time=   0.0s\n",
      "[CV] END max_depth=4, min_samples_leaf=8, min_samples_split=8; total time=   0.0s\n",
      "[CV] END max_depth=4, min_samples_leaf=8, min_samples_split=10; total time=   0.0s\n",
      "[CV] END max_depth=4, min_samples_leaf=8, min_samples_split=10; total time=   0.0s\n",
      "[CV] END max_depth=4, min_samples_leaf=8, min_samples_split=10; total time=   0.0s\n",
      "[CV] END max_depth=4, min_samples_leaf=8, min_samples_split=10; total time=   0.0s\n",
      "[CV] END max_depth=4, min_samples_leaf=8, min_samples_split=10; total time=   0.0s\n",
      "[CV] END max_depth=4, min_samples_leaf=10, min_samples_split=2; total time=   0.0s\n",
      "[CV] END max_depth=4, min_samples_leaf=10, min_samples_split=2; total time=   0.0s\n",
      "[CV] END max_depth=4, min_samples_leaf=10, min_samples_split=2; total time=   0.0s\n",
      "[CV] END max_depth=4, min_samples_leaf=10, min_samples_split=2; total time=   0.0s\n",
      "[CV] END max_depth=4, min_samples_leaf=10, min_samples_split=2; total time=   0.0s\n",
      "[CV] END max_depth=4, min_samples_leaf=10, min_samples_split=4; total time=   0.0s\n",
      "[CV] END max_depth=4, min_samples_leaf=10, min_samples_split=4; total time=   0.0s\n",
      "[CV] END max_depth=4, min_samples_leaf=10, min_samples_split=4; total time=   0.0s\n",
      "[CV] END max_depth=4, min_samples_leaf=10, min_samples_split=4; total time=   0.0s\n",
      "[CV] END max_depth=4, min_samples_leaf=10, min_samples_split=4; total time=   0.0s\n",
      "[CV] END max_depth=4, min_samples_leaf=10, min_samples_split=6; total time=   0.0s\n",
      "[CV] END max_depth=4, min_samples_leaf=10, min_samples_split=6; total time=   0.0s\n",
      "[CV] END max_depth=4, min_samples_leaf=10, min_samples_split=6; total time=   0.0s\n",
      "[CV] END max_depth=4, min_samples_leaf=10, min_samples_split=6; total time=   0.0s\n",
      "[CV] END max_depth=4, min_samples_leaf=10, min_samples_split=6; total time=   0.0s\n",
      "[CV] END max_depth=4, min_samples_leaf=10, min_samples_split=8; total time=   0.0s\n",
      "[CV] END max_depth=4, min_samples_leaf=10, min_samples_split=8; total time=   0.0s\n",
      "[CV] END max_depth=4, min_samples_leaf=10, min_samples_split=8; total time=   0.0s\n",
      "[CV] END max_depth=4, min_samples_leaf=10, min_samples_split=8; total time=   0.0s\n",
      "[CV] END max_depth=4, min_samples_leaf=10, min_samples_split=8; total time=   0.0s\n",
      "[CV] END max_depth=4, min_samples_leaf=10, min_samples_split=10; total time=   0.0s\n",
      "[CV] END max_depth=4, min_samples_leaf=10, min_samples_split=10; total time=   0.0s\n",
      "[CV] END max_depth=4, min_samples_leaf=10, min_samples_split=10; total time=   0.0s\n",
      "[CV] END max_depth=4, min_samples_leaf=10, min_samples_split=10; total time=   0.0s\n",
      "[CV] END max_depth=4, min_samples_leaf=10, min_samples_split=10; total time=   0.0s\n",
      "[CV] END max_depth=6, min_samples_leaf=2, min_samples_split=2; total time=   0.0s\n",
      "[CV] END max_depth=6, min_samples_leaf=2, min_samples_split=2; total time=   0.0s\n",
      "[CV] END max_depth=6, min_samples_leaf=2, min_samples_split=2; total time=   0.0s\n",
      "[CV] END max_depth=6, min_samples_leaf=2, min_samples_split=2; total time=   0.0s\n",
      "[CV] END max_depth=6, min_samples_leaf=2, min_samples_split=2; total time=   0.0s\n",
      "[CV] END max_depth=6, min_samples_leaf=2, min_samples_split=4; total time=   0.0s\n",
      "[CV] END max_depth=6, min_samples_leaf=2, min_samples_split=4; total time=   0.0s\n",
      "[CV] END max_depth=6, min_samples_leaf=2, min_samples_split=4; total time=   0.0s\n",
      "[CV] END max_depth=6, min_samples_leaf=2, min_samples_split=4; total time=   0.0s\n",
      "[CV] END max_depth=6, min_samples_leaf=2, min_samples_split=4; total time=   0.0s\n",
      "[CV] END max_depth=6, min_samples_leaf=2, min_samples_split=6; total time=   0.0s\n",
      "[CV] END max_depth=6, min_samples_leaf=2, min_samples_split=6; total time=   0.0s\n",
      "[CV] END max_depth=6, min_samples_leaf=2, min_samples_split=6; total time=   0.0s\n",
      "[CV] END max_depth=6, min_samples_leaf=2, min_samples_split=6; total time=   0.0s\n",
      "[CV] END max_depth=6, min_samples_leaf=2, min_samples_split=6; total time=   0.0s\n",
      "[CV] END max_depth=6, min_samples_leaf=2, min_samples_split=8; total time=   0.0s\n",
      "[CV] END max_depth=6, min_samples_leaf=2, min_samples_split=8; total time=   0.0s\n",
      "[CV] END max_depth=6, min_samples_leaf=2, min_samples_split=8; total time=   0.0s\n",
      "[CV] END max_depth=6, min_samples_leaf=2, min_samples_split=8; total time=   0.0s\n",
      "[CV] END max_depth=6, min_samples_leaf=2, min_samples_split=8; total time=   0.0s\n",
      "[CV] END max_depth=6, min_samples_leaf=2, min_samples_split=10; total time=   0.0s\n",
      "[CV] END max_depth=6, min_samples_leaf=2, min_samples_split=10; total time=   0.0s\n",
      "[CV] END max_depth=6, min_samples_leaf=2, min_samples_split=10; total time=   0.0s\n",
      "[CV] END max_depth=6, min_samples_leaf=2, min_samples_split=10; total time=   0.0s\n",
      "[CV] END max_depth=6, min_samples_leaf=2, min_samples_split=10; total time=   0.0s\n",
      "[CV] END max_depth=6, min_samples_leaf=4, min_samples_split=2; total time=   0.0s\n",
      "[CV] END max_depth=6, min_samples_leaf=4, min_samples_split=2; total time=   0.0s\n",
      "[CV] END max_depth=6, min_samples_leaf=4, min_samples_split=2; total time=   0.0s\n",
      "[CV] END max_depth=6, min_samples_leaf=4, min_samples_split=2; total time=   0.0s\n",
      "[CV] END max_depth=6, min_samples_leaf=4, min_samples_split=2; total time=   0.0s\n",
      "[CV] END max_depth=6, min_samples_leaf=4, min_samples_split=4; total time=   0.0s\n",
      "[CV] END max_depth=6, min_samples_leaf=4, min_samples_split=4; total time=   0.0s\n",
      "[CV] END max_depth=6, min_samples_leaf=4, min_samples_split=4; total time=   0.0s\n",
      "[CV] END max_depth=6, min_samples_leaf=4, min_samples_split=4; total time=   0.0s\n",
      "[CV] END max_depth=6, min_samples_leaf=4, min_samples_split=4; total time=   0.0s\n",
      "[CV] END max_depth=6, min_samples_leaf=4, min_samples_split=6; total time=   0.0s\n",
      "[CV] END max_depth=6, min_samples_leaf=4, min_samples_split=6; total time=   0.0s\n",
      "[CV] END max_depth=6, min_samples_leaf=4, min_samples_split=6; total time=   0.0s\n",
      "[CV] END max_depth=6, min_samples_leaf=4, min_samples_split=6; total time=   0.0s\n",
      "[CV] END max_depth=6, min_samples_leaf=4, min_samples_split=6; total time=   0.0s\n",
      "[CV] END max_depth=6, min_samples_leaf=4, min_samples_split=8; total time=   0.0s\n",
      "[CV] END max_depth=6, min_samples_leaf=4, min_samples_split=8; total time=   0.0s\n",
      "[CV] END max_depth=6, min_samples_leaf=4, min_samples_split=8; total time=   0.0s\n",
      "[CV] END max_depth=6, min_samples_leaf=4, min_samples_split=8; total time=   0.0s\n",
      "[CV] END max_depth=6, min_samples_leaf=4, min_samples_split=8; total time=   0.0s\n",
      "[CV] END max_depth=6, min_samples_leaf=4, min_samples_split=10; total time=   0.0s\n",
      "[CV] END max_depth=6, min_samples_leaf=4, min_samples_split=10; total time=   0.0s\n",
      "[CV] END max_depth=6, min_samples_leaf=4, min_samples_split=10; total time=   0.0s\n",
      "[CV] END max_depth=6, min_samples_leaf=4, min_samples_split=10; total time=   0.0s\n",
      "[CV] END max_depth=6, min_samples_leaf=4, min_samples_split=10; total time=   0.0s\n",
      "[CV] END max_depth=6, min_samples_leaf=6, min_samples_split=2; total time=   0.0s\n",
      "[CV] END max_depth=6, min_samples_leaf=6, min_samples_split=2; total time=   0.0s\n",
      "[CV] END max_depth=6, min_samples_leaf=6, min_samples_split=2; total time=   0.0s\n",
      "[CV] END max_depth=6, min_samples_leaf=6, min_samples_split=2; total time=   0.0s\n",
      "[CV] END max_depth=6, min_samples_leaf=6, min_samples_split=2; total time=   0.0s\n",
      "[CV] END max_depth=6, min_samples_leaf=6, min_samples_split=4; total time=   0.0s\n",
      "[CV] END max_depth=6, min_samples_leaf=6, min_samples_split=4; total time=   0.0s\n",
      "[CV] END max_depth=6, min_samples_leaf=6, min_samples_split=4; total time=   0.0s\n",
      "[CV] END max_depth=6, min_samples_leaf=6, min_samples_split=4; total time=   0.0s\n",
      "[CV] END max_depth=6, min_samples_leaf=6, min_samples_split=4; total time=   0.0s\n",
      "[CV] END max_depth=6, min_samples_leaf=6, min_samples_split=6; total time=   0.0s\n",
      "[CV] END max_depth=6, min_samples_leaf=6, min_samples_split=6; total time=   0.0s\n",
      "[CV] END max_depth=6, min_samples_leaf=6, min_samples_split=6; total time=   0.0s\n",
      "[CV] END max_depth=6, min_samples_leaf=6, min_samples_split=6; total time=   0.0s\n",
      "[CV] END max_depth=6, min_samples_leaf=6, min_samples_split=6; total time=   0.0s\n",
      "[CV] END max_depth=6, min_samples_leaf=6, min_samples_split=8; total time=   0.0s\n",
      "[CV] END max_depth=6, min_samples_leaf=6, min_samples_split=8; total time=   0.0s\n",
      "[CV] END max_depth=6, min_samples_leaf=6, min_samples_split=8; total time=   0.0s\n",
      "[CV] END max_depth=6, min_samples_leaf=6, min_samples_split=8; total time=   0.0s\n",
      "[CV] END max_depth=6, min_samples_leaf=6, min_samples_split=8; total time=   0.0s\n",
      "[CV] END max_depth=6, min_samples_leaf=6, min_samples_split=10; total time=   0.0s\n",
      "[CV] END max_depth=6, min_samples_leaf=6, min_samples_split=10; total time=   0.0s\n",
      "[CV] END max_depth=6, min_samples_leaf=6, min_samples_split=10; total time=   0.0s\n",
      "[CV] END max_depth=6, min_samples_leaf=6, min_samples_split=10; total time=   0.0s\n",
      "[CV] END max_depth=6, min_samples_leaf=6, min_samples_split=10; total time=   0.0s\n",
      "[CV] END max_depth=6, min_samples_leaf=8, min_samples_split=2; total time=   0.0s\n",
      "[CV] END max_depth=6, min_samples_leaf=8, min_samples_split=2; total time=   0.0s\n",
      "[CV] END max_depth=6, min_samples_leaf=8, min_samples_split=2; total time=   0.0s\n",
      "[CV] END max_depth=6, min_samples_leaf=8, min_samples_split=2; total time=   0.0s\n",
      "[CV] END max_depth=6, min_samples_leaf=8, min_samples_split=2; total time=   0.0s\n",
      "[CV] END max_depth=6, min_samples_leaf=8, min_samples_split=4; total time=   0.0s\n",
      "[CV] END max_depth=6, min_samples_leaf=8, min_samples_split=4; total time=   0.0s\n",
      "[CV] END max_depth=6, min_samples_leaf=8, min_samples_split=4; total time=   0.0s\n",
      "[CV] END max_depth=6, min_samples_leaf=8, min_samples_split=4; total time=   0.0s\n",
      "[CV] END max_depth=6, min_samples_leaf=8, min_samples_split=4; total time=   0.0s\n",
      "[CV] END max_depth=6, min_samples_leaf=8, min_samples_split=6; total time=   0.0s\n",
      "[CV] END max_depth=6, min_samples_leaf=8, min_samples_split=6; total time=   0.0s\n",
      "[CV] END max_depth=6, min_samples_leaf=8, min_samples_split=6; total time=   0.0s\n",
      "[CV] END max_depth=6, min_samples_leaf=8, min_samples_split=6; total time=   0.0s\n",
      "[CV] END max_depth=6, min_samples_leaf=8, min_samples_split=6; total time=   0.0s\n",
      "[CV] END max_depth=6, min_samples_leaf=8, min_samples_split=8; total time=   0.0s\n",
      "[CV] END max_depth=6, min_samples_leaf=8, min_samples_split=8; total time=   0.0s\n",
      "[CV] END max_depth=6, min_samples_leaf=8, min_samples_split=8; total time=   0.0s\n",
      "[CV] END max_depth=6, min_samples_leaf=8, min_samples_split=8; total time=   0.0s\n",
      "[CV] END max_depth=6, min_samples_leaf=8, min_samples_split=8; total time=   0.0s\n",
      "[CV] END max_depth=6, min_samples_leaf=8, min_samples_split=10; total time=   0.0s\n",
      "[CV] END max_depth=6, min_samples_leaf=8, min_samples_split=10; total time=   0.0s\n",
      "[CV] END max_depth=6, min_samples_leaf=8, min_samples_split=10; total time=   0.0s\n",
      "[CV] END max_depth=6, min_samples_leaf=8, min_samples_split=10; total time=   0.0s\n",
      "[CV] END max_depth=6, min_samples_leaf=8, min_samples_split=10; total time=   0.0s\n",
      "[CV] END max_depth=6, min_samples_leaf=10, min_samples_split=2; total time=   0.0s\n",
      "[CV] END max_depth=6, min_samples_leaf=10, min_samples_split=2; total time=   0.0s\n",
      "[CV] END max_depth=6, min_samples_leaf=10, min_samples_split=2; total time=   0.0s\n",
      "[CV] END max_depth=6, min_samples_leaf=10, min_samples_split=2; total time=   0.0s\n",
      "[CV] END max_depth=6, min_samples_leaf=10, min_samples_split=2; total time=   0.0s\n",
      "[CV] END max_depth=6, min_samples_leaf=10, min_samples_split=4; total time=   0.0s\n",
      "[CV] END max_depth=6, min_samples_leaf=10, min_samples_split=4; total time=   0.0s\n",
      "[CV] END max_depth=6, min_samples_leaf=10, min_samples_split=4; total time=   0.0s\n",
      "[CV] END max_depth=6, min_samples_leaf=10, min_samples_split=4; total time=   0.0s\n",
      "[CV] END max_depth=6, min_samples_leaf=10, min_samples_split=4; total time=   0.0s\n",
      "[CV] END max_depth=6, min_samples_leaf=10, min_samples_split=6; total time=   0.0s\n",
      "[CV] END max_depth=6, min_samples_leaf=10, min_samples_split=6; total time=   0.0s\n",
      "[CV] END max_depth=6, min_samples_leaf=10, min_samples_split=6; total time=   0.0s\n",
      "[CV] END max_depth=6, min_samples_leaf=10, min_samples_split=6; total time=   0.0s\n",
      "[CV] END max_depth=6, min_samples_leaf=10, min_samples_split=6; total time=   0.0s\n",
      "[CV] END max_depth=6, min_samples_leaf=10, min_samples_split=8; total time=   0.0s\n",
      "[CV] END max_depth=6, min_samples_leaf=10, min_samples_split=8; total time=   0.0s\n",
      "[CV] END max_depth=6, min_samples_leaf=10, min_samples_split=8; total time=   0.0s\n",
      "[CV] END max_depth=6, min_samples_leaf=10, min_samples_split=8; total time=   0.0s\n",
      "[CV] END max_depth=6, min_samples_leaf=10, min_samples_split=8; total time=   0.0s\n",
      "[CV] END max_depth=6, min_samples_leaf=10, min_samples_split=10; total time=   0.0s\n",
      "[CV] END max_depth=6, min_samples_leaf=10, min_samples_split=10; total time=   0.0s\n",
      "[CV] END max_depth=6, min_samples_leaf=10, min_samples_split=10; total time=   0.0s\n",
      "[CV] END max_depth=6, min_samples_leaf=10, min_samples_split=10; total time=   0.0s\n",
      "[CV] END max_depth=6, min_samples_leaf=10, min_samples_split=10; total time=   0.0s\n"
     ]
    },
    {
     "data": {
      "text/plain": "GridSearchCV(cv=5, estimator=DecisionTreeClassifier(),\n             param_grid={'max_depth': [2, 4, 6],\n                         'min_samples_leaf': [2, 4, 6, 8, 10],\n                         'min_samples_split': [2, 4, 6, 8, 10]},\n             scoring='accuracy', verbose=2)",
      "text/html": "<style>#sk-container-id-5 {color: black;background-color: white;}#sk-container-id-5 pre{padding: 0;}#sk-container-id-5 div.sk-toggleable {background-color: white;}#sk-container-id-5 label.sk-toggleable__label {cursor: pointer;display: block;width: 100%;margin-bottom: 0;padding: 0.3em;box-sizing: border-box;text-align: center;}#sk-container-id-5 label.sk-toggleable__label-arrow:before {content: \"▸\";float: left;margin-right: 0.25em;color: #696969;}#sk-container-id-5 label.sk-toggleable__label-arrow:hover:before {color: black;}#sk-container-id-5 div.sk-estimator:hover label.sk-toggleable__label-arrow:before {color: black;}#sk-container-id-5 div.sk-toggleable__content {max-height: 0;max-width: 0;overflow: hidden;text-align: left;background-color: #f0f8ff;}#sk-container-id-5 div.sk-toggleable__content pre {margin: 0.2em;color: black;border-radius: 0.25em;background-color: #f0f8ff;}#sk-container-id-5 input.sk-toggleable__control:checked~div.sk-toggleable__content {max-height: 200px;max-width: 100%;overflow: auto;}#sk-container-id-5 input.sk-toggleable__control:checked~label.sk-toggleable__label-arrow:before {content: \"▾\";}#sk-container-id-5 div.sk-estimator input.sk-toggleable__control:checked~label.sk-toggleable__label {background-color: #d4ebff;}#sk-container-id-5 div.sk-label input.sk-toggleable__control:checked~label.sk-toggleable__label {background-color: #d4ebff;}#sk-container-id-5 input.sk-hidden--visually {border: 0;clip: rect(1px 1px 1px 1px);clip: rect(1px, 1px, 1px, 1px);height: 1px;margin: -1px;overflow: hidden;padding: 0;position: absolute;width: 1px;}#sk-container-id-5 div.sk-estimator {font-family: monospace;background-color: #f0f8ff;border: 1px dotted black;border-radius: 0.25em;box-sizing: border-box;margin-bottom: 0.5em;}#sk-container-id-5 div.sk-estimator:hover {background-color: #d4ebff;}#sk-container-id-5 div.sk-parallel-item::after {content: \"\";width: 100%;border-bottom: 1px solid gray;flex-grow: 1;}#sk-container-id-5 div.sk-label:hover label.sk-toggleable__label {background-color: #d4ebff;}#sk-container-id-5 div.sk-serial::before {content: \"\";position: absolute;border-left: 1px solid gray;box-sizing: border-box;top: 0;bottom: 0;left: 50%;z-index: 0;}#sk-container-id-5 div.sk-serial {display: flex;flex-direction: column;align-items: center;background-color: white;padding-right: 0.2em;padding-left: 0.2em;position: relative;}#sk-container-id-5 div.sk-item {position: relative;z-index: 1;}#sk-container-id-5 div.sk-parallel {display: flex;align-items: stretch;justify-content: center;background-color: white;position: relative;}#sk-container-id-5 div.sk-item::before, #sk-container-id-5 div.sk-parallel-item::before {content: \"\";position: absolute;border-left: 1px solid gray;box-sizing: border-box;top: 0;bottom: 0;left: 50%;z-index: -1;}#sk-container-id-5 div.sk-parallel-item {display: flex;flex-direction: column;z-index: 1;position: relative;background-color: white;}#sk-container-id-5 div.sk-parallel-item:first-child::after {align-self: flex-end;width: 50%;}#sk-container-id-5 div.sk-parallel-item:last-child::after {align-self: flex-start;width: 50%;}#sk-container-id-5 div.sk-parallel-item:only-child::after {width: 0;}#sk-container-id-5 div.sk-dashed-wrapped {border: 1px dashed gray;margin: 0 0.4em 0.5em 0.4em;box-sizing: border-box;padding-bottom: 0.4em;background-color: white;}#sk-container-id-5 div.sk-label label {font-family: monospace;font-weight: bold;display: inline-block;line-height: 1.2em;}#sk-container-id-5 div.sk-label-container {text-align: center;}#sk-container-id-5 div.sk-container {/* jupyter's `normalize.less` sets `[hidden] { display: none; }` but bootstrap.min.css set `[hidden] { display: none !important; }` so we also need the `!important` here to be able to override the default hidden behavior on the sphinx rendered scikit-learn.org. See: https://github.com/scikit-learn/scikit-learn/issues/21755 */display: inline-block !important;position: relative;}#sk-container-id-5 div.sk-text-repr-fallback {display: none;}</style><div id=\"sk-container-id-5\" class=\"sk-top-container\"><div class=\"sk-text-repr-fallback\"><pre>GridSearchCV(cv=5, estimator=DecisionTreeClassifier(),\n             param_grid={&#x27;max_depth&#x27;: [2, 4, 6],\n                         &#x27;min_samples_leaf&#x27;: [2, 4, 6, 8, 10],\n                         &#x27;min_samples_split&#x27;: [2, 4, 6, 8, 10]},\n             scoring=&#x27;accuracy&#x27;, verbose=2)</pre><b>In a Jupyter environment, please rerun this cell to show the HTML representation or trust the notebook. <br />On GitHub, the HTML representation is unable to render, please try loading this page with nbviewer.org.</b></div><div class=\"sk-container\" hidden><div class=\"sk-item sk-dashed-wrapped\"><div class=\"sk-label-container\"><div class=\"sk-label sk-toggleable\"><input class=\"sk-toggleable__control sk-hidden--visually\" id=\"sk-estimator-id-13\" type=\"checkbox\" ><label for=\"sk-estimator-id-13\" class=\"sk-toggleable__label sk-toggleable__label-arrow\">GridSearchCV</label><div class=\"sk-toggleable__content\"><pre>GridSearchCV(cv=5, estimator=DecisionTreeClassifier(),\n             param_grid={&#x27;max_depth&#x27;: [2, 4, 6],\n                         &#x27;min_samples_leaf&#x27;: [2, 4, 6, 8, 10],\n                         &#x27;min_samples_split&#x27;: [2, 4, 6, 8, 10]},\n             scoring=&#x27;accuracy&#x27;, verbose=2)</pre></div></div></div><div class=\"sk-parallel\"><div class=\"sk-parallel-item\"><div class=\"sk-item\"><div class=\"sk-label-container\"><div class=\"sk-label sk-toggleable\"><input class=\"sk-toggleable__control sk-hidden--visually\" id=\"sk-estimator-id-14\" type=\"checkbox\" ><label for=\"sk-estimator-id-14\" class=\"sk-toggleable__label sk-toggleable__label-arrow\">estimator: DecisionTreeClassifier</label><div class=\"sk-toggleable__content\"><pre>DecisionTreeClassifier()</pre></div></div></div><div class=\"sk-serial\"><div class=\"sk-item\"><div class=\"sk-estimator sk-toggleable\"><input class=\"sk-toggleable__control sk-hidden--visually\" id=\"sk-estimator-id-15\" type=\"checkbox\" ><label for=\"sk-estimator-id-15\" class=\"sk-toggleable__label sk-toggleable__label-arrow\">DecisionTreeClassifier</label><div class=\"sk-toggleable__content\"><pre>DecisionTreeClassifier()</pre></div></div></div></div></div></div></div></div></div></div>"
     },
     "execution_count": 57,
     "metadata": {},
     "output_type": "execute_result"
    }
   ],
   "source": [
    "grid.fit(X_train1, y_train1)"
   ],
   "metadata": {
    "collapsed": false
   }
  },
  {
   "cell_type": "code",
   "execution_count": 58,
   "outputs": [
    {
     "name": "stdout",
     "output_type": "stream",
     "text": [
      "{'max_depth': 4, 'min_samples_leaf': 8, 'min_samples_split': 10}\n",
      "0.7696518552450756\n"
     ]
    }
   ],
   "source": [
    "print(grid.best_params_)\n",
    "print(grid.best_score_)"
   ],
   "metadata": {
    "collapsed": false
   }
  },
  {
   "cell_type": "code",
   "execution_count": 59,
   "outputs": [],
   "source": [
    "dt_ds = DecisionTreeClassifier(max_depth=4, min_samples_leaf=8, min_samples_split=10)\n",
    "\n",
    "def dtf_ds(X,y):\n",
    "    dt_ds.fit(X, y)\n",
    "    dt_results = X.copy()\n",
    "    dt_results['y_pred'] = dt_ds.predict(X)\n",
    "    dt_results['y_real'] = y\n",
    "    dt_results['y_prob'] = dt_ds.predict_proba(X)[:,1]\n",
    "    dt_results['y_pred'] = np.where(dt_results['y_prob'] > 0.5, 1, 0)\n",
    "    return dt_results"
   ],
   "metadata": {
    "collapsed": false
   }
  },
  {
   "cell_type": "code",
   "execution_count": 60,
   "outputs": [
    {
     "name": "stdout",
     "output_type": "stream",
     "text": [
      "The confusion matrix for your predictions is:\n",
      "[[480 259]\n",
      " [ 67 670]] \n",
      "\n",
      "The accuracy of your model is: 0.7791327913279132\n",
      "The recall of your model is: 0.9090909090909091\n",
      "The precision of your model is: 0.721205597416577\n",
      "The F1-score of your model is: 0.8043217286914766\n",
      "The ROC-AUC-score of your model is: 0.7793086480501907\n"
     ]
    },
    {
     "data": {
      "text/plain": "{'fit_time': array([0.03690577, 0.03356838, 0.03800201, 0.03710723, 0.03471494]),\n 'score_time': array([0.00953221, 0.00997114, 0.01039028, 0.010216  , 0.00908852]),\n 'test_accuracy': array([0.94210283, 0.94210283, 0.94071329, 0.942076  , 0.94022243]),\n 'test_f1': array([0.07407407, 0.10071942, 0.05882353, 0.10071942, 0.01526718]),\n 'test_roc_auc': array([0.80302726, 0.82633923, 0.81730205, 0.807423  , 0.81782165]),\n 'test_matthews_corrcoef': array([0.19034063, 0.1951655 , 0.14920378, 0.195161  , 0.08504274])}"
     },
     "execution_count": 60,
     "metadata": {},
     "output_type": "execute_result"
    }
   ],
   "source": [
    "dtds_results = dtf_ds(X_train1, y_train1)\n",
    "get_results(y_train1,dtds_results['y_pred'])\n",
    "dtds_score = cross_validate(dt_ds, X_train1, y_train1, cv=5, scoring = ['accuracy', 'f1','roc_auc','matthews_corrcoef'])\n",
    "dt_score"
   ],
   "metadata": {
    "collapsed": false
   }
  },
  {
   "cell_type": "markdown",
   "source": [
    "### 10.3 RANDOM FOREST"
   ],
   "metadata": {
    "collapsed": false
   }
  },
  {
   "cell_type": "code",
   "execution_count": 61,
   "outputs": [],
   "source": [
    "gs = GridSearchCV(RandomForestClassifier(),\n",
    "                  param_grid={'max_depth': [2, 4, 6, 8],\n",
    "                              'n_estimators': [10, 25, 50]},\n",
    "                  cv=5)"
   ],
   "metadata": {
    "collapsed": false
   }
  },
  {
   "cell_type": "code",
   "execution_count": 62,
   "outputs": [
    {
     "data": {
      "text/plain": "GridSearchCV(cv=5, estimator=RandomForestClassifier(),\n             param_grid={'max_depth': [2, 4, 6, 8],\n                         'n_estimators': [10, 25, 50]})",
      "text/html": "<style>#sk-container-id-6 {color: black;background-color: white;}#sk-container-id-6 pre{padding: 0;}#sk-container-id-6 div.sk-toggleable {background-color: white;}#sk-container-id-6 label.sk-toggleable__label {cursor: pointer;display: block;width: 100%;margin-bottom: 0;padding: 0.3em;box-sizing: border-box;text-align: center;}#sk-container-id-6 label.sk-toggleable__label-arrow:before {content: \"▸\";float: left;margin-right: 0.25em;color: #696969;}#sk-container-id-6 label.sk-toggleable__label-arrow:hover:before {color: black;}#sk-container-id-6 div.sk-estimator:hover label.sk-toggleable__label-arrow:before {color: black;}#sk-container-id-6 div.sk-toggleable__content {max-height: 0;max-width: 0;overflow: hidden;text-align: left;background-color: #f0f8ff;}#sk-container-id-6 div.sk-toggleable__content pre {margin: 0.2em;color: black;border-radius: 0.25em;background-color: #f0f8ff;}#sk-container-id-6 input.sk-toggleable__control:checked~div.sk-toggleable__content {max-height: 200px;max-width: 100%;overflow: auto;}#sk-container-id-6 input.sk-toggleable__control:checked~label.sk-toggleable__label-arrow:before {content: \"▾\";}#sk-container-id-6 div.sk-estimator input.sk-toggleable__control:checked~label.sk-toggleable__label {background-color: #d4ebff;}#sk-container-id-6 div.sk-label input.sk-toggleable__control:checked~label.sk-toggleable__label {background-color: #d4ebff;}#sk-container-id-6 input.sk-hidden--visually {border: 0;clip: rect(1px 1px 1px 1px);clip: rect(1px, 1px, 1px, 1px);height: 1px;margin: -1px;overflow: hidden;padding: 0;position: absolute;width: 1px;}#sk-container-id-6 div.sk-estimator {font-family: monospace;background-color: #f0f8ff;border: 1px dotted black;border-radius: 0.25em;box-sizing: border-box;margin-bottom: 0.5em;}#sk-container-id-6 div.sk-estimator:hover {background-color: #d4ebff;}#sk-container-id-6 div.sk-parallel-item::after {content: \"\";width: 100%;border-bottom: 1px solid gray;flex-grow: 1;}#sk-container-id-6 div.sk-label:hover label.sk-toggleable__label {background-color: #d4ebff;}#sk-container-id-6 div.sk-serial::before {content: \"\";position: absolute;border-left: 1px solid gray;box-sizing: border-box;top: 0;bottom: 0;left: 50%;z-index: 0;}#sk-container-id-6 div.sk-serial {display: flex;flex-direction: column;align-items: center;background-color: white;padding-right: 0.2em;padding-left: 0.2em;position: relative;}#sk-container-id-6 div.sk-item {position: relative;z-index: 1;}#sk-container-id-6 div.sk-parallel {display: flex;align-items: stretch;justify-content: center;background-color: white;position: relative;}#sk-container-id-6 div.sk-item::before, #sk-container-id-6 div.sk-parallel-item::before {content: \"\";position: absolute;border-left: 1px solid gray;box-sizing: border-box;top: 0;bottom: 0;left: 50%;z-index: -1;}#sk-container-id-6 div.sk-parallel-item {display: flex;flex-direction: column;z-index: 1;position: relative;background-color: white;}#sk-container-id-6 div.sk-parallel-item:first-child::after {align-self: flex-end;width: 50%;}#sk-container-id-6 div.sk-parallel-item:last-child::after {align-self: flex-start;width: 50%;}#sk-container-id-6 div.sk-parallel-item:only-child::after {width: 0;}#sk-container-id-6 div.sk-dashed-wrapped {border: 1px dashed gray;margin: 0 0.4em 0.5em 0.4em;box-sizing: border-box;padding-bottom: 0.4em;background-color: white;}#sk-container-id-6 div.sk-label label {font-family: monospace;font-weight: bold;display: inline-block;line-height: 1.2em;}#sk-container-id-6 div.sk-label-container {text-align: center;}#sk-container-id-6 div.sk-container {/* jupyter's `normalize.less` sets `[hidden] { display: none; }` but bootstrap.min.css set `[hidden] { display: none !important; }` so we also need the `!important` here to be able to override the default hidden behavior on the sphinx rendered scikit-learn.org. See: https://github.com/scikit-learn/scikit-learn/issues/21755 */display: inline-block !important;position: relative;}#sk-container-id-6 div.sk-text-repr-fallback {display: none;}</style><div id=\"sk-container-id-6\" class=\"sk-top-container\"><div class=\"sk-text-repr-fallback\"><pre>GridSearchCV(cv=5, estimator=RandomForestClassifier(),\n             param_grid={&#x27;max_depth&#x27;: [2, 4, 6, 8],\n                         &#x27;n_estimators&#x27;: [10, 25, 50]})</pre><b>In a Jupyter environment, please rerun this cell to show the HTML representation or trust the notebook. <br />On GitHub, the HTML representation is unable to render, please try loading this page with nbviewer.org.</b></div><div class=\"sk-container\" hidden><div class=\"sk-item sk-dashed-wrapped\"><div class=\"sk-label-container\"><div class=\"sk-label sk-toggleable\"><input class=\"sk-toggleable__control sk-hidden--visually\" id=\"sk-estimator-id-16\" type=\"checkbox\" ><label for=\"sk-estimator-id-16\" class=\"sk-toggleable__label sk-toggleable__label-arrow\">GridSearchCV</label><div class=\"sk-toggleable__content\"><pre>GridSearchCV(cv=5, estimator=RandomForestClassifier(),\n             param_grid={&#x27;max_depth&#x27;: [2, 4, 6, 8],\n                         &#x27;n_estimators&#x27;: [10, 25, 50]})</pre></div></div></div><div class=\"sk-parallel\"><div class=\"sk-parallel-item\"><div class=\"sk-item\"><div class=\"sk-label-container\"><div class=\"sk-label sk-toggleable\"><input class=\"sk-toggleable__control sk-hidden--visually\" id=\"sk-estimator-id-17\" type=\"checkbox\" ><label for=\"sk-estimator-id-17\" class=\"sk-toggleable__label sk-toggleable__label-arrow\">estimator: RandomForestClassifier</label><div class=\"sk-toggleable__content\"><pre>RandomForestClassifier()</pre></div></div></div><div class=\"sk-serial\"><div class=\"sk-item\"><div class=\"sk-estimator sk-toggleable\"><input class=\"sk-toggleable__control sk-hidden--visually\" id=\"sk-estimator-id-18\" type=\"checkbox\" ><label for=\"sk-estimator-id-18\" class=\"sk-toggleable__label sk-toggleable__label-arrow\">RandomForestClassifier</label><div class=\"sk-toggleable__content\"><pre>RandomForestClassifier()</pre></div></div></div></div></div></div></div></div></div></div>"
     },
     "execution_count": 62,
     "metadata": {},
     "output_type": "execute_result"
    }
   ],
   "source": [
    "gs.fit(X_train1, y_train1)"
   ],
   "metadata": {
    "collapsed": false
   }
  },
  {
   "cell_type": "code",
   "execution_count": 63,
   "outputs": [
    {
     "name": "stdout",
     "output_type": "stream",
     "text": [
      "{'max_depth': 8, 'n_estimators': 50}\n",
      "0.774388456252863\n"
     ]
    }
   ],
   "source": [
    "print(gs.best_params_)\n",
    "print(gs.best_score_)"
   ],
   "metadata": {
    "collapsed": false
   }
  },
  {
   "cell_type": "code",
   "execution_count": 64,
   "outputs": [],
   "source": [
    "rf = RandomForestClassifier(n_estimators= 50, max_depth= 6)\n",
    "def rff_ds(X,y):\n",
    "    rf.fit(X, y)\n",
    "    rf_results = X.copy()\n",
    "    rf_results['y_pred'] = rf.predict(X)\n",
    "    rf_results['y_real'] = y\n",
    "    rf_results['y_prob'] = rf.predict_proba(X)[:,1]\n",
    "    rf_results['y_pred'] = np.where(rf_results['y_prob'] > 0.55, 1, 0)\n",
    "    return rf_results"
   ],
   "metadata": {
    "collapsed": false
   }
  },
  {
   "cell_type": "code",
   "execution_count": 65,
   "outputs": [
    {
     "name": "stdout",
     "output_type": "stream",
     "text": [
      "The confusion matrix for your predictions is:\n",
      "[[516 223]\n",
      " [ 37 700]] \n",
      "\n",
      "The accuracy of your model is: 0.8238482384823849\n",
      "The recall of your model is: 0.9497964721845319\n",
      "The precision of your model is: 0.7583965330444203\n",
      "The F1-score of your model is: 0.8433734939759036\n",
      "The ROC-AUC-score of your model is: 0.8240186691098573\n"
     ]
    },
    {
     "data": {
      "text/plain": "{'fit_time': array([0.100878  , 0.11034036, 0.12202907, 0.11584854, 0.11886072]),\n 'score_time': array([0.01832223, 0.02012944, 0.02371597, 0.02518773, 0.02188945]),\n 'test_accuracy': array([0.77364865, 0.73898305, 0.77288136, 0.77627119, 0.77627119]),\n 'test_f1': array([0.80802292, 0.78787879, 0.80466472, 0.81142857, 0.8125    ]),\n 'test_roc_auc': array([0.80802593, 0.77900349, 0.80924802, 0.80175584, 0.81071888]),\n 'test_matthews_corrcoef': array([0.58617216, 0.54147606, 0.57908032, 0.59774995, 0.59676388])}"
     },
     "execution_count": 65,
     "metadata": {},
     "output_type": "execute_result"
    }
   ],
   "source": [
    "rf_results1 = rff_ds(X_train1, y_train1)\n",
    "get_results(y_train1,rf_results1['y_pred'])\n",
    "rfds_score = cross_validate(rf, X_train1, y_train1, cv=5, scoring = ['accuracy', 'f1','roc_auc','matthews_corrcoef'])\n",
    "rfds_score"
   ],
   "metadata": {
    "collapsed": false
   }
  },
  {
   "cell_type": "markdown",
   "source": [
    "## 11. UPSAMPLE WITH SMOTE"
   ],
   "metadata": {
    "collapsed": false
   }
  },
  {
   "cell_type": "code",
   "execution_count": 66,
   "outputs": [],
   "source": [
    "sm = SMOTE(random_state=42)\n",
    "X_res, y_res = sm.fit_resample(X_train_eng, y_train)"
   ],
   "metadata": {
    "collapsed": false
   }
  },
  {
   "cell_type": "markdown",
   "source": [
    "## 12. MODELS WITH SMOTE APPLIED"
   ],
   "metadata": {
    "collapsed": false
   }
  },
  {
   "cell_type": "markdown",
   "source": [
    "### 12.1 LOGISTIC REGRESSION"
   ],
   "metadata": {
    "collapsed": false
   }
  },
  {
   "cell_type": "code",
   "execution_count": 67,
   "outputs": [],
   "source": [
    "grid_search = GridSearchCV(estimator = LogisticRegression(),\n",
    "                           param_grid = {'max_iter': [100, 200 , 500]},\n",
    "                           scoring = 'accuracy',\n",
    "                           cv = 5,\n",
    "                           verbose=0)"
   ],
   "metadata": {
    "collapsed": false
   }
  },
  {
   "cell_type": "code",
   "execution_count": 68,
   "outputs": [
    {
     "name": "stderr",
     "output_type": "stream",
     "text": [
      "C:\\Users\\mites\\anaconda3\\lib\\site-packages\\sklearn\\linear_model\\_logistic.py:458: ConvergenceWarning: lbfgs failed to converge (status=1):\n",
      "STOP: TOTAL NO. of ITERATIONS REACHED LIMIT.\n",
      "\n",
      "Increase the number of iterations (max_iter) or scale the data as shown in:\n",
      "    https://scikit-learn.org/stable/modules/preprocessing.html\n",
      "Please also refer to the documentation for alternative solver options:\n",
      "    https://scikit-learn.org/stable/modules/linear_model.html#logistic-regression\n",
      "  n_iter_i = _check_optimize_result(\n",
      "C:\\Users\\mites\\anaconda3\\lib\\site-packages\\sklearn\\linear_model\\_logistic.py:458: ConvergenceWarning: lbfgs failed to converge (status=1):\n",
      "STOP: TOTAL NO. of ITERATIONS REACHED LIMIT.\n",
      "\n",
      "Increase the number of iterations (max_iter) or scale the data as shown in:\n",
      "    https://scikit-learn.org/stable/modules/preprocessing.html\n",
      "Please also refer to the documentation for alternative solver options:\n",
      "    https://scikit-learn.org/stable/modules/linear_model.html#logistic-regression\n",
      "  n_iter_i = _check_optimize_result(\n",
      "C:\\Users\\mites\\anaconda3\\lib\\site-packages\\sklearn\\linear_model\\_logistic.py:458: ConvergenceWarning: lbfgs failed to converge (status=1):\n",
      "STOP: TOTAL NO. of ITERATIONS REACHED LIMIT.\n",
      "\n",
      "Increase the number of iterations (max_iter) or scale the data as shown in:\n",
      "    https://scikit-learn.org/stable/modules/preprocessing.html\n",
      "Please also refer to the documentation for alternative solver options:\n",
      "    https://scikit-learn.org/stable/modules/linear_model.html#logistic-regression\n",
      "  n_iter_i = _check_optimize_result(\n",
      "C:\\Users\\mites\\anaconda3\\lib\\site-packages\\sklearn\\linear_model\\_logistic.py:458: ConvergenceWarning: lbfgs failed to converge (status=1):\n",
      "STOP: TOTAL NO. of ITERATIONS REACHED LIMIT.\n",
      "\n",
      "Increase the number of iterations (max_iter) or scale the data as shown in:\n",
      "    https://scikit-learn.org/stable/modules/preprocessing.html\n",
      "Please also refer to the documentation for alternative solver options:\n",
      "    https://scikit-learn.org/stable/modules/linear_model.html#logistic-regression\n",
      "  n_iter_i = _check_optimize_result(\n",
      "C:\\Users\\mites\\anaconda3\\lib\\site-packages\\sklearn\\linear_model\\_logistic.py:458: ConvergenceWarning: lbfgs failed to converge (status=1):\n",
      "STOP: TOTAL NO. of ITERATIONS REACHED LIMIT.\n",
      "\n",
      "Increase the number of iterations (max_iter) or scale the data as shown in:\n",
      "    https://scikit-learn.org/stable/modules/preprocessing.html\n",
      "Please also refer to the documentation for alternative solver options:\n",
      "    https://scikit-learn.org/stable/modules/linear_model.html#logistic-regression\n",
      "  n_iter_i = _check_optimize_result(\n",
      "C:\\Users\\mites\\anaconda3\\lib\\site-packages\\sklearn\\linear_model\\_logistic.py:458: ConvergenceWarning: lbfgs failed to converge (status=1):\n",
      "STOP: TOTAL NO. of ITERATIONS REACHED LIMIT.\n",
      "\n",
      "Increase the number of iterations (max_iter) or scale the data as shown in:\n",
      "    https://scikit-learn.org/stable/modules/preprocessing.html\n",
      "Please also refer to the documentation for alternative solver options:\n",
      "    https://scikit-learn.org/stable/modules/linear_model.html#logistic-regression\n",
      "  n_iter_i = _check_optimize_result(\n",
      "C:\\Users\\mites\\anaconda3\\lib\\site-packages\\sklearn\\linear_model\\_logistic.py:458: ConvergenceWarning: lbfgs failed to converge (status=1):\n",
      "STOP: TOTAL NO. of ITERATIONS REACHED LIMIT.\n",
      "\n",
      "Increase the number of iterations (max_iter) or scale the data as shown in:\n",
      "    https://scikit-learn.org/stable/modules/preprocessing.html\n",
      "Please also refer to the documentation for alternative solver options:\n",
      "    https://scikit-learn.org/stable/modules/linear_model.html#logistic-regression\n",
      "  n_iter_i = _check_optimize_result(\n",
      "C:\\Users\\mites\\anaconda3\\lib\\site-packages\\sklearn\\linear_model\\_logistic.py:458: ConvergenceWarning: lbfgs failed to converge (status=1):\n",
      "STOP: TOTAL NO. of ITERATIONS REACHED LIMIT.\n",
      "\n",
      "Increase the number of iterations (max_iter) or scale the data as shown in:\n",
      "    https://scikit-learn.org/stable/modules/preprocessing.html\n",
      "Please also refer to the documentation for alternative solver options:\n",
      "    https://scikit-learn.org/stable/modules/linear_model.html#logistic-regression\n",
      "  n_iter_i = _check_optimize_result(\n",
      "C:\\Users\\mites\\anaconda3\\lib\\site-packages\\sklearn\\linear_model\\_logistic.py:458: ConvergenceWarning: lbfgs failed to converge (status=1):\n",
      "STOP: TOTAL NO. of ITERATIONS REACHED LIMIT.\n",
      "\n",
      "Increase the number of iterations (max_iter) or scale the data as shown in:\n",
      "    https://scikit-learn.org/stable/modules/preprocessing.html\n",
      "Please also refer to the documentation for alternative solver options:\n",
      "    https://scikit-learn.org/stable/modules/linear_model.html#logistic-regression\n",
      "  n_iter_i = _check_optimize_result(\n",
      "C:\\Users\\mites\\anaconda3\\lib\\site-packages\\sklearn\\linear_model\\_logistic.py:458: ConvergenceWarning: lbfgs failed to converge (status=1):\n",
      "STOP: TOTAL NO. of ITERATIONS REACHED LIMIT.\n",
      "\n",
      "Increase the number of iterations (max_iter) or scale the data as shown in:\n",
      "    https://scikit-learn.org/stable/modules/preprocessing.html\n",
      "Please also refer to the documentation for alternative solver options:\n",
      "    https://scikit-learn.org/stable/modules/linear_model.html#logistic-regression\n",
      "  n_iter_i = _check_optimize_result(\n",
      "C:\\Users\\mites\\anaconda3\\lib\\site-packages\\sklearn\\linear_model\\_logistic.py:458: ConvergenceWarning: lbfgs failed to converge (status=1):\n",
      "STOP: TOTAL NO. of ITERATIONS REACHED LIMIT.\n",
      "\n",
      "Increase the number of iterations (max_iter) or scale the data as shown in:\n",
      "    https://scikit-learn.org/stable/modules/preprocessing.html\n",
      "Please also refer to the documentation for alternative solver options:\n",
      "    https://scikit-learn.org/stable/modules/linear_model.html#logistic-regression\n",
      "  n_iter_i = _check_optimize_result(\n",
      "C:\\Users\\mites\\anaconda3\\lib\\site-packages\\sklearn\\linear_model\\_logistic.py:458: ConvergenceWarning: lbfgs failed to converge (status=1):\n",
      "STOP: TOTAL NO. of ITERATIONS REACHED LIMIT.\n",
      "\n",
      "Increase the number of iterations (max_iter) or scale the data as shown in:\n",
      "    https://scikit-learn.org/stable/modules/preprocessing.html\n",
      "Please also refer to the documentation for alternative solver options:\n",
      "    https://scikit-learn.org/stable/modules/linear_model.html#logistic-regression\n",
      "  n_iter_i = _check_optimize_result(\n",
      "C:\\Users\\mites\\anaconda3\\lib\\site-packages\\sklearn\\linear_model\\_logistic.py:458: ConvergenceWarning: lbfgs failed to converge (status=1):\n",
      "STOP: TOTAL NO. of ITERATIONS REACHED LIMIT.\n",
      "\n",
      "Increase the number of iterations (max_iter) or scale the data as shown in:\n",
      "    https://scikit-learn.org/stable/modules/preprocessing.html\n",
      "Please also refer to the documentation for alternative solver options:\n",
      "    https://scikit-learn.org/stable/modules/linear_model.html#logistic-regression\n",
      "  n_iter_i = _check_optimize_result(\n",
      "C:\\Users\\mites\\anaconda3\\lib\\site-packages\\sklearn\\linear_model\\_logistic.py:458: ConvergenceWarning: lbfgs failed to converge (status=1):\n",
      "STOP: TOTAL NO. of ITERATIONS REACHED LIMIT.\n",
      "\n",
      "Increase the number of iterations (max_iter) or scale the data as shown in:\n",
      "    https://scikit-learn.org/stable/modules/preprocessing.html\n",
      "Please also refer to the documentation for alternative solver options:\n",
      "    https://scikit-learn.org/stable/modules/linear_model.html#logistic-regression\n",
      "  n_iter_i = _check_optimize_result(\n",
      "C:\\Users\\mites\\anaconda3\\lib\\site-packages\\sklearn\\linear_model\\_logistic.py:458: ConvergenceWarning: lbfgs failed to converge (status=1):\n",
      "STOP: TOTAL NO. of ITERATIONS REACHED LIMIT.\n",
      "\n",
      "Increase the number of iterations (max_iter) or scale the data as shown in:\n",
      "    https://scikit-learn.org/stable/modules/preprocessing.html\n",
      "Please also refer to the documentation for alternative solver options:\n",
      "    https://scikit-learn.org/stable/modules/linear_model.html#logistic-regression\n",
      "  n_iter_i = _check_optimize_result(\n",
      "C:\\Users\\mites\\anaconda3\\lib\\site-packages\\sklearn\\linear_model\\_logistic.py:458: ConvergenceWarning: lbfgs failed to converge (status=1):\n",
      "STOP: TOTAL NO. of ITERATIONS REACHED LIMIT.\n",
      "\n",
      "Increase the number of iterations (max_iter) or scale the data as shown in:\n",
      "    https://scikit-learn.org/stable/modules/preprocessing.html\n",
      "Please also refer to the documentation for alternative solver options:\n",
      "    https://scikit-learn.org/stable/modules/linear_model.html#logistic-regression\n",
      "  n_iter_i = _check_optimize_result(\n"
     ]
    },
    {
     "data": {
      "text/plain": "GridSearchCV(cv=5, estimator=LogisticRegression(),\n             param_grid={'max_iter': [100, 200, 500]}, scoring='accuracy')",
      "text/html": "<style>#sk-container-id-7 {color: black;background-color: white;}#sk-container-id-7 pre{padding: 0;}#sk-container-id-7 div.sk-toggleable {background-color: white;}#sk-container-id-7 label.sk-toggleable__label {cursor: pointer;display: block;width: 100%;margin-bottom: 0;padding: 0.3em;box-sizing: border-box;text-align: center;}#sk-container-id-7 label.sk-toggleable__label-arrow:before {content: \"▸\";float: left;margin-right: 0.25em;color: #696969;}#sk-container-id-7 label.sk-toggleable__label-arrow:hover:before {color: black;}#sk-container-id-7 div.sk-estimator:hover label.sk-toggleable__label-arrow:before {color: black;}#sk-container-id-7 div.sk-toggleable__content {max-height: 0;max-width: 0;overflow: hidden;text-align: left;background-color: #f0f8ff;}#sk-container-id-7 div.sk-toggleable__content pre {margin: 0.2em;color: black;border-radius: 0.25em;background-color: #f0f8ff;}#sk-container-id-7 input.sk-toggleable__control:checked~div.sk-toggleable__content {max-height: 200px;max-width: 100%;overflow: auto;}#sk-container-id-7 input.sk-toggleable__control:checked~label.sk-toggleable__label-arrow:before {content: \"▾\";}#sk-container-id-7 div.sk-estimator input.sk-toggleable__control:checked~label.sk-toggleable__label {background-color: #d4ebff;}#sk-container-id-7 div.sk-label input.sk-toggleable__control:checked~label.sk-toggleable__label {background-color: #d4ebff;}#sk-container-id-7 input.sk-hidden--visually {border: 0;clip: rect(1px 1px 1px 1px);clip: rect(1px, 1px, 1px, 1px);height: 1px;margin: -1px;overflow: hidden;padding: 0;position: absolute;width: 1px;}#sk-container-id-7 div.sk-estimator {font-family: monospace;background-color: #f0f8ff;border: 1px dotted black;border-radius: 0.25em;box-sizing: border-box;margin-bottom: 0.5em;}#sk-container-id-7 div.sk-estimator:hover {background-color: #d4ebff;}#sk-container-id-7 div.sk-parallel-item::after {content: \"\";width: 100%;border-bottom: 1px solid gray;flex-grow: 1;}#sk-container-id-7 div.sk-label:hover label.sk-toggleable__label {background-color: #d4ebff;}#sk-container-id-7 div.sk-serial::before {content: \"\";position: absolute;border-left: 1px solid gray;box-sizing: border-box;top: 0;bottom: 0;left: 50%;z-index: 0;}#sk-container-id-7 div.sk-serial {display: flex;flex-direction: column;align-items: center;background-color: white;padding-right: 0.2em;padding-left: 0.2em;position: relative;}#sk-container-id-7 div.sk-item {position: relative;z-index: 1;}#sk-container-id-7 div.sk-parallel {display: flex;align-items: stretch;justify-content: center;background-color: white;position: relative;}#sk-container-id-7 div.sk-item::before, #sk-container-id-7 div.sk-parallel-item::before {content: \"\";position: absolute;border-left: 1px solid gray;box-sizing: border-box;top: 0;bottom: 0;left: 50%;z-index: -1;}#sk-container-id-7 div.sk-parallel-item {display: flex;flex-direction: column;z-index: 1;position: relative;background-color: white;}#sk-container-id-7 div.sk-parallel-item:first-child::after {align-self: flex-end;width: 50%;}#sk-container-id-7 div.sk-parallel-item:last-child::after {align-self: flex-start;width: 50%;}#sk-container-id-7 div.sk-parallel-item:only-child::after {width: 0;}#sk-container-id-7 div.sk-dashed-wrapped {border: 1px dashed gray;margin: 0 0.4em 0.5em 0.4em;box-sizing: border-box;padding-bottom: 0.4em;background-color: white;}#sk-container-id-7 div.sk-label label {font-family: monospace;font-weight: bold;display: inline-block;line-height: 1.2em;}#sk-container-id-7 div.sk-label-container {text-align: center;}#sk-container-id-7 div.sk-container {/* jupyter's `normalize.less` sets `[hidden] { display: none; }` but bootstrap.min.css set `[hidden] { display: none !important; }` so we also need the `!important` here to be able to override the default hidden behavior on the sphinx rendered scikit-learn.org. See: https://github.com/scikit-learn/scikit-learn/issues/21755 */display: inline-block !important;position: relative;}#sk-container-id-7 div.sk-text-repr-fallback {display: none;}</style><div id=\"sk-container-id-7\" class=\"sk-top-container\"><div class=\"sk-text-repr-fallback\"><pre>GridSearchCV(cv=5, estimator=LogisticRegression(),\n             param_grid={&#x27;max_iter&#x27;: [100, 200, 500]}, scoring=&#x27;accuracy&#x27;)</pre><b>In a Jupyter environment, please rerun this cell to show the HTML representation or trust the notebook. <br />On GitHub, the HTML representation is unable to render, please try loading this page with nbviewer.org.</b></div><div class=\"sk-container\" hidden><div class=\"sk-item sk-dashed-wrapped\"><div class=\"sk-label-container\"><div class=\"sk-label sk-toggleable\"><input class=\"sk-toggleable__control sk-hidden--visually\" id=\"sk-estimator-id-19\" type=\"checkbox\" ><label for=\"sk-estimator-id-19\" class=\"sk-toggleable__label sk-toggleable__label-arrow\">GridSearchCV</label><div class=\"sk-toggleable__content\"><pre>GridSearchCV(cv=5, estimator=LogisticRegression(),\n             param_grid={&#x27;max_iter&#x27;: [100, 200, 500]}, scoring=&#x27;accuracy&#x27;)</pre></div></div></div><div class=\"sk-parallel\"><div class=\"sk-parallel-item\"><div class=\"sk-item\"><div class=\"sk-label-container\"><div class=\"sk-label sk-toggleable\"><input class=\"sk-toggleable__control sk-hidden--visually\" id=\"sk-estimator-id-20\" type=\"checkbox\" ><label for=\"sk-estimator-id-20\" class=\"sk-toggleable__label sk-toggleable__label-arrow\">estimator: LogisticRegression</label><div class=\"sk-toggleable__content\"><pre>LogisticRegression()</pre></div></div></div><div class=\"sk-serial\"><div class=\"sk-item\"><div class=\"sk-estimator sk-toggleable\"><input class=\"sk-toggleable__control sk-hidden--visually\" id=\"sk-estimator-id-21\" type=\"checkbox\" ><label for=\"sk-estimator-id-21\" class=\"sk-toggleable__label sk-toggleable__label-arrow\">LogisticRegression</label><div class=\"sk-toggleable__content\"><pre>LogisticRegression()</pre></div></div></div></div></div></div></div></div></div></div>"
     },
     "execution_count": 68,
     "metadata": {},
     "output_type": "execute_result"
    }
   ],
   "source": [
    "grid_search.fit(X_res, y_res)"
   ],
   "metadata": {
    "collapsed": false
   }
  },
  {
   "cell_type": "code",
   "execution_count": 69,
   "outputs": [
    {
     "name": "stdout",
     "output_type": "stream",
     "text": [
      "{'max_iter': 500}\n",
      "0.9501099835237413\n"
     ]
    }
   ],
   "source": [
    "print(grid_search.best_params_)\n",
    "print(grid_search.best_score_)"
   ],
   "metadata": {
    "collapsed": false
   }
  },
  {
   "cell_type": "code",
   "execution_count": 70,
   "outputs": [],
   "source": [
    "lgrs = LogisticRegression(max_iter=500, random_state=10)\n",
    "def lre_smote(X,y):\n",
    "    lgrs.fit(X, y)\n",
    "    lgrs_results = X.copy()\n",
    "    lgrs_results[['Not Fraud', 'Fraud']] = lgrs.predict_proba(X)\n",
    "    lgrs_results['y_pred'] = np.where(lgrs_results['Fraud'] > 0.5, 1, 0)\n",
    "\n",
    "    return lgrs_results"
   ],
   "metadata": {
    "collapsed": false
   }
  },
  {
   "cell_type": "code",
   "execution_count": 71,
   "outputs": [
    {
     "name": "stderr",
     "output_type": "stream",
     "text": [
      "C:\\Users\\mites\\anaconda3\\lib\\site-packages\\sklearn\\linear_model\\_logistic.py:458: ConvergenceWarning: lbfgs failed to converge (status=1):\n",
      "STOP: TOTAL NO. of ITERATIONS REACHED LIMIT.\n",
      "\n",
      "Increase the number of iterations (max_iter) or scale the data as shown in:\n",
      "    https://scikit-learn.org/stable/modules/preprocessing.html\n",
      "Please also refer to the documentation for alternative solver options:\n",
      "    https://scikit-learn.org/stable/modules/linear_model.html#logistic-regression\n",
      "  n_iter_i = _check_optimize_result(\n"
     ]
    },
    {
     "name": "stdout",
     "output_type": "stream",
     "text": [
      "The confusion matrix for your predictions is:\n",
      "[[9805  337]\n",
      " [ 605 9537]] \n",
      "\n",
      "The accuracy of your model is: 0.9535594557286531\n",
      "The recall of your model is: 0.940347071583514\n",
      "The precision of your model is: 0.9658699615150901\n",
      "The F1-score of your model is: 0.9529376498800959\n",
      "The ROC-AUC-score of your model is: 0.953559455728653\n"
     ]
    },
    {
     "name": "stderr",
     "output_type": "stream",
     "text": [
      "C:\\Users\\mites\\anaconda3\\lib\\site-packages\\sklearn\\linear_model\\_logistic.py:458: ConvergenceWarning: lbfgs failed to converge (status=1):\n",
      "STOP: TOTAL NO. of ITERATIONS REACHED LIMIT.\n",
      "\n",
      "Increase the number of iterations (max_iter) or scale the data as shown in:\n",
      "    https://scikit-learn.org/stable/modules/preprocessing.html\n",
      "Please also refer to the documentation for alternative solver options:\n",
      "    https://scikit-learn.org/stable/modules/linear_model.html#logistic-regression\n",
      "  n_iter_i = _check_optimize_result(\n",
      "C:\\Users\\mites\\anaconda3\\lib\\site-packages\\sklearn\\linear_model\\_logistic.py:458: ConvergenceWarning: lbfgs failed to converge (status=1):\n",
      "STOP: TOTAL NO. of ITERATIONS REACHED LIMIT.\n",
      "\n",
      "Increase the number of iterations (max_iter) or scale the data as shown in:\n",
      "    https://scikit-learn.org/stable/modules/preprocessing.html\n",
      "Please also refer to the documentation for alternative solver options:\n",
      "    https://scikit-learn.org/stable/modules/linear_model.html#logistic-regression\n",
      "  n_iter_i = _check_optimize_result(\n",
      "C:\\Users\\mites\\anaconda3\\lib\\site-packages\\sklearn\\linear_model\\_logistic.py:458: ConvergenceWarning: lbfgs failed to converge (status=1):\n",
      "STOP: TOTAL NO. of ITERATIONS REACHED LIMIT.\n",
      "\n",
      "Increase the number of iterations (max_iter) or scale the data as shown in:\n",
      "    https://scikit-learn.org/stable/modules/preprocessing.html\n",
      "Please also refer to the documentation for alternative solver options:\n",
      "    https://scikit-learn.org/stable/modules/linear_model.html#logistic-regression\n",
      "  n_iter_i = _check_optimize_result(\n",
      "C:\\Users\\mites\\anaconda3\\lib\\site-packages\\sklearn\\linear_model\\_logistic.py:458: ConvergenceWarning: lbfgs failed to converge (status=1):\n",
      "STOP: TOTAL NO. of ITERATIONS REACHED LIMIT.\n",
      "\n",
      "Increase the number of iterations (max_iter) or scale the data as shown in:\n",
      "    https://scikit-learn.org/stable/modules/preprocessing.html\n",
      "Please also refer to the documentation for alternative solver options:\n",
      "    https://scikit-learn.org/stable/modules/linear_model.html#logistic-regression\n",
      "  n_iter_i = _check_optimize_result(\n",
      "C:\\Users\\mites\\anaconda3\\lib\\site-packages\\sklearn\\linear_model\\_logistic.py:458: ConvergenceWarning: lbfgs failed to converge (status=1):\n",
      "STOP: TOTAL NO. of ITERATIONS REACHED LIMIT.\n",
      "\n",
      "Increase the number of iterations (max_iter) or scale the data as shown in:\n",
      "    https://scikit-learn.org/stable/modules/preprocessing.html\n",
      "Please also refer to the documentation for alternative solver options:\n",
      "    https://scikit-learn.org/stable/modules/linear_model.html#logistic-regression\n",
      "  n_iter_i = _check_optimize_result(\n"
     ]
    },
    {
     "data": {
      "text/plain": "{'fit_time': array([1.63371849, 1.6131258 , 1.5511806 , 1.15602994, 1.14344525]),\n 'score_time': array([0.01986384, 0.01891685, 0.01544881, 0.01645255, 0.01659918]),\n 'test_accuracy': array([0.8355928 , 0.980281  , 0.97904856, 0.97461178, 0.98101578]),\n 'test_f1': array([0.806161  , 0.98063892, 0.97944377, 0.9751867 , 0.98132428]),\n 'test_roc_auc': array([0.919242  , 0.99940799, 0.99949305, 0.99877856, 0.99902329]),\n 'test_matthews_corrcoef': array([0.70431584, 0.96123723, 0.95878774, 0.95022218, 0.962557  ])}"
     },
     "execution_count": 71,
     "metadata": {},
     "output_type": "execute_result"
    }
   ],
   "source": [
    " #APPLYING FUNCTION TO TRAIN\n",
    "\n",
    "lgrs_results =lre_smote(X_res, y_res)\n",
    "get_results(y_res,lgrs_results['y_pred'])\n",
    "lgrs_score = cross_validate(lgrs,  X_res, y_res, cv=5, scoring = ['accuracy', 'f1','roc_auc','matthews_corrcoef'])\n",
    "lgrs_score"
   ],
   "metadata": {
    "collapsed": false
   }
  },
  {
   "cell_type": "markdown",
   "source": [
    "### 12.2 DECISION TREE"
   ],
   "metadata": {
    "collapsed": false
   }
  },
  {
   "cell_type": "code",
   "execution_count": 72,
   "outputs": [],
   "source": [
    "grid = GridSearchCV(estimator = DecisionTreeClassifier(),\n",
    "                    param_grid = {'max_depth': [ 20, 30,40],\n",
    "                                  'min_samples_split': [2,4,6,8,10],\n",
    "                                  'min_samples_leaf': [2,4,6,8,10]},\n",
    "                    cv = 5,\n",
    "                    refit = True,\n",
    "                    verbose = 2,\n",
    "                    scoring = 'accuracy')"
   ],
   "metadata": {
    "collapsed": false
   }
  },
  {
   "cell_type": "code",
   "execution_count": 73,
   "outputs": [
    {
     "name": "stdout",
     "output_type": "stream",
     "text": [
      "Fitting 5 folds for each of 75 candidates, totalling 375 fits\n",
      "[CV] END max_depth=20, min_samples_leaf=2, min_samples_split=2; total time=   0.1s\n",
      "[CV] END max_depth=20, min_samples_leaf=2, min_samples_split=2; total time=   0.1s\n",
      "[CV] END max_depth=20, min_samples_leaf=2, min_samples_split=2; total time=   0.1s\n",
      "[CV] END max_depth=20, min_samples_leaf=2, min_samples_split=2; total time=   0.1s\n",
      "[CV] END max_depth=20, min_samples_leaf=2, min_samples_split=2; total time=   0.1s\n",
      "[CV] END max_depth=20, min_samples_leaf=2, min_samples_split=4; total time=   0.1s\n",
      "[CV] END max_depth=20, min_samples_leaf=2, min_samples_split=4; total time=   0.1s\n",
      "[CV] END max_depth=20, min_samples_leaf=2, min_samples_split=4; total time=   0.1s\n",
      "[CV] END max_depth=20, min_samples_leaf=2, min_samples_split=4; total time=   0.1s\n",
      "[CV] END max_depth=20, min_samples_leaf=2, min_samples_split=4; total time=   0.1s\n",
      "[CV] END max_depth=20, min_samples_leaf=2, min_samples_split=6; total time=   0.1s\n",
      "[CV] END max_depth=20, min_samples_leaf=2, min_samples_split=6; total time=   0.1s\n",
      "[CV] END max_depth=20, min_samples_leaf=2, min_samples_split=6; total time=   0.1s\n",
      "[CV] END max_depth=20, min_samples_leaf=2, min_samples_split=6; total time=   0.1s\n",
      "[CV] END max_depth=20, min_samples_leaf=2, min_samples_split=6; total time=   0.1s\n",
      "[CV] END max_depth=20, min_samples_leaf=2, min_samples_split=8; total time=   0.1s\n",
      "[CV] END max_depth=20, min_samples_leaf=2, min_samples_split=8; total time=   0.1s\n",
      "[CV] END max_depth=20, min_samples_leaf=2, min_samples_split=8; total time=   0.1s\n",
      "[CV] END max_depth=20, min_samples_leaf=2, min_samples_split=8; total time=   0.1s\n",
      "[CV] END max_depth=20, min_samples_leaf=2, min_samples_split=8; total time=   0.1s\n",
      "[CV] END max_depth=20, min_samples_leaf=2, min_samples_split=10; total time=   0.1s\n",
      "[CV] END max_depth=20, min_samples_leaf=2, min_samples_split=10; total time=   0.1s\n",
      "[CV] END max_depth=20, min_samples_leaf=2, min_samples_split=10; total time=   0.1s\n",
      "[CV] END max_depth=20, min_samples_leaf=2, min_samples_split=10; total time=   0.1s\n",
      "[CV] END max_depth=20, min_samples_leaf=2, min_samples_split=10; total time=   0.1s\n",
      "[CV] END max_depth=20, min_samples_leaf=4, min_samples_split=2; total time=   0.1s\n",
      "[CV] END max_depth=20, min_samples_leaf=4, min_samples_split=2; total time=   0.1s\n",
      "[CV] END max_depth=20, min_samples_leaf=4, min_samples_split=2; total time=   0.1s\n",
      "[CV] END max_depth=20, min_samples_leaf=4, min_samples_split=2; total time=   0.1s\n",
      "[CV] END max_depth=20, min_samples_leaf=4, min_samples_split=2; total time=   0.1s\n",
      "[CV] END max_depth=20, min_samples_leaf=4, min_samples_split=4; total time=   0.1s\n",
      "[CV] END max_depth=20, min_samples_leaf=4, min_samples_split=4; total time=   0.1s\n",
      "[CV] END max_depth=20, min_samples_leaf=4, min_samples_split=4; total time=   0.1s\n",
      "[CV] END max_depth=20, min_samples_leaf=4, min_samples_split=4; total time=   0.1s\n",
      "[CV] END max_depth=20, min_samples_leaf=4, min_samples_split=4; total time=   0.1s\n",
      "[CV] END max_depth=20, min_samples_leaf=4, min_samples_split=6; total time=   0.1s\n",
      "[CV] END max_depth=20, min_samples_leaf=4, min_samples_split=6; total time=   0.1s\n",
      "[CV] END max_depth=20, min_samples_leaf=4, min_samples_split=6; total time=   0.1s\n",
      "[CV] END max_depth=20, min_samples_leaf=4, min_samples_split=6; total time=   0.1s\n",
      "[CV] END max_depth=20, min_samples_leaf=4, min_samples_split=6; total time=   0.1s\n",
      "[CV] END max_depth=20, min_samples_leaf=4, min_samples_split=8; total time=   0.1s\n",
      "[CV] END max_depth=20, min_samples_leaf=4, min_samples_split=8; total time=   0.1s\n",
      "[CV] END max_depth=20, min_samples_leaf=4, min_samples_split=8; total time=   0.1s\n",
      "[CV] END max_depth=20, min_samples_leaf=4, min_samples_split=8; total time=   0.1s\n",
      "[CV] END max_depth=20, min_samples_leaf=4, min_samples_split=8; total time=   0.1s\n",
      "[CV] END max_depth=20, min_samples_leaf=4, min_samples_split=10; total time=   0.1s\n",
      "[CV] END max_depth=20, min_samples_leaf=4, min_samples_split=10; total time=   0.1s\n",
      "[CV] END max_depth=20, min_samples_leaf=4, min_samples_split=10; total time=   0.1s\n",
      "[CV] END max_depth=20, min_samples_leaf=4, min_samples_split=10; total time=   0.1s\n",
      "[CV] END max_depth=20, min_samples_leaf=4, min_samples_split=10; total time=   0.1s\n",
      "[CV] END max_depth=20, min_samples_leaf=6, min_samples_split=2; total time=   0.0s\n",
      "[CV] END max_depth=20, min_samples_leaf=6, min_samples_split=2; total time=   0.0s\n",
      "[CV] END max_depth=20, min_samples_leaf=6, min_samples_split=2; total time=   0.0s\n",
      "[CV] END max_depth=20, min_samples_leaf=6, min_samples_split=2; total time=   0.1s\n",
      "[CV] END max_depth=20, min_samples_leaf=6, min_samples_split=2; total time=   0.0s\n",
      "[CV] END max_depth=20, min_samples_leaf=6, min_samples_split=4; total time=   0.0s\n",
      "[CV] END max_depth=20, min_samples_leaf=6, min_samples_split=4; total time=   0.0s\n",
      "[CV] END max_depth=20, min_samples_leaf=6, min_samples_split=4; total time=   0.1s\n",
      "[CV] END max_depth=20, min_samples_leaf=6, min_samples_split=4; total time=   0.0s\n",
      "[CV] END max_depth=20, min_samples_leaf=6, min_samples_split=4; total time=   0.1s\n",
      "[CV] END max_depth=20, min_samples_leaf=6, min_samples_split=6; total time=   0.0s\n",
      "[CV] END max_depth=20, min_samples_leaf=6, min_samples_split=6; total time=   0.0s\n",
      "[CV] END max_depth=20, min_samples_leaf=6, min_samples_split=6; total time=   0.0s\n",
      "[CV] END max_depth=20, min_samples_leaf=6, min_samples_split=6; total time=   0.0s\n",
      "[CV] END max_depth=20, min_samples_leaf=6, min_samples_split=6; total time=   0.1s\n",
      "[CV] END max_depth=20, min_samples_leaf=6, min_samples_split=8; total time=   0.0s\n",
      "[CV] END max_depth=20, min_samples_leaf=6, min_samples_split=8; total time=   0.0s\n",
      "[CV] END max_depth=20, min_samples_leaf=6, min_samples_split=8; total time=   0.1s\n",
      "[CV] END max_depth=20, min_samples_leaf=6, min_samples_split=8; total time=   0.0s\n",
      "[CV] END max_depth=20, min_samples_leaf=6, min_samples_split=8; total time=   0.0s\n",
      "[CV] END max_depth=20, min_samples_leaf=6, min_samples_split=10; total time=   0.0s\n",
      "[CV] END max_depth=20, min_samples_leaf=6, min_samples_split=10; total time=   0.0s\n",
      "[CV] END max_depth=20, min_samples_leaf=6, min_samples_split=10; total time=   0.0s\n",
      "[CV] END max_depth=20, min_samples_leaf=6, min_samples_split=10; total time=   0.1s\n",
      "[CV] END max_depth=20, min_samples_leaf=6, min_samples_split=10; total time=   0.1s\n",
      "[CV] END max_depth=20, min_samples_leaf=8, min_samples_split=2; total time=   0.1s\n",
      "[CV] END max_depth=20, min_samples_leaf=8, min_samples_split=2; total time=   0.0s\n",
      "[CV] END max_depth=20, min_samples_leaf=8, min_samples_split=2; total time=   0.1s\n",
      "[CV] END max_depth=20, min_samples_leaf=8, min_samples_split=2; total time=   0.1s\n",
      "[CV] END max_depth=20, min_samples_leaf=8, min_samples_split=2; total time=   0.1s\n",
      "[CV] END max_depth=20, min_samples_leaf=8, min_samples_split=4; total time=   0.1s\n",
      "[CV] END max_depth=20, min_samples_leaf=8, min_samples_split=4; total time=   0.1s\n",
      "[CV] END max_depth=20, min_samples_leaf=8, min_samples_split=4; total time=   0.1s\n",
      "[CV] END max_depth=20, min_samples_leaf=8, min_samples_split=4; total time=   0.1s\n",
      "[CV] END max_depth=20, min_samples_leaf=8, min_samples_split=4; total time=   0.1s\n",
      "[CV] END max_depth=20, min_samples_leaf=8, min_samples_split=6; total time=   0.1s\n",
      "[CV] END max_depth=20, min_samples_leaf=8, min_samples_split=6; total time=   0.1s\n",
      "[CV] END max_depth=20, min_samples_leaf=8, min_samples_split=6; total time=   0.1s\n",
      "[CV] END max_depth=20, min_samples_leaf=8, min_samples_split=6; total time=   0.1s\n",
      "[CV] END max_depth=20, min_samples_leaf=8, min_samples_split=6; total time=   0.1s\n",
      "[CV] END max_depth=20, min_samples_leaf=8, min_samples_split=8; total time=   0.1s\n",
      "[CV] END max_depth=20, min_samples_leaf=8, min_samples_split=8; total time=   0.1s\n",
      "[CV] END max_depth=20, min_samples_leaf=8, min_samples_split=8; total time=   0.1s\n",
      "[CV] END max_depth=20, min_samples_leaf=8, min_samples_split=8; total time=   0.1s\n",
      "[CV] END max_depth=20, min_samples_leaf=8, min_samples_split=8; total time=   0.1s\n",
      "[CV] END max_depth=20, min_samples_leaf=8, min_samples_split=10; total time=   0.1s\n",
      "[CV] END max_depth=20, min_samples_leaf=8, min_samples_split=10; total time=   0.1s\n",
      "[CV] END max_depth=20, min_samples_leaf=8, min_samples_split=10; total time=   0.1s\n",
      "[CV] END max_depth=20, min_samples_leaf=8, min_samples_split=10; total time=   0.1s\n",
      "[CV] END max_depth=20, min_samples_leaf=8, min_samples_split=10; total time=   0.1s\n",
      "[CV] END max_depth=20, min_samples_leaf=10, min_samples_split=2; total time=   0.1s\n",
      "[CV] END max_depth=20, min_samples_leaf=10, min_samples_split=2; total time=   0.1s\n",
      "[CV] END max_depth=20, min_samples_leaf=10, min_samples_split=2; total time=   0.1s\n",
      "[CV] END max_depth=20, min_samples_leaf=10, min_samples_split=2; total time=   0.1s\n",
      "[CV] END max_depth=20, min_samples_leaf=10, min_samples_split=2; total time=   0.1s\n",
      "[CV] END max_depth=20, min_samples_leaf=10, min_samples_split=4; total time=   0.1s\n",
      "[CV] END max_depth=20, min_samples_leaf=10, min_samples_split=4; total time=   0.1s\n",
      "[CV] END max_depth=20, min_samples_leaf=10, min_samples_split=4; total time=   0.1s\n",
      "[CV] END max_depth=20, min_samples_leaf=10, min_samples_split=4; total time=   0.1s\n",
      "[CV] END max_depth=20, min_samples_leaf=10, min_samples_split=4; total time=   0.1s\n",
      "[CV] END max_depth=20, min_samples_leaf=10, min_samples_split=6; total time=   0.1s\n",
      "[CV] END max_depth=20, min_samples_leaf=10, min_samples_split=6; total time=   0.1s\n",
      "[CV] END max_depth=20, min_samples_leaf=10, min_samples_split=6; total time=   0.0s\n",
      "[CV] END max_depth=20, min_samples_leaf=10, min_samples_split=6; total time=   0.1s\n",
      "[CV] END max_depth=20, min_samples_leaf=10, min_samples_split=6; total time=   0.0s\n",
      "[CV] END max_depth=20, min_samples_leaf=10, min_samples_split=8; total time=   0.0s\n",
      "[CV] END max_depth=20, min_samples_leaf=10, min_samples_split=8; total time=   0.0s\n",
      "[CV] END max_depth=20, min_samples_leaf=10, min_samples_split=8; total time=   0.1s\n",
      "[CV] END max_depth=20, min_samples_leaf=10, min_samples_split=8; total time=   0.0s\n",
      "[CV] END max_depth=20, min_samples_leaf=10, min_samples_split=8; total time=   0.1s\n",
      "[CV] END max_depth=20, min_samples_leaf=10, min_samples_split=10; total time=   0.0s\n",
      "[CV] END max_depth=20, min_samples_leaf=10, min_samples_split=10; total time=   0.0s\n",
      "[CV] END max_depth=20, min_samples_leaf=10, min_samples_split=10; total time=   0.0s\n",
      "[CV] END max_depth=20, min_samples_leaf=10, min_samples_split=10; total time=   0.0s\n",
      "[CV] END max_depth=20, min_samples_leaf=10, min_samples_split=10; total time=   0.0s\n",
      "[CV] END max_depth=30, min_samples_leaf=2, min_samples_split=2; total time=   0.1s\n",
      "[CV] END max_depth=30, min_samples_leaf=2, min_samples_split=2; total time=   0.1s\n",
      "[CV] END max_depth=30, min_samples_leaf=2, min_samples_split=2; total time=   0.1s\n",
      "[CV] END max_depth=30, min_samples_leaf=2, min_samples_split=2; total time=   0.1s\n",
      "[CV] END max_depth=30, min_samples_leaf=2, min_samples_split=2; total time=   0.1s\n",
      "[CV] END max_depth=30, min_samples_leaf=2, min_samples_split=4; total time=   0.1s\n",
      "[CV] END max_depth=30, min_samples_leaf=2, min_samples_split=4; total time=   0.1s\n",
      "[CV] END max_depth=30, min_samples_leaf=2, min_samples_split=4; total time=   0.1s\n",
      "[CV] END max_depth=30, min_samples_leaf=2, min_samples_split=4; total time=   0.1s\n",
      "[CV] END max_depth=30, min_samples_leaf=2, min_samples_split=4; total time=   0.1s\n",
      "[CV] END max_depth=30, min_samples_leaf=2, min_samples_split=6; total time=   0.1s\n",
      "[CV] END max_depth=30, min_samples_leaf=2, min_samples_split=6; total time=   0.1s\n",
      "[CV] END max_depth=30, min_samples_leaf=2, min_samples_split=6; total time=   0.1s\n",
      "[CV] END max_depth=30, min_samples_leaf=2, min_samples_split=6; total time=   0.1s\n",
      "[CV] END max_depth=30, min_samples_leaf=2, min_samples_split=6; total time=   0.1s\n",
      "[CV] END max_depth=30, min_samples_leaf=2, min_samples_split=8; total time=   0.1s\n",
      "[CV] END max_depth=30, min_samples_leaf=2, min_samples_split=8; total time=   0.1s\n",
      "[CV] END max_depth=30, min_samples_leaf=2, min_samples_split=8; total time=   0.1s\n",
      "[CV] END max_depth=30, min_samples_leaf=2, min_samples_split=8; total time=   0.1s\n",
      "[CV] END max_depth=30, min_samples_leaf=2, min_samples_split=8; total time=   0.1s\n",
      "[CV] END max_depth=30, min_samples_leaf=2, min_samples_split=10; total time=   0.1s\n",
      "[CV] END max_depth=30, min_samples_leaf=2, min_samples_split=10; total time=   0.1s\n",
      "[CV] END max_depth=30, min_samples_leaf=2, min_samples_split=10; total time=   0.1s\n",
      "[CV] END max_depth=30, min_samples_leaf=2, min_samples_split=10; total time=   0.1s\n",
      "[CV] END max_depth=30, min_samples_leaf=2, min_samples_split=10; total time=   0.1s\n",
      "[CV] END max_depth=30, min_samples_leaf=4, min_samples_split=2; total time=   0.1s\n",
      "[CV] END max_depth=30, min_samples_leaf=4, min_samples_split=2; total time=   0.1s\n",
      "[CV] END max_depth=30, min_samples_leaf=4, min_samples_split=2; total time=   0.1s\n",
      "[CV] END max_depth=30, min_samples_leaf=4, min_samples_split=2; total time=   0.1s\n",
      "[CV] END max_depth=30, min_samples_leaf=4, min_samples_split=2; total time=   0.1s\n",
      "[CV] END max_depth=30, min_samples_leaf=4, min_samples_split=4; total time=   0.1s\n",
      "[CV] END max_depth=30, min_samples_leaf=4, min_samples_split=4; total time=   0.1s\n",
      "[CV] END max_depth=30, min_samples_leaf=4, min_samples_split=4; total time=   0.1s\n",
      "[CV] END max_depth=30, min_samples_leaf=4, min_samples_split=4; total time=   0.1s\n",
      "[CV] END max_depth=30, min_samples_leaf=4, min_samples_split=4; total time=   0.1s\n",
      "[CV] END max_depth=30, min_samples_leaf=4, min_samples_split=6; total time=   0.1s\n",
      "[CV] END max_depth=30, min_samples_leaf=4, min_samples_split=6; total time=   0.1s\n",
      "[CV] END max_depth=30, min_samples_leaf=4, min_samples_split=6; total time=   0.1s\n",
      "[CV] END max_depth=30, min_samples_leaf=4, min_samples_split=6; total time=   0.1s\n",
      "[CV] END max_depth=30, min_samples_leaf=4, min_samples_split=6; total time=   0.1s\n",
      "[CV] END max_depth=30, min_samples_leaf=4, min_samples_split=8; total time=   0.2s\n",
      "[CV] END max_depth=30, min_samples_leaf=4, min_samples_split=8; total time=   0.2s\n",
      "[CV] END max_depth=30, min_samples_leaf=4, min_samples_split=8; total time=   0.2s\n",
      "[CV] END max_depth=30, min_samples_leaf=4, min_samples_split=8; total time=   0.1s\n",
      "[CV] END max_depth=30, min_samples_leaf=4, min_samples_split=8; total time=   0.1s\n",
      "[CV] END max_depth=30, min_samples_leaf=4, min_samples_split=10; total time=   0.1s\n",
      "[CV] END max_depth=30, min_samples_leaf=4, min_samples_split=10; total time=   0.1s\n",
      "[CV] END max_depth=30, min_samples_leaf=4, min_samples_split=10; total time=   0.1s\n",
      "[CV] END max_depth=30, min_samples_leaf=4, min_samples_split=10; total time=   0.1s\n",
      "[CV] END max_depth=30, min_samples_leaf=4, min_samples_split=10; total time=   0.1s\n",
      "[CV] END max_depth=30, min_samples_leaf=6, min_samples_split=2; total time=   0.1s\n",
      "[CV] END max_depth=30, min_samples_leaf=6, min_samples_split=2; total time=   0.0s\n",
      "[CV] END max_depth=30, min_samples_leaf=6, min_samples_split=2; total time=   0.1s\n",
      "[CV] END max_depth=30, min_samples_leaf=6, min_samples_split=2; total time=   0.1s\n",
      "[CV] END max_depth=30, min_samples_leaf=6, min_samples_split=2; total time=   0.1s\n",
      "[CV] END max_depth=30, min_samples_leaf=6, min_samples_split=4; total time=   0.0s\n",
      "[CV] END max_depth=30, min_samples_leaf=6, min_samples_split=4; total time=   0.1s\n",
      "[CV] END max_depth=30, min_samples_leaf=6, min_samples_split=4; total time=   0.1s\n",
      "[CV] END max_depth=30, min_samples_leaf=6, min_samples_split=4; total time=   0.1s\n",
      "[CV] END max_depth=30, min_samples_leaf=6, min_samples_split=4; total time=   0.1s\n",
      "[CV] END max_depth=30, min_samples_leaf=6, min_samples_split=6; total time=   0.1s\n",
      "[CV] END max_depth=30, min_samples_leaf=6, min_samples_split=6; total time=   0.0s\n",
      "[CV] END max_depth=30, min_samples_leaf=6, min_samples_split=6; total time=   0.1s\n",
      "[CV] END max_depth=30, min_samples_leaf=6, min_samples_split=6; total time=   0.1s\n",
      "[CV] END max_depth=30, min_samples_leaf=6, min_samples_split=6; total time=   0.1s\n",
      "[CV] END max_depth=30, min_samples_leaf=6, min_samples_split=8; total time=   0.1s\n",
      "[CV] END max_depth=30, min_samples_leaf=6, min_samples_split=8; total time=   0.1s\n",
      "[CV] END max_depth=30, min_samples_leaf=6, min_samples_split=8; total time=   0.1s\n",
      "[CV] END max_depth=30, min_samples_leaf=6, min_samples_split=8; total time=   0.1s\n",
      "[CV] END max_depth=30, min_samples_leaf=6, min_samples_split=8; total time=   0.1s\n",
      "[CV] END max_depth=30, min_samples_leaf=6, min_samples_split=10; total time=   0.1s\n",
      "[CV] END max_depth=30, min_samples_leaf=6, min_samples_split=10; total time=   0.0s\n",
      "[CV] END max_depth=30, min_samples_leaf=6, min_samples_split=10; total time=   0.1s\n",
      "[CV] END max_depth=30, min_samples_leaf=6, min_samples_split=10; total time=   0.1s\n",
      "[CV] END max_depth=30, min_samples_leaf=6, min_samples_split=10; total time=   0.1s\n",
      "[CV] END max_depth=30, min_samples_leaf=8, min_samples_split=2; total time=   0.1s\n",
      "[CV] END max_depth=30, min_samples_leaf=8, min_samples_split=2; total time=   0.0s\n",
      "[CV] END max_depth=30, min_samples_leaf=8, min_samples_split=2; total time=   0.1s\n",
      "[CV] END max_depth=30, min_samples_leaf=8, min_samples_split=2; total time=   0.1s\n",
      "[CV] END max_depth=30, min_samples_leaf=8, min_samples_split=2; total time=   0.1s\n",
      "[CV] END max_depth=30, min_samples_leaf=8, min_samples_split=4; total time=   0.1s\n",
      "[CV] END max_depth=30, min_samples_leaf=8, min_samples_split=4; total time=   0.1s\n",
      "[CV] END max_depth=30, min_samples_leaf=8, min_samples_split=4; total time=   0.1s\n",
      "[CV] END max_depth=30, min_samples_leaf=8, min_samples_split=4; total time=   0.2s\n",
      "[CV] END max_depth=30, min_samples_leaf=8, min_samples_split=4; total time=   0.1s\n",
      "[CV] END max_depth=30, min_samples_leaf=8, min_samples_split=6; total time=   0.1s\n",
      "[CV] END max_depth=30, min_samples_leaf=8, min_samples_split=6; total time=   0.1s\n",
      "[CV] END max_depth=30, min_samples_leaf=8, min_samples_split=6; total time=   0.1s\n",
      "[CV] END max_depth=30, min_samples_leaf=8, min_samples_split=6; total time=   0.1s\n",
      "[CV] END max_depth=30, min_samples_leaf=8, min_samples_split=6; total time=   0.1s\n",
      "[CV] END max_depth=30, min_samples_leaf=8, min_samples_split=8; total time=   0.1s\n",
      "[CV] END max_depth=30, min_samples_leaf=8, min_samples_split=8; total time=   0.1s\n",
      "[CV] END max_depth=30, min_samples_leaf=8, min_samples_split=8; total time=   0.1s\n",
      "[CV] END max_depth=30, min_samples_leaf=8, min_samples_split=8; total time=   0.1s\n",
      "[CV] END max_depth=30, min_samples_leaf=8, min_samples_split=8; total time=   0.1s\n",
      "[CV] END max_depth=30, min_samples_leaf=8, min_samples_split=10; total time=   0.1s\n",
      "[CV] END max_depth=30, min_samples_leaf=8, min_samples_split=10; total time=   0.1s\n",
      "[CV] END max_depth=30, min_samples_leaf=8, min_samples_split=10; total time=   0.1s\n",
      "[CV] END max_depth=30, min_samples_leaf=8, min_samples_split=10; total time=   0.1s\n",
      "[CV] END max_depth=30, min_samples_leaf=8, min_samples_split=10; total time=   0.1s\n",
      "[CV] END max_depth=30, min_samples_leaf=10, min_samples_split=2; total time=   0.1s\n",
      "[CV] END max_depth=30, min_samples_leaf=10, min_samples_split=2; total time=   0.1s\n",
      "[CV] END max_depth=30, min_samples_leaf=10, min_samples_split=2; total time=   0.1s\n",
      "[CV] END max_depth=30, min_samples_leaf=10, min_samples_split=2; total time=   0.1s\n",
      "[CV] END max_depth=30, min_samples_leaf=10, min_samples_split=2; total time=   0.1s\n",
      "[CV] END max_depth=30, min_samples_leaf=10, min_samples_split=4; total time=   0.1s\n",
      "[CV] END max_depth=30, min_samples_leaf=10, min_samples_split=4; total time=   0.1s\n",
      "[CV] END max_depth=30, min_samples_leaf=10, min_samples_split=4; total time=   0.1s\n",
      "[CV] END max_depth=30, min_samples_leaf=10, min_samples_split=4; total time=   0.1s\n",
      "[CV] END max_depth=30, min_samples_leaf=10, min_samples_split=4; total time=   0.1s\n",
      "[CV] END max_depth=30, min_samples_leaf=10, min_samples_split=6; total time=   0.1s\n",
      "[CV] END max_depth=30, min_samples_leaf=10, min_samples_split=6; total time=   0.1s\n",
      "[CV] END max_depth=30, min_samples_leaf=10, min_samples_split=6; total time=   0.1s\n",
      "[CV] END max_depth=30, min_samples_leaf=10, min_samples_split=6; total time=   0.1s\n",
      "[CV] END max_depth=30, min_samples_leaf=10, min_samples_split=6; total time=   0.1s\n",
      "[CV] END max_depth=30, min_samples_leaf=10, min_samples_split=8; total time=   0.0s\n",
      "[CV] END max_depth=30, min_samples_leaf=10, min_samples_split=8; total time=   0.0s\n",
      "[CV] END max_depth=30, min_samples_leaf=10, min_samples_split=8; total time=   0.1s\n",
      "[CV] END max_depth=30, min_samples_leaf=10, min_samples_split=8; total time=   0.1s\n",
      "[CV] END max_depth=30, min_samples_leaf=10, min_samples_split=8; total time=   0.1s\n",
      "[CV] END max_depth=30, min_samples_leaf=10, min_samples_split=10; total time=   0.0s\n",
      "[CV] END max_depth=30, min_samples_leaf=10, min_samples_split=10; total time=   0.0s\n",
      "[CV] END max_depth=30, min_samples_leaf=10, min_samples_split=10; total time=   0.1s\n",
      "[CV] END max_depth=30, min_samples_leaf=10, min_samples_split=10; total time=   0.1s\n",
      "[CV] END max_depth=30, min_samples_leaf=10, min_samples_split=10; total time=   0.1s\n",
      "[CV] END max_depth=40, min_samples_leaf=2, min_samples_split=2; total time=   0.1s\n",
      "[CV] END max_depth=40, min_samples_leaf=2, min_samples_split=2; total time=   0.1s\n",
      "[CV] END max_depth=40, min_samples_leaf=2, min_samples_split=2; total time=   0.1s\n",
      "[CV] END max_depth=40, min_samples_leaf=2, min_samples_split=2; total time=   0.1s\n",
      "[CV] END max_depth=40, min_samples_leaf=2, min_samples_split=2; total time=   0.1s\n",
      "[CV] END max_depth=40, min_samples_leaf=2, min_samples_split=4; total time=   0.1s\n",
      "[CV] END max_depth=40, min_samples_leaf=2, min_samples_split=4; total time=   0.1s\n",
      "[CV] END max_depth=40, min_samples_leaf=2, min_samples_split=4; total time=   0.1s\n",
      "[CV] END max_depth=40, min_samples_leaf=2, min_samples_split=4; total time=   0.1s\n",
      "[CV] END max_depth=40, min_samples_leaf=2, min_samples_split=4; total time=   0.1s\n",
      "[CV] END max_depth=40, min_samples_leaf=2, min_samples_split=6; total time=   0.1s\n",
      "[CV] END max_depth=40, min_samples_leaf=2, min_samples_split=6; total time=   0.1s\n",
      "[CV] END max_depth=40, min_samples_leaf=2, min_samples_split=6; total time=   0.1s\n",
      "[CV] END max_depth=40, min_samples_leaf=2, min_samples_split=6; total time=   0.1s\n",
      "[CV] END max_depth=40, min_samples_leaf=2, min_samples_split=6; total time=   0.1s\n",
      "[CV] END max_depth=40, min_samples_leaf=2, min_samples_split=8; total time=   0.1s\n",
      "[CV] END max_depth=40, min_samples_leaf=2, min_samples_split=8; total time=   0.1s\n",
      "[CV] END max_depth=40, min_samples_leaf=2, min_samples_split=8; total time=   0.1s\n",
      "[CV] END max_depth=40, min_samples_leaf=2, min_samples_split=8; total time=   0.1s\n",
      "[CV] END max_depth=40, min_samples_leaf=2, min_samples_split=8; total time=   0.1s\n",
      "[CV] END max_depth=40, min_samples_leaf=2, min_samples_split=10; total time=   0.1s\n",
      "[CV] END max_depth=40, min_samples_leaf=2, min_samples_split=10; total time=   0.1s\n",
      "[CV] END max_depth=40, min_samples_leaf=2, min_samples_split=10; total time=   0.1s\n",
      "[CV] END max_depth=40, min_samples_leaf=2, min_samples_split=10; total time=   0.1s\n",
      "[CV] END max_depth=40, min_samples_leaf=2, min_samples_split=10; total time=   0.1s\n",
      "[CV] END max_depth=40, min_samples_leaf=4, min_samples_split=2; total time=   0.1s\n",
      "[CV] END max_depth=40, min_samples_leaf=4, min_samples_split=2; total time=   0.1s\n",
      "[CV] END max_depth=40, min_samples_leaf=4, min_samples_split=2; total time=   0.1s\n",
      "[CV] END max_depth=40, min_samples_leaf=4, min_samples_split=2; total time=   0.1s\n",
      "[CV] END max_depth=40, min_samples_leaf=4, min_samples_split=2; total time=   0.1s\n",
      "[CV] END max_depth=40, min_samples_leaf=4, min_samples_split=4; total time=   0.1s\n",
      "[CV] END max_depth=40, min_samples_leaf=4, min_samples_split=4; total time=   0.1s\n",
      "[CV] END max_depth=40, min_samples_leaf=4, min_samples_split=4; total time=   0.1s\n",
      "[CV] END max_depth=40, min_samples_leaf=4, min_samples_split=4; total time=   0.1s\n",
      "[CV] END max_depth=40, min_samples_leaf=4, min_samples_split=4; total time=   0.1s\n",
      "[CV] END max_depth=40, min_samples_leaf=4, min_samples_split=6; total time=   0.1s\n",
      "[CV] END max_depth=40, min_samples_leaf=4, min_samples_split=6; total time=   0.1s\n",
      "[CV] END max_depth=40, min_samples_leaf=4, min_samples_split=6; total time=   0.1s\n",
      "[CV] END max_depth=40, min_samples_leaf=4, min_samples_split=6; total time=   0.1s\n",
      "[CV] END max_depth=40, min_samples_leaf=4, min_samples_split=6; total time=   0.1s\n",
      "[CV] END max_depth=40, min_samples_leaf=4, min_samples_split=8; total time=   0.1s\n",
      "[CV] END max_depth=40, min_samples_leaf=4, min_samples_split=8; total time=   0.1s\n",
      "[CV] END max_depth=40, min_samples_leaf=4, min_samples_split=8; total time=   0.1s\n",
      "[CV] END max_depth=40, min_samples_leaf=4, min_samples_split=8; total time=   0.1s\n",
      "[CV] END max_depth=40, min_samples_leaf=4, min_samples_split=8; total time=   0.1s\n",
      "[CV] END max_depth=40, min_samples_leaf=4, min_samples_split=10; total time=   0.1s\n",
      "[CV] END max_depth=40, min_samples_leaf=4, min_samples_split=10; total time=   0.1s\n",
      "[CV] END max_depth=40, min_samples_leaf=4, min_samples_split=10; total time=   0.1s\n",
      "[CV] END max_depth=40, min_samples_leaf=4, min_samples_split=10; total time=   0.1s\n",
      "[CV] END max_depth=40, min_samples_leaf=4, min_samples_split=10; total time=   0.1s\n",
      "[CV] END max_depth=40, min_samples_leaf=6, min_samples_split=2; total time=   0.1s\n",
      "[CV] END max_depth=40, min_samples_leaf=6, min_samples_split=2; total time=   0.1s\n",
      "[CV] END max_depth=40, min_samples_leaf=6, min_samples_split=2; total time=   0.1s\n",
      "[CV] END max_depth=40, min_samples_leaf=6, min_samples_split=2; total time=   0.1s\n",
      "[CV] END max_depth=40, min_samples_leaf=6, min_samples_split=2; total time=   0.1s\n",
      "[CV] END max_depth=40, min_samples_leaf=6, min_samples_split=4; total time=   0.0s\n",
      "[CV] END max_depth=40, min_samples_leaf=6, min_samples_split=4; total time=   0.1s\n",
      "[CV] END max_depth=40, min_samples_leaf=6, min_samples_split=4; total time=   0.1s\n",
      "[CV] END max_depth=40, min_samples_leaf=6, min_samples_split=4; total time=   0.1s\n",
      "[CV] END max_depth=40, min_samples_leaf=6, min_samples_split=4; total time=   0.1s\n",
      "[CV] END max_depth=40, min_samples_leaf=6, min_samples_split=6; total time=   0.0s\n",
      "[CV] END max_depth=40, min_samples_leaf=6, min_samples_split=6; total time=   0.1s\n",
      "[CV] END max_depth=40, min_samples_leaf=6, min_samples_split=6; total time=   0.1s\n",
      "[CV] END max_depth=40, min_samples_leaf=6, min_samples_split=6; total time=   0.1s\n",
      "[CV] END max_depth=40, min_samples_leaf=6, min_samples_split=6; total time=   0.1s\n",
      "[CV] END max_depth=40, min_samples_leaf=6, min_samples_split=8; total time=   0.1s\n",
      "[CV] END max_depth=40, min_samples_leaf=6, min_samples_split=8; total time=   0.1s\n",
      "[CV] END max_depth=40, min_samples_leaf=6, min_samples_split=8; total time=   0.1s\n",
      "[CV] END max_depth=40, min_samples_leaf=6, min_samples_split=8; total time=   0.1s\n",
      "[CV] END max_depth=40, min_samples_leaf=6, min_samples_split=8; total time=   0.1s\n",
      "[CV] END max_depth=40, min_samples_leaf=6, min_samples_split=10; total time=   0.0s\n",
      "[CV] END max_depth=40, min_samples_leaf=6, min_samples_split=10; total time=   0.0s\n",
      "[CV] END max_depth=40, min_samples_leaf=6, min_samples_split=10; total time=   0.1s\n",
      "[CV] END max_depth=40, min_samples_leaf=6, min_samples_split=10; total time=   0.1s\n",
      "[CV] END max_depth=40, min_samples_leaf=6, min_samples_split=10; total time=   0.1s\n",
      "[CV] END max_depth=40, min_samples_leaf=8, min_samples_split=2; total time=   0.1s\n",
      "[CV] END max_depth=40, min_samples_leaf=8, min_samples_split=2; total time=   0.1s\n",
      "[CV] END max_depth=40, min_samples_leaf=8, min_samples_split=2; total time=   0.1s\n",
      "[CV] END max_depth=40, min_samples_leaf=8, min_samples_split=2; total time=   0.1s\n",
      "[CV] END max_depth=40, min_samples_leaf=8, min_samples_split=2; total time=   0.1s\n",
      "[CV] END max_depth=40, min_samples_leaf=8, min_samples_split=4; total time=   0.1s\n",
      "[CV] END max_depth=40, min_samples_leaf=8, min_samples_split=4; total time=   0.1s\n",
      "[CV] END max_depth=40, min_samples_leaf=8, min_samples_split=4; total time=   0.1s\n",
      "[CV] END max_depth=40, min_samples_leaf=8, min_samples_split=4; total time=   0.1s\n",
      "[CV] END max_depth=40, min_samples_leaf=8, min_samples_split=4; total time=   0.1s\n",
      "[CV] END max_depth=40, min_samples_leaf=8, min_samples_split=6; total time=   0.1s\n",
      "[CV] END max_depth=40, min_samples_leaf=8, min_samples_split=6; total time=   0.1s\n",
      "[CV] END max_depth=40, min_samples_leaf=8, min_samples_split=6; total time=   0.1s\n",
      "[CV] END max_depth=40, min_samples_leaf=8, min_samples_split=6; total time=   0.1s\n",
      "[CV] END max_depth=40, min_samples_leaf=8, min_samples_split=6; total time=   0.1s\n",
      "[CV] END max_depth=40, min_samples_leaf=8, min_samples_split=8; total time=   0.1s\n",
      "[CV] END max_depth=40, min_samples_leaf=8, min_samples_split=8; total time=   0.1s\n",
      "[CV] END max_depth=40, min_samples_leaf=8, min_samples_split=8; total time=   0.1s\n",
      "[CV] END max_depth=40, min_samples_leaf=8, min_samples_split=8; total time=   0.1s\n",
      "[CV] END max_depth=40, min_samples_leaf=8, min_samples_split=8; total time=   0.1s\n",
      "[CV] END max_depth=40, min_samples_leaf=8, min_samples_split=10; total time=   0.1s\n",
      "[CV] END max_depth=40, min_samples_leaf=8, min_samples_split=10; total time=   0.1s\n",
      "[CV] END max_depth=40, min_samples_leaf=8, min_samples_split=10; total time=   0.1s\n",
      "[CV] END max_depth=40, min_samples_leaf=8, min_samples_split=10; total time=   0.1s\n",
      "[CV] END max_depth=40, min_samples_leaf=8, min_samples_split=10; total time=   0.1s\n",
      "[CV] END max_depth=40, min_samples_leaf=10, min_samples_split=2; total time=   0.1s\n",
      "[CV] END max_depth=40, min_samples_leaf=10, min_samples_split=2; total time=   0.1s\n",
      "[CV] END max_depth=40, min_samples_leaf=10, min_samples_split=2; total time=   0.1s\n",
      "[CV] END max_depth=40, min_samples_leaf=10, min_samples_split=2; total time=   0.1s\n",
      "[CV] END max_depth=40, min_samples_leaf=10, min_samples_split=2; total time=   0.1s\n",
      "[CV] END max_depth=40, min_samples_leaf=10, min_samples_split=4; total time=   0.1s\n",
      "[CV] END max_depth=40, min_samples_leaf=10, min_samples_split=4; total time=   0.1s\n",
      "[CV] END max_depth=40, min_samples_leaf=10, min_samples_split=4; total time=   0.1s\n",
      "[CV] END max_depth=40, min_samples_leaf=10, min_samples_split=4; total time=   0.1s\n",
      "[CV] END max_depth=40, min_samples_leaf=10, min_samples_split=4; total time=   0.1s\n",
      "[CV] END max_depth=40, min_samples_leaf=10, min_samples_split=6; total time=   0.1s\n",
      "[CV] END max_depth=40, min_samples_leaf=10, min_samples_split=6; total time=   0.1s\n",
      "[CV] END max_depth=40, min_samples_leaf=10, min_samples_split=6; total time=   0.1s\n",
      "[CV] END max_depth=40, min_samples_leaf=10, min_samples_split=6; total time=   0.1s\n",
      "[CV] END max_depth=40, min_samples_leaf=10, min_samples_split=6; total time=   0.1s\n",
      "[CV] END max_depth=40, min_samples_leaf=10, min_samples_split=8; total time=   0.0s\n",
      "[CV] END max_depth=40, min_samples_leaf=10, min_samples_split=8; total time=   0.1s\n",
      "[CV] END max_depth=40, min_samples_leaf=10, min_samples_split=8; total time=   0.1s\n",
      "[CV] END max_depth=40, min_samples_leaf=10, min_samples_split=8; total time=   0.1s\n",
      "[CV] END max_depth=40, min_samples_leaf=10, min_samples_split=8; total time=   0.1s\n",
      "[CV] END max_depth=40, min_samples_leaf=10, min_samples_split=10; total time=   0.1s\n",
      "[CV] END max_depth=40, min_samples_leaf=10, min_samples_split=10; total time=   0.1s\n",
      "[CV] END max_depth=40, min_samples_leaf=10, min_samples_split=10; total time=   0.1s\n",
      "[CV] END max_depth=40, min_samples_leaf=10, min_samples_split=10; total time=   0.1s\n",
      "[CV] END max_depth=40, min_samples_leaf=10, min_samples_split=10; total time=   0.1s\n"
     ]
    },
    {
     "data": {
      "text/plain": "GridSearchCV(cv=5, estimator=DecisionTreeClassifier(),\n             param_grid={'max_depth': [20, 30, 40],\n                         'min_samples_leaf': [2, 4, 6, 8, 10],\n                         'min_samples_split': [2, 4, 6, 8, 10]},\n             scoring='accuracy', verbose=2)",
      "text/html": "<style>#sk-container-id-8 {color: black;background-color: white;}#sk-container-id-8 pre{padding: 0;}#sk-container-id-8 div.sk-toggleable {background-color: white;}#sk-container-id-8 label.sk-toggleable__label {cursor: pointer;display: block;width: 100%;margin-bottom: 0;padding: 0.3em;box-sizing: border-box;text-align: center;}#sk-container-id-8 label.sk-toggleable__label-arrow:before {content: \"▸\";float: left;margin-right: 0.25em;color: #696969;}#sk-container-id-8 label.sk-toggleable__label-arrow:hover:before {color: black;}#sk-container-id-8 div.sk-estimator:hover label.sk-toggleable__label-arrow:before {color: black;}#sk-container-id-8 div.sk-toggleable__content {max-height: 0;max-width: 0;overflow: hidden;text-align: left;background-color: #f0f8ff;}#sk-container-id-8 div.sk-toggleable__content pre {margin: 0.2em;color: black;border-radius: 0.25em;background-color: #f0f8ff;}#sk-container-id-8 input.sk-toggleable__control:checked~div.sk-toggleable__content {max-height: 200px;max-width: 100%;overflow: auto;}#sk-container-id-8 input.sk-toggleable__control:checked~label.sk-toggleable__label-arrow:before {content: \"▾\";}#sk-container-id-8 div.sk-estimator input.sk-toggleable__control:checked~label.sk-toggleable__label {background-color: #d4ebff;}#sk-container-id-8 div.sk-label input.sk-toggleable__control:checked~label.sk-toggleable__label {background-color: #d4ebff;}#sk-container-id-8 input.sk-hidden--visually {border: 0;clip: rect(1px 1px 1px 1px);clip: rect(1px, 1px, 1px, 1px);height: 1px;margin: -1px;overflow: hidden;padding: 0;position: absolute;width: 1px;}#sk-container-id-8 div.sk-estimator {font-family: monospace;background-color: #f0f8ff;border: 1px dotted black;border-radius: 0.25em;box-sizing: border-box;margin-bottom: 0.5em;}#sk-container-id-8 div.sk-estimator:hover {background-color: #d4ebff;}#sk-container-id-8 div.sk-parallel-item::after {content: \"\";width: 100%;border-bottom: 1px solid gray;flex-grow: 1;}#sk-container-id-8 div.sk-label:hover label.sk-toggleable__label {background-color: #d4ebff;}#sk-container-id-8 div.sk-serial::before {content: \"\";position: absolute;border-left: 1px solid gray;box-sizing: border-box;top: 0;bottom: 0;left: 50%;z-index: 0;}#sk-container-id-8 div.sk-serial {display: flex;flex-direction: column;align-items: center;background-color: white;padding-right: 0.2em;padding-left: 0.2em;position: relative;}#sk-container-id-8 div.sk-item {position: relative;z-index: 1;}#sk-container-id-8 div.sk-parallel {display: flex;align-items: stretch;justify-content: center;background-color: white;position: relative;}#sk-container-id-8 div.sk-item::before, #sk-container-id-8 div.sk-parallel-item::before {content: \"\";position: absolute;border-left: 1px solid gray;box-sizing: border-box;top: 0;bottom: 0;left: 50%;z-index: -1;}#sk-container-id-8 div.sk-parallel-item {display: flex;flex-direction: column;z-index: 1;position: relative;background-color: white;}#sk-container-id-8 div.sk-parallel-item:first-child::after {align-self: flex-end;width: 50%;}#sk-container-id-8 div.sk-parallel-item:last-child::after {align-self: flex-start;width: 50%;}#sk-container-id-8 div.sk-parallel-item:only-child::after {width: 0;}#sk-container-id-8 div.sk-dashed-wrapped {border: 1px dashed gray;margin: 0 0.4em 0.5em 0.4em;box-sizing: border-box;padding-bottom: 0.4em;background-color: white;}#sk-container-id-8 div.sk-label label {font-family: monospace;font-weight: bold;display: inline-block;line-height: 1.2em;}#sk-container-id-8 div.sk-label-container {text-align: center;}#sk-container-id-8 div.sk-container {/* jupyter's `normalize.less` sets `[hidden] { display: none; }` but bootstrap.min.css set `[hidden] { display: none !important; }` so we also need the `!important` here to be able to override the default hidden behavior on the sphinx rendered scikit-learn.org. See: https://github.com/scikit-learn/scikit-learn/issues/21755 */display: inline-block !important;position: relative;}#sk-container-id-8 div.sk-text-repr-fallback {display: none;}</style><div id=\"sk-container-id-8\" class=\"sk-top-container\"><div class=\"sk-text-repr-fallback\"><pre>GridSearchCV(cv=5, estimator=DecisionTreeClassifier(),\n             param_grid={&#x27;max_depth&#x27;: [20, 30, 40],\n                         &#x27;min_samples_leaf&#x27;: [2, 4, 6, 8, 10],\n                         &#x27;min_samples_split&#x27;: [2, 4, 6, 8, 10]},\n             scoring=&#x27;accuracy&#x27;, verbose=2)</pre><b>In a Jupyter environment, please rerun this cell to show the HTML representation or trust the notebook. <br />On GitHub, the HTML representation is unable to render, please try loading this page with nbviewer.org.</b></div><div class=\"sk-container\" hidden><div class=\"sk-item sk-dashed-wrapped\"><div class=\"sk-label-container\"><div class=\"sk-label sk-toggleable\"><input class=\"sk-toggleable__control sk-hidden--visually\" id=\"sk-estimator-id-22\" type=\"checkbox\" ><label for=\"sk-estimator-id-22\" class=\"sk-toggleable__label sk-toggleable__label-arrow\">GridSearchCV</label><div class=\"sk-toggleable__content\"><pre>GridSearchCV(cv=5, estimator=DecisionTreeClassifier(),\n             param_grid={&#x27;max_depth&#x27;: [20, 30, 40],\n                         &#x27;min_samples_leaf&#x27;: [2, 4, 6, 8, 10],\n                         &#x27;min_samples_split&#x27;: [2, 4, 6, 8, 10]},\n             scoring=&#x27;accuracy&#x27;, verbose=2)</pre></div></div></div><div class=\"sk-parallel\"><div class=\"sk-parallel-item\"><div class=\"sk-item\"><div class=\"sk-label-container\"><div class=\"sk-label sk-toggleable\"><input class=\"sk-toggleable__control sk-hidden--visually\" id=\"sk-estimator-id-23\" type=\"checkbox\" ><label for=\"sk-estimator-id-23\" class=\"sk-toggleable__label sk-toggleable__label-arrow\">estimator: DecisionTreeClassifier</label><div class=\"sk-toggleable__content\"><pre>DecisionTreeClassifier()</pre></div></div></div><div class=\"sk-serial\"><div class=\"sk-item\"><div class=\"sk-estimator sk-toggleable\"><input class=\"sk-toggleable__control sk-hidden--visually\" id=\"sk-estimator-id-24\" type=\"checkbox\" ><label for=\"sk-estimator-id-24\" class=\"sk-toggleable__label sk-toggleable__label-arrow\">DecisionTreeClassifier</label><div class=\"sk-toggleable__content\"><pre>DecisionTreeClassifier()</pre></div></div></div></div></div></div></div></div></div></div>"
     },
     "execution_count": 73,
     "metadata": {},
     "output_type": "execute_result"
    }
   ],
   "source": [
    "grid.fit(X_res, y_res)"
   ],
   "metadata": {
    "collapsed": false
   }
  },
  {
   "cell_type": "code",
   "execution_count": 74,
   "outputs": [
    {
     "name": "stdout",
     "output_type": "stream",
     "text": [
      "{'max_depth': 30, 'min_samples_leaf': 2, 'min_samples_split': 6}\n",
      "0.9370451222933165\n"
     ]
    }
   ],
   "source": [
    "print(grid.best_params_)\n",
    "print(grid.best_score_)"
   ],
   "metadata": {
    "collapsed": false
   }
  },
  {
   "cell_type": "code",
   "execution_count": 75,
   "outputs": [],
   "source": [
    "dts = DecisionTreeClassifier(max_depth=30, min_samples_leaf=2, min_samples_split=6)\n",
    "\n",
    "def dtf_smote(X,y):\n",
    "    dts.fit(X, y)\n",
    "    dt_results = X.copy()\n",
    "    dt_results['y_pred'] = dts.predict(X)\n",
    "    dt_results['y_real'] = y\n",
    "    dt_results['y_prob'] = dts.predict_proba(X)[:,1]\n",
    "    dt_results['y_pred'] = np.where(dt_results['y_prob'] > 0.5, 1, 0)\n",
    "    return dt_results"
   ],
   "metadata": {
    "collapsed": false
   }
  },
  {
   "cell_type": "code",
   "execution_count": 76,
   "outputs": [
    {
     "name": "stdout",
     "output_type": "stream",
     "text": [
      "The confusion matrix for your predictions is:\n",
      "[[10066    76]\n",
      " [  287  9855]] \n",
      "\n",
      "The accuracy of your model is: 0.9821041214750542\n",
      "The recall of your model is: 0.9717018339577993\n",
      "The precision of your model is: 0.9923471956499849\n",
      "The F1-score of your model is: 0.9819160065759975\n",
      "The ROC-AUC-score of your model is: 0.9821041214750542\n"
     ]
    },
    {
     "data": {
      "text/plain": "{'fit_time': array([0.16251612, 0.16550255, 0.17259789, 0.17163754, 0.17533541]),\n 'score_time': array([0.01356959, 0.01400208, 0.01359606, 0.01339936, 0.01271939]),\n 'test_accuracy': array([0.84865664, 0.96204092, 0.95760414, 0.95366034, 0.95759369]),\n 'test_f1': array([0.8316886 , 0.96305182, 0.95889101, 0.95519542, 0.95865385]),\n 'test_roc_auc': array([0.85998437, 0.97065285, 0.95502176, 0.96120345, 0.95964425]),\n 'test_matthews_corrcoef': array([0.71184719, 0.92549459, 0.91697771, 0.90942612, 0.91639316])}"
     },
     "execution_count": 76,
     "metadata": {},
     "output_type": "execute_result"
    }
   ],
   "source": [
    "dts_results = dtf_smote(X_res, y_res)\n",
    "get_results(y_res,dts_results['y_pred'])\n",
    "dts_score = cross_validate(dts, X_res, y_res, cv=5, scoring = ['accuracy', 'f1','roc_auc','matthews_corrcoef'])\n",
    "dts_score"
   ],
   "metadata": {
    "collapsed": false
   }
  },
  {
   "cell_type": "markdown",
   "source": [
    "### 12.3 RANDOM FOREST"
   ],
   "metadata": {
    "collapsed": false
   }
  },
  {
   "cell_type": "code",
   "execution_count": 77,
   "outputs": [],
   "source": [
    "gs = GridSearchCV(RandomForestClassifier(),\n",
    "                  param_grid={'max_depth': [8, 10, 12, 14],\n",
    "                              'n_estimators': [50, 100, 200]},\n",
    "                  cv=5)"
   ],
   "metadata": {
    "collapsed": false
   }
  },
  {
   "cell_type": "code",
   "execution_count": 78,
   "outputs": [
    {
     "data": {
      "text/plain": "GridSearchCV(cv=5, estimator=RandomForestClassifier(),\n             param_grid={'max_depth': [8, 10, 12, 14],\n                         'n_estimators': [50, 100, 200]})",
      "text/html": "<style>#sk-container-id-9 {color: black;background-color: white;}#sk-container-id-9 pre{padding: 0;}#sk-container-id-9 div.sk-toggleable {background-color: white;}#sk-container-id-9 label.sk-toggleable__label {cursor: pointer;display: block;width: 100%;margin-bottom: 0;padding: 0.3em;box-sizing: border-box;text-align: center;}#sk-container-id-9 label.sk-toggleable__label-arrow:before {content: \"▸\";float: left;margin-right: 0.25em;color: #696969;}#sk-container-id-9 label.sk-toggleable__label-arrow:hover:before {color: black;}#sk-container-id-9 div.sk-estimator:hover label.sk-toggleable__label-arrow:before {color: black;}#sk-container-id-9 div.sk-toggleable__content {max-height: 0;max-width: 0;overflow: hidden;text-align: left;background-color: #f0f8ff;}#sk-container-id-9 div.sk-toggleable__content pre {margin: 0.2em;color: black;border-radius: 0.25em;background-color: #f0f8ff;}#sk-container-id-9 input.sk-toggleable__control:checked~div.sk-toggleable__content {max-height: 200px;max-width: 100%;overflow: auto;}#sk-container-id-9 input.sk-toggleable__control:checked~label.sk-toggleable__label-arrow:before {content: \"▾\";}#sk-container-id-9 div.sk-estimator input.sk-toggleable__control:checked~label.sk-toggleable__label {background-color: #d4ebff;}#sk-container-id-9 div.sk-label input.sk-toggleable__control:checked~label.sk-toggleable__label {background-color: #d4ebff;}#sk-container-id-9 input.sk-hidden--visually {border: 0;clip: rect(1px 1px 1px 1px);clip: rect(1px, 1px, 1px, 1px);height: 1px;margin: -1px;overflow: hidden;padding: 0;position: absolute;width: 1px;}#sk-container-id-9 div.sk-estimator {font-family: monospace;background-color: #f0f8ff;border: 1px dotted black;border-radius: 0.25em;box-sizing: border-box;margin-bottom: 0.5em;}#sk-container-id-9 div.sk-estimator:hover {background-color: #d4ebff;}#sk-container-id-9 div.sk-parallel-item::after {content: \"\";width: 100%;border-bottom: 1px solid gray;flex-grow: 1;}#sk-container-id-9 div.sk-label:hover label.sk-toggleable__label {background-color: #d4ebff;}#sk-container-id-9 div.sk-serial::before {content: \"\";position: absolute;border-left: 1px solid gray;box-sizing: border-box;top: 0;bottom: 0;left: 50%;z-index: 0;}#sk-container-id-9 div.sk-serial {display: flex;flex-direction: column;align-items: center;background-color: white;padding-right: 0.2em;padding-left: 0.2em;position: relative;}#sk-container-id-9 div.sk-item {position: relative;z-index: 1;}#sk-container-id-9 div.sk-parallel {display: flex;align-items: stretch;justify-content: center;background-color: white;position: relative;}#sk-container-id-9 div.sk-item::before, #sk-container-id-9 div.sk-parallel-item::before {content: \"\";position: absolute;border-left: 1px solid gray;box-sizing: border-box;top: 0;bottom: 0;left: 50%;z-index: -1;}#sk-container-id-9 div.sk-parallel-item {display: flex;flex-direction: column;z-index: 1;position: relative;background-color: white;}#sk-container-id-9 div.sk-parallel-item:first-child::after {align-self: flex-end;width: 50%;}#sk-container-id-9 div.sk-parallel-item:last-child::after {align-self: flex-start;width: 50%;}#sk-container-id-9 div.sk-parallel-item:only-child::after {width: 0;}#sk-container-id-9 div.sk-dashed-wrapped {border: 1px dashed gray;margin: 0 0.4em 0.5em 0.4em;box-sizing: border-box;padding-bottom: 0.4em;background-color: white;}#sk-container-id-9 div.sk-label label {font-family: monospace;font-weight: bold;display: inline-block;line-height: 1.2em;}#sk-container-id-9 div.sk-label-container {text-align: center;}#sk-container-id-9 div.sk-container {/* jupyter's `normalize.less` sets `[hidden] { display: none; }` but bootstrap.min.css set `[hidden] { display: none !important; }` so we also need the `!important` here to be able to override the default hidden behavior on the sphinx rendered scikit-learn.org. See: https://github.com/scikit-learn/scikit-learn/issues/21755 */display: inline-block !important;position: relative;}#sk-container-id-9 div.sk-text-repr-fallback {display: none;}</style><div id=\"sk-container-id-9\" class=\"sk-top-container\"><div class=\"sk-text-repr-fallback\"><pre>GridSearchCV(cv=5, estimator=RandomForestClassifier(),\n             param_grid={&#x27;max_depth&#x27;: [8, 10, 12, 14],\n                         &#x27;n_estimators&#x27;: [50, 100, 200]})</pre><b>In a Jupyter environment, please rerun this cell to show the HTML representation or trust the notebook. <br />On GitHub, the HTML representation is unable to render, please try loading this page with nbviewer.org.</b></div><div class=\"sk-container\" hidden><div class=\"sk-item sk-dashed-wrapped\"><div class=\"sk-label-container\"><div class=\"sk-label sk-toggleable\"><input class=\"sk-toggleable__control sk-hidden--visually\" id=\"sk-estimator-id-25\" type=\"checkbox\" ><label for=\"sk-estimator-id-25\" class=\"sk-toggleable__label sk-toggleable__label-arrow\">GridSearchCV</label><div class=\"sk-toggleable__content\"><pre>GridSearchCV(cv=5, estimator=RandomForestClassifier(),\n             param_grid={&#x27;max_depth&#x27;: [8, 10, 12, 14],\n                         &#x27;n_estimators&#x27;: [50, 100, 200]})</pre></div></div></div><div class=\"sk-parallel\"><div class=\"sk-parallel-item\"><div class=\"sk-item\"><div class=\"sk-label-container\"><div class=\"sk-label sk-toggleable\"><input class=\"sk-toggleable__control sk-hidden--visually\" id=\"sk-estimator-id-26\" type=\"checkbox\" ><label for=\"sk-estimator-id-26\" class=\"sk-toggleable__label sk-toggleable__label-arrow\">estimator: RandomForestClassifier</label><div class=\"sk-toggleable__content\"><pre>RandomForestClassifier()</pre></div></div></div><div class=\"sk-serial\"><div class=\"sk-item\"><div class=\"sk-estimator sk-toggleable\"><input class=\"sk-toggleable__control sk-hidden--visually\" id=\"sk-estimator-id-27\" type=\"checkbox\" ><label for=\"sk-estimator-id-27\" class=\"sk-toggleable__label sk-toggleable__label-arrow\">RandomForestClassifier</label><div class=\"sk-toggleable__content\"><pre>RandomForestClassifier()</pre></div></div></div></div></div></div></div></div></div></div>"
     },
     "execution_count": 78,
     "metadata": {},
     "output_type": "execute_result"
    }
   ],
   "source": [
    "gs.fit(X_res, y_res)"
   ],
   "metadata": {
    "collapsed": false
   }
  },
  {
   "cell_type": "code",
   "execution_count": 79,
   "outputs": [
    {
     "name": "stdout",
     "output_type": "stream",
     "text": [
      "{'max_depth': 14, 'n_estimators': 200}\n",
      "0.9528705954935074\n"
     ]
    }
   ],
   "source": [
    "print(gs.best_params_)\n",
    "print(gs.best_score_)"
   ],
   "metadata": {
    "collapsed": false
   }
  },
  {
   "cell_type": "code",
   "execution_count": 80,
   "outputs": [],
   "source": [
    "rff = RandomForestClassifier(n_estimators= 100, max_depth= 14)\n",
    "def rff_smote(X,y):\n",
    "    rff.fit(X, y)\n",
    "    rf_results = X.copy()\n",
    "    rf_results['y_pred'] = rff.predict(X)\n",
    "    rf_results['y_real'] = y\n",
    "    rf_results['y_prob'] = rff.predict_proba(X)[:,1]\n",
    "    rf_results['y_pred'] = np.where(rf_results['y_prob'] > 0.5, 1, 0)\n",
    "    return rf_results"
   ],
   "metadata": {
    "collapsed": false
   }
  },
  {
   "cell_type": "code",
   "execution_count": 81,
   "outputs": [
    {
     "name": "stdout",
     "output_type": "stream",
     "text": [
      "The confusion matrix for your predictions is:\n",
      "[[ 9847   295]\n",
      " [   71 10071]] \n",
      "\n",
      "The accuracy of your model is: 0.981956221652534\n",
      "The recall of your model is: 0.9929994084007099\n",
      "The precision of your model is: 0.9715415782365425\n",
      "The F1-score of your model is: 0.9821533060269163\n",
      "The ROC-AUC-score of your model is: 0.981956221652534\n"
     ]
    },
    {
     "data": {
      "text/plain": "{'fit_time': array([1.52026534, 1.81472325, 1.93650317, 1.78954887, 1.60372806]),\n 'score_time': array([0.1453793 , 0.15833378, 0.16251612, 0.13616252, 0.12921953]),\n 'test_accuracy': array([0.86024156, 0.97436529, 0.97880207, 0.97510476, 0.97928994]),\n 'test_f1': array([0.84280566, 0.97498797, 0.97923708, 0.97566851, 0.9796807 ]),\n 'test_roc_auc': array([0.95501812, 0.99966997, 0.99971275, 0.99841767, 0.99943493]),\n 'test_matthews_corrcoef': array([0.73879542, 0.94993287, 0.95842582, 0.95120918, 0.95928968])}"
     },
     "execution_count": 81,
     "metadata": {},
     "output_type": "execute_result"
    }
   ],
   "source": [
    "rf_results2 = rff_smote(X_res, y_res)\n",
    "get_results(y_res,rf_results2['y_pred'])\n",
    "rfs_score = cross_validate(rff, X_res, y_res, cv=5, scoring = ['accuracy', 'f1','roc_auc','matthews_corrcoef'])\n",
    "rfs_score"
   ],
   "metadata": {
    "collapsed": false
   }
  },
  {
   "cell_type": "markdown",
   "source": [
    "## 13. RANDOM FOREST WITH FEATURE IMPORTANCE"
   ],
   "metadata": {
    "collapsed": false
   }
  },
  {
   "cell_type": "code",
   "execution_count": 82,
   "outputs": [
    {
     "name": "stdout",
     "output_type": "stream",
     "text": [
      "WeekOfMonth = 0.010605503402031924\n",
      "WeekOfMonthClaimed = 0.008445734273084104\n",
      "Age = 0.01951414702286779\n",
      "RepNumber = 0.012862480413885708\n",
      "Deductible = 0.008504268692457493\n",
      "DriverRating = 0.010772297592681383\n",
      "Year = 0.03405043608499087\n",
      "Month_Aug = 0.0019320676407578743\n",
      "Month_Dec = 0.0032420643529959296\n",
      "Month_Feb = 0.0024152988309339507\n",
      "Month_Jan = 0.004080941720358987\n",
      "Month_Jul = 0.006795684050732169\n",
      "Month_Jun = 0.003882601416727924\n",
      "Month_Mar = 0.0020078804886891925\n",
      "Month_May = 0.002349119493487269\n",
      "Month_Nov = 0.00447694510934563\n",
      "Month_Oct = 0.0027962496945598456\n",
      "Month_Sep = 0.0034182368864664634\n",
      "DayOfWeek_Monday = 0.006643750830642711\n",
      "DayOfWeek_Saturday = 0.011598355029178522\n",
      "DayOfWeek_Sunday = 0.005828037888967536\n",
      "DayOfWeek_Thursday = 0.007569352612975189\n",
      "DayOfWeek_Tuesday = 0.010820535445117338\n",
      "DayOfWeek_Wednesday = 0.021926629317684757\n",
      "Make_BMW = 1.993022502916776e-05\n",
      "Make_Chevrolet = 0.01182450230403487\n",
      "Make_Dodge = 3.0305249340659548e-05\n",
      "Make_Ferrari = 0.0\n",
      "Make_Ford = 0.0015185951747112738\n",
      "Make_Honda = 0.006897377965808412\n",
      "Make_Jaguar = 7.288606025067133e-08\n",
      "Make_Lexus = 0.0\n",
      "Make_Mazda = 0.02425204002162994\n",
      "Make_Mecedes = 1.8646314762543989e-06\n",
      "Make_Mercury = 0.00014022301806383675\n",
      "Make_Nisson = 1.3652469718246972e-05\n",
      "Make_Pontiac = 0.02795781428777652\n",
      "Make_Porche = 4.20344346799958e-07\n",
      "Make_Saab = 0.00013590384467508076\n",
      "Make_Saturn = 6.716792948557187e-05\n",
      "Make_Toyota = 0.02616767893541559\n",
      "Make_VW = 0.0007088009257879428\n",
      "AccidentArea_Urban = 0.006417551166350385\n",
      "DayOfWeekClaimed_Monday = 0.014686551596499575\n",
      "DayOfWeekClaimed_Saturday = 0.00028777047498312365\n",
      "DayOfWeekClaimed_Sunday = 9.672500356029905e-05\n",
      "DayOfWeekClaimed_Thursday = 0.020546223950960247\n",
      "DayOfWeekClaimed_Tuesday = 0.018943395370741602\n",
      "DayOfWeekClaimed_Wednesday = 0.01618988312076677\n",
      "MonthClaimed_Aug = 0.001958151584490167\n",
      "MonthClaimed_Dec = 0.006177862845814178\n",
      "MonthClaimed_Feb = 0.002878189380743661\n",
      "MonthClaimed_Jan = 0.003509523008089992\n",
      "MonthClaimed_Jul = 0.008467700843752788\n",
      "MonthClaimed_Jun = 0.003177733664299332\n",
      "MonthClaimed_Mar = 0.002627737355301789\n",
      "MonthClaimed_May = 0.0037107107606095596\n",
      "MonthClaimed_Nov = 0.00942611372560707\n",
      "MonthClaimed_Oct = 0.0036640416024245363\n",
      "MonthClaimed_Sep = 0.0029941719424619543\n",
      "Sex_Male = 0.0025860493314231506\n",
      "MaritalStatus_Married = 0.0038979233891617004\n",
      "MaritalStatus_Single = 0.005653457752479243\n",
      "MaritalStatus_Widow = 5.279307752013043e-05\n",
      "Fault_Third Party = 0.1063293836024422\n",
      "PolicyType_Sedan - Collision = 0.018043876794625404\n",
      "PolicyType_Sedan - Liability = 0.06927999303582835\n",
      "PolicyType_Sport - All Perils = 2.531335525026464e-05\n",
      "PolicyType_Sport - Collision = 0.0007681129757658436\n",
      "PolicyType_Utility - All Perils = 0.0013683990296580594\n",
      "PolicyType_Utility - Collision = 5.810876846322431e-06\n",
      "PolicyType_Utility - Liability = 1.5787818668530888e-05\n",
      "VehicleCategory_Sport = 0.06375476008671406\n",
      "VehicleCategory_Utility = 0.0016967526878776892\n",
      "VehiclePrice_30000 to 39000 = 0.01721030415248835\n",
      "VehiclePrice_40000 to 59000 = 0.0011534459753645432\n",
      "VehiclePrice_60000 to 69000 = 4.477676564887713e-05\n",
      "VehiclePrice_less than 20000 = 0.00465877398026236\n",
      "VehiclePrice_more than 69000 = 0.004196608351627858\n",
      "Days_Policy_Accident_15 to 30 = 6.826021183287776e-05\n",
      "Days_Policy_Accident_8 to 15 = 5.1331845167271286e-05\n",
      "Days_Policy_Accident_more than 30 = 0.0013540863310736566\n",
      "Days_Policy_Accident_none = 0.00015913799686957374\n",
      "Days_Policy_Claim_8 to 15 = 3.5046633069511286e-05\n",
      "Days_Policy_Claim_more than 30 = 0.0007463844886624733\n",
      "PastNumberOfClaims_2 to 4 = 0.024757970517293885\n",
      "PastNumberOfClaims_more than 4 = 0.013451560538753135\n",
      "PastNumberOfClaims_none = 0.013901014403688834\n",
      "AgeOfVehicle_3 years = 0.00014976749109008665\n",
      "AgeOfVehicle_4 years = 0.00030622594912953476\n",
      "AgeOfVehicle_5 years = 0.0015803357991035973\n",
      "AgeOfVehicle_6 years = 0.0034735416636869055\n",
      "AgeOfVehicle_7 years = 0.007788963074039951\n",
      "AgeOfVehicle_more than 7 = 0.007914695602596274\n",
      "AgeOfVehicle_new = 0.000788820539083251\n",
      "AgeOfPolicyHolder_18 to 20 = 1.2860890678078277e-05\n",
      "AgeOfPolicyHolder_21 to 25 = 0.0004339149420088074\n",
      "AgeOfPolicyHolder_26 to 30 = 0.000834020200179945\n",
      "AgeOfPolicyHolder_31 to 35 = 0.003052581032109146\n",
      "AgeOfPolicyHolder_36 to 40 = 0.0032170486989297115\n",
      "AgeOfPolicyHolder_41 to 50 = 0.0028220815464336728\n",
      "AgeOfPolicyHolder_51 to 65 = 0.0013552368914495046\n",
      "AgeOfPolicyHolder_over 65 = 0.0008596034609048534\n",
      "PoliceReportFiled_Yes = 0.001082863563091719\n",
      "WitnessPresent_Yes = 9.056657377023342e-05\n",
      "AgentType_Internal = 0.00013001312126856442\n",
      "NumberOfSuppliments_3 to 5 = 0.016394030336192522\n",
      "NumberOfSuppliments_more than 5 = 0.022216848421257596\n",
      "NumberOfSuppliments_none = 0.008987007033993256\n",
      "AddressChange_Claim_2 to 3 years = 0.010729981987626952\n",
      "AddressChange_Claim_4 to 8 years = 0.0015302079564209394\n",
      "AddressChange_Claim_no change = 0.006931922409665571\n",
      "AddressChange_Claim_under 6 months = 1.4342525994527948e-05\n",
      "NumberOfCars_2 vehicles = 0.0011027730020274132\n",
      "NumberOfCars_3 to 4 = 0.0004409619708066895\n",
      "NumberOfCars_5 to 8 = 4.5326050744740054e-05\n",
      "NumberOfCars_more than 8 = 1.7954010559108202e-06\n",
      "BasePolicy_Collision = 0.01626281518044769\n",
      "BasePolicy_Liability = 0.09214672477571027\n"
     ]
    }
   ],
   "source": [
    "for name, importance in zip(X_res, rff.feature_importances_):\n",
    "    print(name, \"=\", importance)"
   ],
   "metadata": {
    "collapsed": false
   }
  },
  {
   "cell_type": "code",
   "execution_count": 83,
   "outputs": [],
   "source": [
    "features = X_res.columns"
   ],
   "metadata": {
    "collapsed": false
   }
  },
  {
   "cell_type": "code",
   "execution_count": 84,
   "outputs": [
    {
     "data": {
      "text/plain": "<Figure size 700x2000 with 1 Axes>",
      "image/png": "[encoded data removed]"
     },
     "metadata": {},
     "output_type": "display_data"
    }
   ],
   "source": [
    "\n",
    "importances = rff.feature_importances_\n",
    "indices = np.argsort(importances)\n",
    "plt.rcParams[\"figure.figsize\"] = [7.00, 20]\n",
    "plt.title('Feature Importances')\n",
    "plt.barh(range(len(indices)), importances[indices], color='b', align='center')\n",
    "plt.yticks(range(len(indices)), [features[i] for i in indices])\n",
    "plt.xlabel('Relative Importance')\n",
    "plt.show()"
   ],
   "metadata": {
    "collapsed": false
   }
  },
  {
   "cell_type": "code",
   "execution_count": 85,
   "outputs": [],
   "source": [
    "fi = list(zip(X_res, rff.feature_importances_))"
   ],
   "metadata": {
    "collapsed": false
   }
  },
  {
   "cell_type": "code",
   "execution_count": 86,
   "outputs": [
    {
     "data": {
      "text/plain": "[('WeekOfMonth', 0.010605503402031924),\n ('WeekOfMonthClaimed', 0.008445734273084104),\n ('Age', 0.01951414702286779),\n ('RepNumber', 0.012862480413885708),\n ('Deductible', 0.008504268692457493),\n ('DriverRating', 0.010772297592681383),\n ('Year', 0.03405043608499087),\n ('Month_Aug', 0.0019320676407578743),\n ('Month_Dec', 0.0032420643529959296),\n ('Month_Feb', 0.0024152988309339507),\n ('Month_Jan', 0.004080941720358987),\n ('Month_Jul', 0.006795684050732169),\n ('Month_Jun', 0.003882601416727924),\n ('Month_Mar', 0.0020078804886891925),\n ('Month_May', 0.002349119493487269),\n ('Month_Nov', 0.00447694510934563),\n ('Month_Oct', 0.0027962496945598456),\n ('Month_Sep', 0.0034182368864664634),\n ('DayOfWeek_Monday', 0.006643750830642711),\n ('DayOfWeek_Saturday', 0.011598355029178522),\n ('DayOfWeek_Sunday', 0.005828037888967536),\n ('DayOfWeek_Thursday', 0.007569352612975189),\n ('DayOfWeek_Tuesday', 0.010820535445117338),\n ('DayOfWeek_Wednesday', 0.021926629317684757),\n ('Make_BMW', 1.993022502916776e-05),\n ('Make_Chevrolet', 0.01182450230403487),\n ('Make_Dodge', 3.0305249340659548e-05),\n ('Make_Ferrari', 0.0),\n ('Make_Ford', 0.0015185951747112738),\n ('Make_Honda', 0.006897377965808412),\n ('Make_Jaguar', 7.288606025067133e-08),\n ('Make_Lexus', 0.0),\n ('Make_Mazda', 0.02425204002162994),\n ('Make_Mecedes', 1.8646314762543989e-06),\n ('Make_Mercury', 0.00014022301806383675),\n ('Make_Nisson', 1.3652469718246972e-05),\n ('Make_Pontiac', 0.02795781428777652),\n ('Make_Porche', 4.20344346799958e-07),\n ('Make_Saab', 0.00013590384467508076),\n ('Make_Saturn', 6.716792948557187e-05),\n ('Make_Toyota', 0.02616767893541559),\n ('Make_VW', 0.0007088009257879428),\n ('AccidentArea_Urban', 0.006417551166350385),\n ('DayOfWeekClaimed_Monday', 0.014686551596499575),\n ('DayOfWeekClaimed_Saturday', 0.00028777047498312365),\n ('DayOfWeekClaimed_Sunday', 9.672500356029905e-05),\n ('DayOfWeekClaimed_Thursday', 0.020546223950960247),\n ('DayOfWeekClaimed_Tuesday', 0.018943395370741602),\n ('DayOfWeekClaimed_Wednesday', 0.01618988312076677),\n ('MonthClaimed_Aug', 0.001958151584490167),\n ('MonthClaimed_Dec', 0.006177862845814178),\n ('MonthClaimed_Feb', 0.002878189380743661),\n ('MonthClaimed_Jan', 0.003509523008089992),\n ('MonthClaimed_Jul', 0.008467700843752788),\n ('MonthClaimed_Jun', 0.003177733664299332),\n ('MonthClaimed_Mar', 0.002627737355301789),\n ('MonthClaimed_May', 0.0037107107606095596),\n ('MonthClaimed_Nov', 0.00942611372560707),\n ('MonthClaimed_Oct', 0.0036640416024245363),\n ('MonthClaimed_Sep', 0.0029941719424619543),\n ('Sex_Male', 0.0025860493314231506),\n ('MaritalStatus_Married', 0.0038979233891617004),\n ('MaritalStatus_Single', 0.005653457752479243),\n ('MaritalStatus_Widow', 5.279307752013043e-05),\n ('Fault_Third Party', 0.1063293836024422),\n ('PolicyType_Sedan - Collision', 0.018043876794625404),\n ('PolicyType_Sedan - Liability', 0.06927999303582835),\n ('PolicyType_Sport - All Perils', 2.531335525026464e-05),\n ('PolicyType_Sport - Collision', 0.0007681129757658436),\n ('PolicyType_Utility - All Perils', 0.0013683990296580594),\n ('PolicyType_Utility - Collision', 5.810876846322431e-06),\n ('PolicyType_Utility - Liability', 1.5787818668530888e-05),\n ('VehicleCategory_Sport', 0.06375476008671406),\n ('VehicleCategory_Utility', 0.0016967526878776892),\n ('VehiclePrice_30000 to 39000', 0.01721030415248835),\n ('VehiclePrice_40000 to 59000', 0.0011534459753645432),\n ('VehiclePrice_60000 to 69000', 4.477676564887713e-05),\n ('VehiclePrice_less than 20000', 0.00465877398026236),\n ('VehiclePrice_more than 69000', 0.004196608351627858),\n ('Days_Policy_Accident_15 to 30', 6.826021183287776e-05),\n ('Days_Policy_Accident_8 to 15', 5.1331845167271286e-05),\n ('Days_Policy_Accident_more than 30', 0.0013540863310736566),\n ('Days_Policy_Accident_none', 0.00015913799686957374),\n ('Days_Policy_Claim_8 to 15', 3.5046633069511286e-05),\n ('Days_Policy_Claim_more than 30', 0.0007463844886624733),\n ('PastNumberOfClaims_2 to 4', 0.024757970517293885),\n ('PastNumberOfClaims_more than 4', 0.013451560538753135),\n ('PastNumberOfClaims_none', 0.013901014403688834),\n ('AgeOfVehicle_3 years', 0.00014976749109008665),\n ('AgeOfVehicle_4 years', 0.00030622594912953476),\n ('AgeOfVehicle_5 years', 0.0015803357991035973),\n ('AgeOfVehicle_6 years', 0.0034735416636869055),\n ('AgeOfVehicle_7 years', 0.007788963074039951),\n ('AgeOfVehicle_more than 7', 0.007914695602596274),\n ('AgeOfVehicle_new', 0.000788820539083251),\n ('AgeOfPolicyHolder_18 to 20', 1.2860890678078277e-05),\n ('AgeOfPolicyHolder_21 to 25', 0.0004339149420088074),\n ('AgeOfPolicyHolder_26 to 30', 0.000834020200179945),\n ('AgeOfPolicyHolder_31 to 35', 0.003052581032109146),\n ('AgeOfPolicyHolder_36 to 40', 0.0032170486989297115),\n ('AgeOfPolicyHolder_41 to 50', 0.0028220815464336728),\n ('AgeOfPolicyHolder_51 to 65', 0.0013552368914495046),\n ('AgeOfPolicyHolder_over 65', 0.0008596034609048534),\n ('PoliceReportFiled_Yes', 0.001082863563091719),\n ('WitnessPresent_Yes', 9.056657377023342e-05),\n ('AgentType_Internal', 0.00013001312126856442),\n ('NumberOfSuppliments_3 to 5', 0.016394030336192522),\n ('NumberOfSuppliments_more than 5', 0.022216848421257596),\n ('NumberOfSuppliments_none', 0.008987007033993256),\n ('AddressChange_Claim_2 to 3 years', 0.010729981987626952),\n ('AddressChange_Claim_4 to 8 years', 0.0015302079564209394),\n ('AddressChange_Claim_no change', 0.006931922409665571),\n ('AddressChange_Claim_under 6 months', 1.4342525994527948e-05),\n ('NumberOfCars_2 vehicles', 0.0011027730020274132),\n ('NumberOfCars_3 to 4', 0.0004409619708066895),\n ('NumberOfCars_5 to 8', 4.5326050744740054e-05),\n ('NumberOfCars_more than 8', 1.7954010559108202e-06),\n ('BasePolicy_Collision', 0.01626281518044769),\n ('BasePolicy_Liability', 0.09214672477571027)]"
     },
     "execution_count": 86,
     "metadata": {},
     "output_type": "execute_result"
    }
   ],
   "source": [
    "fi"
   ],
   "metadata": {
    "collapsed": false
   }
  },
  {
   "cell_type": "code",
   "execution_count": 87,
   "outputs": [],
   "source": [
    "fi = pd.DataFrame(fi, columns =['Feature', 'Importance'])\n",
    "fi['Importance'] = fi['Importance'].astype(float)"
   ],
   "metadata": {
    "collapsed": false
   }
  },
  {
   "cell_type": "code",
   "execution_count": 88,
   "outputs": [
    {
     "data": {
      "text/plain": "Feature        object\nImportance    float64\ndtype: object"
     },
     "execution_count": 88,
     "metadata": {},
     "output_type": "execute_result"
    }
   ],
   "source": [
    "fi.dtypes"
   ],
   "metadata": {
    "collapsed": false
   }
  },
  {
   "cell_type": "code",
   "execution_count": 89,
   "outputs": [],
   "source": [
    "fi = fi.sort_values('Importance', ascending=False)\n",
    "fi.reset_index(drop='index',inplace=True)\n",
    "fi1 = fi.head(30)"
   ],
   "metadata": {
    "collapsed": false
   }
  },
  {
   "cell_type": "code",
   "execution_count": 90,
   "outputs": [
    {
     "data": {
      "text/plain": "['Fault_Third Party',\n 'BasePolicy_Liability',\n 'PolicyType_Sedan - Liability',\n 'VehicleCategory_Sport',\n 'Year',\n 'Make_Pontiac',\n 'Make_Toyota',\n 'PastNumberOfClaims_2 to 4',\n 'Make_Mazda',\n 'NumberOfSuppliments_more than 5',\n 'DayOfWeek_Wednesday',\n 'DayOfWeekClaimed_Thursday',\n 'Age',\n 'DayOfWeekClaimed_Tuesday',\n 'PolicyType_Sedan - Collision',\n 'VehiclePrice_30000 to 39000',\n 'NumberOfSuppliments_3 to 5',\n 'BasePolicy_Collision',\n 'DayOfWeekClaimed_Wednesday',\n 'DayOfWeekClaimed_Monday',\n 'PastNumberOfClaims_none',\n 'PastNumberOfClaims_more than 4',\n 'RepNumber',\n 'Make_Chevrolet',\n 'DayOfWeek_Saturday',\n 'DayOfWeek_Tuesday',\n 'DriverRating',\n 'AddressChange_Claim_2 to 3 years',\n 'WeekOfMonth',\n 'MonthClaimed_Nov']"
     },
     "execution_count": 90,
     "metadata": {},
     "output_type": "execute_result"
    }
   ],
   "source": [
    "list(fi1['Feature'])"
   ],
   "metadata": {
    "collapsed": false
   }
  },
  {
   "cell_type": "markdown",
   "source": [
    "### 13.1 IDENTIFYING FEATURES"
   ],
   "metadata": {
    "collapsed": false
   }
  },
  {
   "cell_type": "code",
   "execution_count": 91,
   "outputs": [],
   "source": [
    "features1 = ['VehicleCategory_Sport',\n",
    "             'BasePolicy_Liability',\n",
    "             'Fault_Third Party',\n",
    "             'Year',\n",
    "             'Make_Toyota',\n",
    "             'PolicyType_Sedan - Collision',\n",
    "             'Make_Pontiac',\n",
    "             'PolicyType_Sedan - Liability',\n",
    "             'NumberOfSuppliments_3 to 5',\n",
    "             'NumberOfSuppliments_more than 5',\n",
    "             'BasePolicy_Collision',\n",
    "             'PastNumberOfClaims_2 to 4',\n",
    "             'Month_Jul',\n",
    "             'DayOfWeekClaimed_Wednesday',\n",
    "             'DayOfWeekClaimed_Thursday',\n",
    "             'DayOfWeek_Wednesday',\n",
    "             'VehiclePrice_30000 to 39000',\n",
    "             'DayOfWeek_Tuesday',\n",
    "             'PastNumberOfClaims_more than 4',\n",
    "             'DayOfWeekClaimed_Tuesday',\n",
    "             'DayOfWeek_Monday',\n",
    "             'Deductible',\n",
    "             'MonthClaimed_Nov',\n",
    "             'Make_Mazda',\n",
    "             'PastNumberOfClaims_none',\n",
    "             'AgeOfVehicle_more than 7',\n",
    "             'Make_Honda',\n",
    "             'MonthClaimed_Dec',\n",
    "             'WeekOfMonthClaimed',\n",
    "             'Age']"
   ],
   "metadata": {
    "collapsed": false
   }
  },
  {
   "cell_type": "markdown",
   "source": [
    "### 13.2 APPLY RANDOM FOREST CLASSIFER WITH TOP 30 FEATURES"
   ],
   "metadata": {
    "collapsed": false
   }
  },
  {
   "cell_type": "code",
   "execution_count": 92,
   "outputs": [],
   "source": [
    "rff_f = RandomForestClassifier(n_estimators= 100, max_depth= 14)\n",
    "def rff_smote(X,y):\n",
    "    rff_f.fit(X, y)\n",
    "    rf_results = X.copy()\n",
    "    rf_results['y_pred'] = rff_f.predict(X)\n",
    "    rf_results['y_real'] = y\n",
    "    rf_results['y_prob'] = rff_f.predict_proba(X)[:,1]\n",
    "    rf_results['y_pred'] = np.where(rf_results['y_prob'] > 0.5, 1, 0)\n",
    "    return rf_results"
   ],
   "metadata": {
    "collapsed": false
   }
  },
  {
   "cell_type": "code",
   "execution_count": 93,
   "outputs": [
    {
     "name": "stdout",
     "output_type": "stream",
     "text": [
      "The confusion matrix for your predictions is:\n",
      "[[ 9457   685]\n",
      " [  137 10005]] \n",
      "\n",
      "The accuracy of your model is: 0.9594754486294617\n",
      "The recall of your model is: 0.9864918162098205\n",
      "The precision of your model is: 0.9359214218896165\n",
      "The F1-score of your model is: 0.9605414746543779\n",
      "The ROC-AUC-score of your model is: 0.9594754486294617\n"
     ]
    },
    {
     "data": {
      "text/plain": "{'fit_time': array([1.24954319, 1.44650388, 1.31011844, 1.21909666, 1.26885986]),\n 'score_time': array([0.16378999, 0.15803838, 0.14552426, 0.14085698, 0.17017198]),\n 'test_accuracy': array([0.84988908, 0.95070249, 0.95612522, 0.95070249, 0.9561144 ]),\n 'test_f1': array([0.83816104, 0.95291902, 0.95793951, 0.95285243, 0.95783989]),\n 'test_roc_auc': array([0.9381222 , 0.99325631, 0.99117736, 0.99220584, 0.99243639]),\n 'test_matthews_corrcoef': array([0.707184  , 0.90547221, 0.91562342, 0.90513428, 0.91530024])}"
     },
     "execution_count": 93,
     "metadata": {},
     "output_type": "execute_result"
    }
   ],
   "source": [
    "rf_results3 = rff_smote(X_res[features1], y_res)\n",
    "get_results(y_res,rf_results3['y_pred'])\n",
    "rfsf_score = cross_validate(rff_f, X_res[features1], y_res, cv=5, scoring = ['accuracy', 'f1','roc_auc','matthews_corrcoef'])\n",
    "rfsf_score"
   ],
   "metadata": {
    "collapsed": false
   }
  },
  {
   "cell_type": "markdown",
   "source": [
    "## 14. EVALUATING MODELS"
   ],
   "metadata": {
    "collapsed": false
   }
  },
  {
   "cell_type": "markdown",
   "source": [
    "### 14.1 ROC CURVE"
   ],
   "metadata": {
    "collapsed": false
   }
  },
  {
   "cell_type": "code",
   "execution_count": 94,
   "outputs": [],
   "source": [
    "fpr, tpr, _a = metrics.roc_curve(y_train, lgr_results['Fraud'])\n",
    "fpr1, tpr1, _b = metrics.roc_curve(y_train,  dt_results['y_prob'])\n",
    "fpr2,tpr2,_c= metrics.roc_curve(y_train,  rf_results['y_prob'])\n",
    "fpr3,tpr3,_d= metrics.roc_curve(y_train1,  dtds_results['y_prob'])\n",
    "fpr4,tpr4,_e= metrics.roc_curve(y_train1,  rf_results1['y_prob'])\n",
    "fpr5, tpr5,_f= metrics.roc_curve(y_res,dts_results['y_prob'])\n",
    "fpr6, tpr6,_g= metrics.roc_curve(y_res,rf_results2['y_prob'])\n",
    "fpr7, tpr7,_h= metrics.roc_curve(y_res,rf_results3['y_prob'])\n",
    "fpr8, tpr8,_i= metrics.roc_curve(y_res,lgrs_results['Fraud'])"
   ],
   "metadata": {
    "collapsed": false
   }
  },
  {
   "cell_type": "code",
   "execution_count": 95,
   "outputs": [
    {
     "data": {
      "text/plain": "<Figure size 1200x600 with 1 Axes>",
      "image/png": "[encoded data removed]"
     },
     "metadata": {},
     "output_type": "display_data"
    }
   ],
   "source": [
    "\n",
    "\n",
    "plt.figure(figsize=(12,6))\n",
    "plt.plot(fpr,tpr,label=\"Logistic Regression\")\n",
    "plt.plot(fpr1,tpr1,label=\"Decision Trees\")\n",
    "plt.plot(fpr2,tpr2,label=\"Random Forest\")\n",
    "plt.plot(fpr3,tpr3,label=\"Decision Trees Downsampled\")\n",
    "plt.plot(fpr4,tpr4,label=\"Random Forest Downsampled\")\n",
    "plt.plot(fpr8,tpr8,label=\"Logistic Regression SMOTE\")\n",
    "plt.plot(fpr5,tpr5,'--',label=\"Decision Trees SMOTE\")\n",
    "plt.plot(fpr6,tpr6,label=\"Random Forest SMOTE\")\n",
    "plt.plot(fpr7,tpr7,label=\"Random Forest SMOTE with Features\")\n",
    "\n",
    "\n",
    "plt.legend(loc=4)\n",
    "plt.grid(color='b', ls = '-.', lw = 0.25)\n",
    "plt.show()"
   ],
   "metadata": {
    "collapsed": false
   }
  },
  {
   "cell_type": "markdown",
   "source": [
    "### 14.2 COMPARING ALL MODELS"
   ],
   "metadata": {
    "collapsed": false
   }
  },
  {
   "cell_type": "code",
   "execution_count": 189,
   "outputs": [],
   "source": [
    "model_name = ['Logistic Regression','Decision Trees', 'Random Forest','Logistic Regression Downsampled', 'Decision Trees Downsampled','Random Forest Downsampled','Logistic Regression SMOTE', 'Decision Trees SMOTE', 'Random Forest SMOTE','Random Forest SMOTE with Feature Selection']\n",
    "cv_result = [ lgr_score,dt_score,rf_score,lgrds_score, dtds_score,rfds_score,lgrs_score,dts_score,rfs_score,rfsf_score]\n",
    "\n",
    "\n",
    "results = [{k : v.mean() for k, v in result.items()} for result in cv_result]\n",
    "df_cv_result = pd.DataFrame(results, index=model_name)"
   ],
   "metadata": {
    "collapsed": false
   }
  },
  {
   "cell_type": "code",
   "execution_count": 190,
   "outputs": [
    {
     "data": {
      "text/plain": "                                            test_accuracy   test_f1  \\\nLogistic Regression                              0.939683  0.000000   \nDecision Trees                                   0.941443  0.069921   \nRandom Forest                                    0.939683  0.000000   \nLogistic Regression Downsampled                  0.551521  0.561413   \nDecision Trees Downsampled                       0.768974  0.796481   \nRandom Forest Downsampled                        0.767611  0.804899   \nLogistic Regression SMOTE                        0.950110  0.944551   \nDecision Trees SMOTE                             0.935911  0.933496   \nRandom Forest SMOTE                              0.953561  0.950476   \nRandom Forest SMOTE with Feature Selection       0.932707  0.931942   \n\n                                            test_roc_auc  \\\nLogistic Regression                             0.546606   \nDecision Trees                                  0.814383   \nRandom Forest                                   0.733047   \nLogistic Regression Downsampled                 0.568708   \nDecision Trees Downsampled                      0.816098   \nRandom Forest Downsampled                       0.801750   \nLogistic Regression SMOTE                       0.983189   \nDecision Trees SMOTE                            0.941301   \nRandom Forest SMOTE                             0.990451   \nRandom Forest SMOTE with Feature Selection      0.981440   \n\n                                            test_matthews_corrcoef  \nLogistic Regression                                       0.000000  \nDecision Trees                                            0.162983  \nRandom Forest                                             0.000000  \nLogistic Regression Downsampled                           0.103168  \nDecision Trees Downsampled                                0.559649  \nRandom Forest Downsampled                                 0.580248  \nLogistic Regression SMOTE                                 0.907424  \nDecision Trees SMOTE                                      0.876028  \nRandom Forest SMOTE                                       0.911531  \nRandom Forest SMOTE with Feature Selection                0.869743  ",
      "text/html": "<div>\n<style scoped>\n    .dataframe tbody tr th:only-of-type {\n        vertical-align: middle;\n    }\n\n    .dataframe tbody tr th {\n        vertical-align: top;\n    }\n\n    .dataframe thead th {\n        text-align: right;\n    }\n</style>\n<table border=\"1\" class=\"dataframe\">\n  <thead>\n    <tr style=\"text-align: right;\">\n      <th></th>\n      <th>test_accuracy</th>\n      <th>test_f1</th>\n      <th>test_roc_auc</th>\n      <th>test_matthews_corrcoef</th>\n    </tr>\n  </thead>\n  <tbody>\n    <tr>\n      <th>Logistic Regression</th>\n      <td>0.939683</td>\n      <td>0.000000</td>\n      <td>0.546606</td>\n      <td>0.000000</td>\n    </tr>\n    <tr>\n      <th>Decision Trees</th>\n      <td>0.941443</td>\n      <td>0.069921</td>\n      <td>0.814383</td>\n      <td>0.162983</td>\n    </tr>\n    <tr>\n      <th>Random Forest</th>\n      <td>0.939683</td>\n      <td>0.000000</td>\n      <td>0.733047</td>\n      <td>0.000000</td>\n    </tr>\n    <tr>\n      <th>Logistic Regression Downsampled</th>\n      <td>0.551521</td>\n      <td>0.561413</td>\n      <td>0.568708</td>\n      <td>0.103168</td>\n    </tr>\n    <tr>\n      <th>Decision Trees Downsampled</th>\n      <td>0.768974</td>\n      <td>0.796481</td>\n      <td>0.816098</td>\n      <td>0.559649</td>\n    </tr>\n    <tr>\n      <th>Random Forest Downsampled</th>\n      <td>0.767611</td>\n      <td>0.804899</td>\n      <td>0.801750</td>\n      <td>0.580248</td>\n    </tr>\n    <tr>\n      <th>Logistic Regression SMOTE</th>\n      <td>0.950110</td>\n      <td>0.944551</td>\n      <td>0.983189</td>\n      <td>0.907424</td>\n    </tr>\n    <tr>\n      <th>Decision Trees SMOTE</th>\n      <td>0.935911</td>\n      <td>0.933496</td>\n      <td>0.941301</td>\n      <td>0.876028</td>\n    </tr>\n    <tr>\n      <th>Random Forest SMOTE</th>\n      <td>0.953561</td>\n      <td>0.950476</td>\n      <td>0.990451</td>\n      <td>0.911531</td>\n    </tr>\n    <tr>\n      <th>Random Forest SMOTE with Feature Selection</th>\n      <td>0.932707</td>\n      <td>0.931942</td>\n      <td>0.981440</td>\n      <td>0.869743</td>\n    </tr>\n  </tbody>\n</table>\n</div>"
     },
     "execution_count": 190,
     "metadata": {},
     "output_type": "execute_result"
    }
   ],
   "source": [
    "df_cv_result.drop(columns=['fit_time','score_time'],inplace=True)\n",
    "df_cv_result"
   ],
   "metadata": {
    "collapsed": false
   }
  },
  {
   "cell_type": "markdown",
   "source": [
    "## 15. ENSEMBLING\n"
   ],
   "metadata": {
    "collapsed": false
   }
  },
  {
   "cell_type": "markdown",
   "source": [
    "#### Can we yield a better result from Ensembling all models after SMOTE was applied?"
   ],
   "metadata": {
    "collapsed": false
   }
  },
  {
   "cell_type": "code",
   "execution_count": 191,
   "outputs": [
    {
     "data": {
      "text/plain": "       lgr_smote  dt_smote  rf_smote\n0              0         0         0\n1              0         0         0\n2              0         0         0\n3              0         0         0\n4              1         0         0\n...          ...       ...       ...\n20279          1         1         1\n20280          1         1         1\n20281          1         1         1\n20282          1         1         1\n20283          1         1         1\n\n[20284 rows x 3 columns]",
      "text/html": "<div>\n<style scoped>\n    .dataframe tbody tr th:only-of-type {\n        vertical-align: middle;\n    }\n\n    .dataframe tbody tr th {\n        vertical-align: top;\n    }\n\n    .dataframe thead th {\n        text-align: right;\n    }\n</style>\n<table border=\"1\" class=\"dataframe\">\n  <thead>\n    <tr style=\"text-align: right;\">\n      <th></th>\n      <th>lgr_smote</th>\n      <th>dt_smote</th>\n      <th>rf_smote</th>\n    </tr>\n  </thead>\n  <tbody>\n    <tr>\n      <th>0</th>\n      <td>0</td>\n      <td>0</td>\n      <td>0</td>\n    </tr>\n    <tr>\n      <th>1</th>\n      <td>0</td>\n      <td>0</td>\n      <td>0</td>\n    </tr>\n    <tr>\n      <th>2</th>\n      <td>0</td>\n      <td>0</td>\n      <td>0</td>\n    </tr>\n    <tr>\n      <th>3</th>\n      <td>0</td>\n      <td>0</td>\n      <td>0</td>\n    </tr>\n    <tr>\n      <th>4</th>\n      <td>1</td>\n      <td>0</td>\n      <td>0</td>\n    </tr>\n    <tr>\n      <th>...</th>\n      <td>...</td>\n      <td>...</td>\n      <td>...</td>\n    </tr>\n    <tr>\n      <th>20279</th>\n      <td>1</td>\n      <td>1</td>\n      <td>1</td>\n    </tr>\n    <tr>\n      <th>20280</th>\n      <td>1</td>\n      <td>1</td>\n      <td>1</td>\n    </tr>\n    <tr>\n      <th>20281</th>\n      <td>1</td>\n      <td>1</td>\n      <td>1</td>\n    </tr>\n    <tr>\n      <th>20282</th>\n      <td>1</td>\n      <td>1</td>\n      <td>1</td>\n    </tr>\n    <tr>\n      <th>20283</th>\n      <td>1</td>\n      <td>1</td>\n      <td>1</td>\n    </tr>\n  </tbody>\n</table>\n<p>20284 rows × 3 columns</p>\n</div>"
     },
     "execution_count": 191,
     "metadata": {},
     "output_type": "execute_result"
    }
   ],
   "source": [
    "combined = pd.DataFrame(columns=['lgr_smote', 'dt_smote', 'rf_smote'])\n",
    "combined['lgr_smote'] = lgrs_results['y_pred']\n",
    "combined['dt_smote'] = dts_results['y_pred']\n",
    "combined['rf_smote'] = rf_results2['y_pred']\n",
    "combined"
   ],
   "metadata": {
    "collapsed": false
   }
  },
  {
   "cell_type": "code",
   "execution_count": 192,
   "outputs": [
    {
     "data": {
      "text/plain": "       WeekOfMonth  WeekOfMonthClaimed        Age  RepNumber  Deductible  \\\n0                3                   3  29.000000         10         400   \n1                4                   2  46.000000          1         400   \n2                3                   4  26.000000          9         400   \n3                3                   4  28.000000          6         400   \n4                2                   4  28.000000         14         400   \n...            ...                 ...        ...        ...         ...   \n20279            3                   3  26.000000          1         400   \n20280            3                   1  38.881406         14         500   \n20281            3                   3  26.656250          6         400   \n20282            1                   1  39.000000          5         400   \n20283            1                   3  58.305223          4         400   \n\n       DriverRating  Year  Month_Aug  Month_Dec  Month_Feb  ...  \\\n0                 2  1994          0          0          0  ...   \n1                 1  1996          1          0          0  ...   \n2                 1  1994          0          0          0  ...   \n3                 3  1995          0          1          0  ...   \n4                 4  1994          0          0          0  ...   \n...             ...   ...        ...        ...        ...  ...   \n20279             1  1994          0          0          0  ...   \n20280             3  1995          0          0          0  ...   \n20281             3  1994          0          0          0  ...   \n20282             3  1996          0          0          0  ...   \n20283             1  1995          0          0          0  ...   \n\n       AddressChange_Claim_4 to 8 years  AddressChange_Claim_no change  \\\n0                                     0                              1   \n1                                     0                              1   \n2                                     0                              1   \n3                                     0                              1   \n4                                     0                              1   \n...                                 ...                            ...   \n20279                                 0                              1   \n20280                                 0                              0   \n20281                                 0                              1   \n20282                                 0                              1   \n20283                                 0                              1   \n\n       AddressChange_Claim_under 6 months  NumberOfCars_2 vehicles  \\\n0                                       0                        0   \n1                                       0                        0   \n2                                       0                        0   \n3                                       0                        0   \n4                                       0                        0   \n...                                   ...                      ...   \n20279                                   0                        0   \n20280                                   0                        0   \n20281                                   0                        0   \n20282                                   0                        0   \n20283                                   0                        0   \n\n       NumberOfCars_3 to 4  NumberOfCars_5 to 8  NumberOfCars_more than 8  \\\n0                        0                    0                         0   \n1                        0                    0                         0   \n2                        0                    0                         0   \n3                        0                    0                         0   \n4                        0                    0                         0   \n...                    ...                  ...                       ...   \n20279                    0                    0                         0   \n20280                    0                    0                         0   \n20281                    0                    0                         0   \n20282                    0                    0                         0   \n20283                    0                    0                         0   \n\n       BasePolicy_Collision  BasePolicy_Liability  y_pred  \n0                         0                     0       0  \n1                         0                     1       0  \n2                         0                     1       0  \n3                         0                     1       0  \n4                         1                     0       0  \n...                     ...                   ...     ...  \n20279                     1                     0       1  \n20280                     0                     0       1  \n20281                     0                     0       1  \n20282                     0                     0       1  \n20283                     0                     0       1  \n\n[20284 rows x 120 columns]",
      "text/html": "<div>\n<style scoped>\n    .dataframe tbody tr th:only-of-type {\n        vertical-align: middle;\n    }\n\n    .dataframe tbody tr th {\n        vertical-align: top;\n    }\n\n    .dataframe thead th {\n        text-align: right;\n    }\n</style>\n<table border=\"1\" class=\"dataframe\">\n  <thead>\n    <tr style=\"text-align: right;\">\n      <th></th>\n      <th>WeekOfMonth</th>\n      <th>WeekOfMonthClaimed</th>\n      <th>Age</th>\n      <th>RepNumber</th>\n      <th>Deductible</th>\n      <th>DriverRating</th>\n      <th>Year</th>\n      <th>Month_Aug</th>\n      <th>Month_Dec</th>\n      <th>Month_Feb</th>\n      <th>...</th>\n      <th>AddressChange_Claim_4 to 8 years</th>\n      <th>AddressChange_Claim_no change</th>\n      <th>AddressChange_Claim_under 6 months</th>\n      <th>NumberOfCars_2 vehicles</th>\n      <th>NumberOfCars_3 to 4</th>\n      <th>NumberOfCars_5 to 8</th>\n      <th>NumberOfCars_more than 8</th>\n      <th>BasePolicy_Collision</th>\n      <th>BasePolicy_Liability</th>\n      <th>y_pred</th>\n    </tr>\n  </thead>\n  <tbody>\n    <tr>\n      <th>0</th>\n      <td>3</td>\n      <td>3</td>\n      <td>29.000000</td>\n      <td>10</td>\n      <td>400</td>\n      <td>2</td>\n      <td>1994</td>\n      <td>0</td>\n      <td>0</td>\n      <td>0</td>\n      <td>...</td>\n      <td>0</td>\n      <td>1</td>\n      <td>0</td>\n      <td>0</td>\n      <td>0</td>\n      <td>0</td>\n      <td>0</td>\n      <td>0</td>\n      <td>0</td>\n      <td>0</td>\n    </tr>\n    <tr>\n      <th>1</th>\n      <td>4</td>\n      <td>2</td>\n      <td>46.000000</td>\n      <td>1</td>\n      <td>400</td>\n      <td>1</td>\n      <td>1996</td>\n      <td>1</td>\n      <td>0</td>\n      <td>0</td>\n      <td>...</td>\n      <td>0</td>\n      <td>1</td>\n      <td>0</td>\n      <td>0</td>\n      <td>0</td>\n      <td>0</td>\n      <td>0</td>\n      <td>0</td>\n      <td>1</td>\n      <td>0</td>\n    </tr>\n    <tr>\n      <th>2</th>\n      <td>3</td>\n      <td>4</td>\n      <td>26.000000</td>\n      <td>9</td>\n      <td>400</td>\n      <td>1</td>\n      <td>1994</td>\n      <td>0</td>\n      <td>0</td>\n      <td>0</td>\n      <td>...</td>\n      <td>0</td>\n      <td>1</td>\n      <td>0</td>\n      <td>0</td>\n      <td>0</td>\n      <td>0</td>\n      <td>0</td>\n      <td>0</td>\n      <td>1</td>\n      <td>0</td>\n    </tr>\n    <tr>\n      <th>3</th>\n      <td>3</td>\n      <td>4</td>\n      <td>28.000000</td>\n      <td>6</td>\n      <td>400</td>\n      <td>3</td>\n      <td>1995</td>\n      <td>0</td>\n      <td>1</td>\n      <td>0</td>\n      <td>...</td>\n      <td>0</td>\n      <td>1</td>\n      <td>0</td>\n      <td>0</td>\n      <td>0</td>\n      <td>0</td>\n      <td>0</td>\n      <td>0</td>\n      <td>1</td>\n      <td>0</td>\n    </tr>\n    <tr>\n      <th>4</th>\n      <td>2</td>\n      <td>4</td>\n      <td>28.000000</td>\n      <td>14</td>\n      <td>400</td>\n      <td>4</td>\n      <td>1994</td>\n      <td>0</td>\n      <td>0</td>\n      <td>0</td>\n      <td>...</td>\n      <td>0</td>\n      <td>1</td>\n      <td>0</td>\n      <td>0</td>\n      <td>0</td>\n      <td>0</td>\n      <td>0</td>\n      <td>1</td>\n      <td>0</td>\n      <td>0</td>\n    </tr>\n    <tr>\n      <th>...</th>\n      <td>...</td>\n      <td>...</td>\n      <td>...</td>\n      <td>...</td>\n      <td>...</td>\n      <td>...</td>\n      <td>...</td>\n      <td>...</td>\n      <td>...</td>\n      <td>...</td>\n      <td>...</td>\n      <td>...</td>\n      <td>...</td>\n      <td>...</td>\n      <td>...</td>\n      <td>...</td>\n      <td>...</td>\n      <td>...</td>\n      <td>...</td>\n      <td>...</td>\n      <td>...</td>\n    </tr>\n    <tr>\n      <th>20279</th>\n      <td>3</td>\n      <td>3</td>\n      <td>26.000000</td>\n      <td>1</td>\n      <td>400</td>\n      <td>1</td>\n      <td>1994</td>\n      <td>0</td>\n      <td>0</td>\n      <td>0</td>\n      <td>...</td>\n      <td>0</td>\n      <td>1</td>\n      <td>0</td>\n      <td>0</td>\n      <td>0</td>\n      <td>0</td>\n      <td>0</td>\n      <td>1</td>\n      <td>0</td>\n      <td>1</td>\n    </tr>\n    <tr>\n      <th>20280</th>\n      <td>3</td>\n      <td>1</td>\n      <td>38.881406</td>\n      <td>14</td>\n      <td>500</td>\n      <td>3</td>\n      <td>1995</td>\n      <td>0</td>\n      <td>0</td>\n      <td>0</td>\n      <td>...</td>\n      <td>0</td>\n      <td>0</td>\n      <td>0</td>\n      <td>0</td>\n      <td>0</td>\n      <td>0</td>\n      <td>0</td>\n      <td>0</td>\n      <td>0</td>\n      <td>1</td>\n    </tr>\n    <tr>\n      <th>20281</th>\n      <td>3</td>\n      <td>3</td>\n      <td>26.656250</td>\n      <td>6</td>\n      <td>400</td>\n      <td>3</td>\n      <td>1994</td>\n      <td>0</td>\n      <td>0</td>\n      <td>0</td>\n      <td>...</td>\n      <td>0</td>\n      <td>1</td>\n      <td>0</td>\n      <td>0</td>\n      <td>0</td>\n      <td>0</td>\n      <td>0</td>\n      <td>0</td>\n      <td>0</td>\n      <td>1</td>\n    </tr>\n    <tr>\n      <th>20282</th>\n      <td>1</td>\n      <td>1</td>\n      <td>39.000000</td>\n      <td>5</td>\n      <td>400</td>\n      <td>3</td>\n      <td>1996</td>\n      <td>0</td>\n      <td>0</td>\n      <td>0</td>\n      <td>...</td>\n      <td>0</td>\n      <td>1</td>\n      <td>0</td>\n      <td>0</td>\n      <td>0</td>\n      <td>0</td>\n      <td>0</td>\n      <td>0</td>\n      <td>0</td>\n      <td>1</td>\n    </tr>\n    <tr>\n      <th>20283</th>\n      <td>1</td>\n      <td>3</td>\n      <td>58.305223</td>\n      <td>4</td>\n      <td>400</td>\n      <td>1</td>\n      <td>1995</td>\n      <td>0</td>\n      <td>0</td>\n      <td>0</td>\n      <td>...</td>\n      <td>0</td>\n      <td>1</td>\n      <td>0</td>\n      <td>0</td>\n      <td>0</td>\n      <td>0</td>\n      <td>0</td>\n      <td>0</td>\n      <td>0</td>\n      <td>1</td>\n    </tr>\n  </tbody>\n</table>\n<p>20284 rows × 120 columns</p>\n</div>"
     },
     "execution_count": 192,
     "metadata": {},
     "output_type": "execute_result"
    }
   ],
   "source": [
    "combined['emsemble'] = combined.mode(axis='columns')\n",
    "e_results = X_res.copy()\n",
    "e_results['y_pred'] = combined['emsemble']\n",
    "e_results"
   ],
   "metadata": {
    "collapsed": false
   }
  },
  {
   "cell_type": "code",
   "execution_count": 193,
   "outputs": [
    {
     "name": "stdout",
     "output_type": "stream",
     "text": [
      "The confusion matrix for your predictions is:\n",
      "[[9982  160]\n",
      " [ 276 9866]] \n",
      "\n",
      "The accuracy of your model is: 0.978505225793729\n",
      "The recall of your model is: 0.9727864326562808\n",
      "The precision of your model is: 0.9840414921204867\n",
      "The F1-score of your model is: 0.9783815946053154\n",
      "The ROC-AUC-score of your model is: 0.978505225793729\n"
     ]
    }
   ],
   "source": [
    "get_results(y_res, e_results['y_pred'])"
   ],
   "metadata": {
    "collapsed": false
   }
  },
  {
   "cell_type": "code",
   "execution_count": 194,
   "outputs": [],
   "source": [
    "a = accuracy(y_res,e_results['y_pred'])\n",
    "f = f1(y_res,e_results['y_pred'])\n",
    "roc = roc_auc_score(y_res,e_results['y_pred'])\n",
    "mcc = metrics.matthews_corrcoef(y_res,e_results['y_pred'])"
   ],
   "metadata": {
    "collapsed": false
   }
  },
  {
   "cell_type": "code",
   "execution_count": 195,
   "outputs": [],
   "source": [
    "model_name1 = ['Ensemble from SMOTE models']\n",
    "e_result = [[a,f,roc,mcc]]\n",
    "\n",
    "ensemble_result = pd.DataFrame(e_result, index=model_name1, columns = ['test_accuracy','test_f1','test_roc_auc','test_matthews_corrcoef'])"
   ],
   "metadata": {
    "collapsed": false
   }
  },
  {
   "cell_type": "markdown",
   "source": [
    "## 16. STACKING"
   ],
   "metadata": {
    "collapsed": false
   }
  },
  {
   "cell_type": "markdown",
   "source": [
    "First, I need to assign our Base Learners and then Meta Learner"
   ],
   "metadata": {
    "collapsed": false
   }
  },
  {
   "cell_type": "code",
   "execution_count": 196,
   "outputs": [],
   "source": [
    "level0 = list()\n",
    "level0.append(('dts', dts))\n",
    "level0.append(('rff', rff))\n",
    "\n",
    "level1 = lgrs"
   ],
   "metadata": {
    "collapsed": false
   }
  },
  {
   "cell_type": "code",
   "execution_count": 197,
   "outputs": [],
   "source": [
    "stack = StackingClassifier(estimators=level0, final_estimator=level1, cv=5)\n",
    "def stacking(X,y):\n",
    "    stack.fit(X, y)\n",
    "    stk_results = X.copy()\n",
    "    stk_results['y_pred'] = stack.predict(X)\n",
    "    stk_results['y_real'] = y\n",
    "    stk_results['y_prob'] = stack.predict_proba(X)[:,1]\n",
    "    stk_results['y_pred'] = np.where(stk_results['y_prob'] > 0.3, 1, 0)\n",
    "    return stk_results"
   ],
   "metadata": {
    "collapsed": false
   }
  },
  {
   "cell_type": "code",
   "execution_count": 198,
   "outputs": [
    {
     "name": "stdout",
     "output_type": "stream",
     "text": [
      "The confusion matrix for your predictions is:\n",
      "[[ 9835   307]\n",
      " [    6 10136]] \n",
      "\n",
      "The accuracy of your model is: 0.9845691185170578\n",
      "The recall of your model is: 0.9994084007099191\n",
      "The precision of your model is: 0.9706023173417601\n",
      "The F1-score of your model is: 0.9847947534612581\n",
      "The ROC-AUC-score of your model is: 0.9845691185170578\n"
     ]
    },
    {
     "data": {
      "text/plain": "{'fit_time': array([ 9.82114768, 10.38172293,  9.62925863,  9.6086123 ,  9.10545921]),\n 'score_time': array([0.18606949, 0.15558243, 0.14292812, 0.17211699, 0.1952436 ]),\n 'test_accuracy': array([0.84767069, 0.97978802, 0.9842248 , 0.97880207, 0.98348126]),\n 'test_f1': array([0.82241379, 0.98017408, 0.98446602, 0.97920696, 0.98372601]),\n 'test_roc_auc': array([0.95701517, 0.99986779, 0.9998814 , 0.99842836, 0.99952295]),\n 'test_matthews_corrcoef': array([0.72517392, 0.96032353, 0.96890203, 0.95831247, 0.96740025])}"
     },
     "execution_count": 198,
     "metadata": {},
     "output_type": "execute_result"
    }
   ],
   "source": [
    "stk_results = stacking(X_res, y_res)\n",
    "get_results(y_res,stk_results['y_pred'])\n",
    "stk_score = cross_validate(stack, X_res, y_res, cv=5, scoring = ['accuracy', 'f1','roc_auc','matthews_corrcoef'])\n",
    "stk_score"
   ],
   "metadata": {
    "collapsed": false
   }
  },
  {
   "cell_type": "code",
   "execution_count": 199,
   "outputs": [],
   "source": [
    "stack_name= ['Stacking SMOTE Models']\n",
    "cv_result_stk = [stk_score]\n",
    "\n",
    "results = [{k : v.mean() for k, v in result.items()} for result in cv_result_stk]\n",
    "df_cv_result_stk = pd.DataFrame(results, index=stack_name)\n",
    "df_cv_result_stk.drop(columns=['fit_time','score_time'], inplace=True)"
   ],
   "metadata": {
    "collapsed": false
   }
  },
  {
   "cell_type": "markdown",
   "source": [
    "## 17. EVALUATING ALL MODELS INCLUDING ENSEMBLING AND STACKING"
   ],
   "metadata": {
    "collapsed": false
   }
  },
  {
   "cell_type": "code",
   "execution_count": 200,
   "outputs": [
    {
     "data": {
      "text/plain": "                                            test_accuracy   test_f1  \\\nLogistic Regression                              0.939683  0.000000   \nDecision Trees                                   0.941443  0.069921   \nRandom Forest                                    0.939683  0.000000   \nLogistic Regression Downsampled                  0.551521  0.561413   \nDecision Trees Downsampled                       0.768974  0.796481   \nRandom Forest Downsampled                        0.767611  0.804899   \nLogistic Regression SMOTE                        0.950110  0.944551   \nDecision Trees SMOTE                             0.935911  0.933496   \nRandom Forest SMOTE                              0.953561  0.950476   \nRandom Forest SMOTE with Feature Selection       0.932707  0.931942   \nEnsemble from SMOTE models                       0.978505  0.978382   \nStacking SMOTE Models                            0.954793  0.949997   \n\n                                            test_roc_auc  \\\nLogistic Regression                             0.546606   \nDecision Trees                                  0.814383   \nRandom Forest                                   0.733047   \nLogistic Regression Downsampled                 0.568708   \nDecision Trees Downsampled                      0.816098   \nRandom Forest Downsampled                       0.801750   \nLogistic Regression SMOTE                       0.983189   \nDecision Trees SMOTE                            0.941301   \nRandom Forest SMOTE                             0.990451   \nRandom Forest SMOTE with Feature Selection      0.981440   \nEnsemble from SMOTE models                      0.978505   \nStacking SMOTE Models                           0.990943   \n\n                                            test_matthews_corrcoef  \nLogistic Regression                                       0.000000  \nDecision Trees                                            0.162983  \nRandom Forest                                             0.000000  \nLogistic Regression Downsampled                           0.103168  \nDecision Trees Downsampled                                0.559649  \nRandom Forest Downsampled                                 0.580248  \nLogistic Regression SMOTE                                 0.907424  \nDecision Trees SMOTE                                      0.876028  \nRandom Forest SMOTE                                       0.911531  \nRandom Forest SMOTE with Feature Selection                0.869743  \nEnsemble from SMOTE models                                0.957073  \nStacking SMOTE Models                                     0.916022  ",
      "text/html": "<div>\n<style scoped>\n    .dataframe tbody tr th:only-of-type {\n        vertical-align: middle;\n    }\n\n    .dataframe tbody tr th {\n        vertical-align: top;\n    }\n\n    .dataframe thead th {\n        text-align: right;\n    }\n</style>\n<table border=\"1\" class=\"dataframe\">\n  <thead>\n    <tr style=\"text-align: right;\">\n      <th></th>\n      <th>test_accuracy</th>\n      <th>test_f1</th>\n      <th>test_roc_auc</th>\n      <th>test_matthews_corrcoef</th>\n    </tr>\n  </thead>\n  <tbody>\n    <tr>\n      <th>Logistic Regression</th>\n      <td>0.939683</td>\n      <td>0.000000</td>\n      <td>0.546606</td>\n      <td>0.000000</td>\n    </tr>\n    <tr>\n      <th>Decision Trees</th>\n      <td>0.941443</td>\n      <td>0.069921</td>\n      <td>0.814383</td>\n      <td>0.162983</td>\n    </tr>\n    <tr>\n      <th>Random Forest</th>\n      <td>0.939683</td>\n      <td>0.000000</td>\n      <td>0.733047</td>\n      <td>0.000000</td>\n    </tr>\n    <tr>\n      <th>Logistic Regression Downsampled</th>\n      <td>0.551521</td>\n      <td>0.561413</td>\n      <td>0.568708</td>\n      <td>0.103168</td>\n    </tr>\n    <tr>\n      <th>Decision Trees Downsampled</th>\n      <td>0.768974</td>\n      <td>0.796481</td>\n      <td>0.816098</td>\n      <td>0.559649</td>\n    </tr>\n    <tr>\n      <th>Random Forest Downsampled</th>\n      <td>0.767611</td>\n      <td>0.804899</td>\n      <td>0.801750</td>\n      <td>0.580248</td>\n    </tr>\n    <tr>\n      <th>Logistic Regression SMOTE</th>\n      <td>0.950110</td>\n      <td>0.944551</td>\n      <td>0.983189</td>\n      <td>0.907424</td>\n    </tr>\n    <tr>\n      <th>Decision Trees SMOTE</th>\n      <td>0.935911</td>\n      <td>0.933496</td>\n      <td>0.941301</td>\n      <td>0.876028</td>\n    </tr>\n    <tr>\n      <th>Random Forest SMOTE</th>\n      <td>0.953561</td>\n      <td>0.950476</td>\n      <td>0.990451</td>\n      <td>0.911531</td>\n    </tr>\n    <tr>\n      <th>Random Forest SMOTE with Feature Selection</th>\n      <td>0.932707</td>\n      <td>0.931942</td>\n      <td>0.981440</td>\n      <td>0.869743</td>\n    </tr>\n    <tr>\n      <th>Ensemble from SMOTE models</th>\n      <td>0.978505</td>\n      <td>0.978382</td>\n      <td>0.978505</td>\n      <td>0.957073</td>\n    </tr>\n    <tr>\n      <th>Stacking SMOTE Models</th>\n      <td>0.954793</td>\n      <td>0.949997</td>\n      <td>0.990943</td>\n      <td>0.916022</td>\n    </tr>\n  </tbody>\n</table>\n</div>"
     },
     "execution_count": 200,
     "metadata": {},
     "output_type": "execute_result"
    }
   ],
   "source": [
    "df_cv_result = pd.concat([df_cv_result, ensemble_result], ignore_index=False)\n",
    "df_cv_result = pd.concat([df_cv_result, df_cv_result_stk], ignore_index=False)\n",
    "df_cv_result"
   ],
   "metadata": {
    "collapsed": false
   }
  },
  {
   "cell_type": "code",
   "execution_count": 202,
   "outputs": [],
   "source": [
    "df_cv_result.to_csv('Models.csv')"
   ],
   "metadata": {
    "collapsed": false
   }
  },
  {
   "cell_type": "markdown",
   "source": [
    "## 18. EVALUATING BEST MODELS ON TEST DATA"
   ],
   "metadata": {
    "collapsed": false
   }
  },
  {
   "cell_type": "markdown",
   "source": [
    "### 18.1 APPLYING FEATURE ENGINEERING"
   ],
   "metadata": {
    "collapsed": false
   }
  },
  {
   "cell_type": "code",
   "execution_count": 104,
   "outputs": [],
   "source": [
    "X_test_eng = ohe(X_test)"
   ],
   "metadata": {
    "collapsed": false
   }
  },
  {
   "cell_type": "markdown",
   "source": [
    "18.2 LOGISTIC REGRESSION"
   ],
   "metadata": {
    "collapsed": false
   }
  },
  {
   "cell_type": "code",
   "execution_count": 105,
   "outputs": [
    {
     "name": "stdout",
     "output_type": "stream",
     "text": [
      "The confusion matrix for your predictions is:\n",
      "[[4347    7]\n",
      " [ 270    2]] \n",
      "\n",
      "The accuracy of your model is: 0.9401210549070471\n",
      "The recall of your model is: 0.007352941176470588\n",
      "The precision of your model is: 0.2222222222222222\n",
      "The F1-score of your model is: 0.014234875444839857\n",
      "The ROC-AUC-score of your model is: 0.5028726120673349\n"
     ]
    },
    {
     "name": "stderr",
     "output_type": "stream",
     "text": [
      "C:\\Users\\mites\\anaconda3\\lib\\site-packages\\sklearn\\linear_model\\_logistic.py:458: ConvergenceWarning: lbfgs failed to converge (status=1):\n",
      "STOP: TOTAL NO. of ITERATIONS REACHED LIMIT.\n",
      "\n",
      "Increase the number of iterations (max_iter) or scale the data as shown in:\n",
      "    https://scikit-learn.org/stable/modules/preprocessing.html\n",
      "Please also refer to the documentation for alternative solver options:\n",
      "    https://scikit-learn.org/stable/modules/linear_model.html#logistic-regression\n",
      "  n_iter_i = _check_optimize_result(\n"
     ]
    }
   ],
   "source": [
    "lgrs_test = lre_smote(X_test_eng,y_test)\n",
    "get_results(y_test,lgrs_test['y_pred'])"
   ],
   "metadata": {
    "collapsed": false
   }
  },
  {
   "cell_type": "markdown",
   "source": [
    "### 18.2 RANDOM FOREST"
   ],
   "metadata": {
    "collapsed": false
   }
  },
  {
   "cell_type": "code",
   "execution_count": 106,
   "outputs": [
    {
     "name": "stdout",
     "output_type": "stream",
     "text": [
      "The confusion matrix for your predictions is:\n",
      "[[4354    0]\n",
      " [ 205   67]] \n",
      "\n",
      "The accuracy of your model is: 0.9556852572416775\n",
      "The recall of your model is: 0.24632352941176472\n",
      "The precision of your model is: 1.0\n",
      "The F1-score of your model is: 0.3952802359882006\n",
      "The ROC-AUC-score of your model is: 0.6231617647058824\n"
     ]
    }
   ],
   "source": [
    "rfs_test = rff_smote(X_test_eng,y_test)\n",
    "get_results(y_test,rfs_test['y_pred'])"
   ],
   "metadata": {
    "collapsed": false
   }
  },
  {
   "cell_type": "markdown",
   "source": [
    "## 18.3 DECISION TREE'S"
   ],
   "metadata": {
    "collapsed": false
   }
  },
  {
   "cell_type": "code",
   "execution_count": 107,
   "outputs": [
    {
     "name": "stdout",
     "output_type": "stream",
     "text": [
      "The confusion matrix for your predictions is:\n",
      "[[4324   30]\n",
      " [  97  175]] \n",
      "\n",
      "The accuracy of your model is: 0.972546476437527\n",
      "The recall of your model is: 0.6433823529411765\n",
      "The precision of your model is: 0.8536585365853658\n",
      "The F1-score of your model is: 0.7337526205450735\n",
      "The ROC-AUC-score of your model is: 0.8182460685238726\n"
     ]
    }
   ],
   "source": [
    "dtf_test = dtf_smote(X_test_eng,y_test)\n",
    "get_results(y_test,dtf_test['y_pred'])"
   ],
   "metadata": {
    "collapsed": false
   }
  },
  {
   "cell_type": "markdown",
   "source": [
    "## 18.4 STACKING"
   ],
   "metadata": {
    "collapsed": false
   }
  },
  {
   "cell_type": "code",
   "execution_count": 187,
   "outputs": [
    {
     "name": "stdout",
     "output_type": "stream",
     "text": [
      "The confusion matrix for your predictions is:\n",
      "[[4354    0]\n",
      " [  51  221]] \n",
      "\n",
      "The accuracy of your model is: 0.9889753566796369\n",
      "The recall of your model is: 0.8125\n",
      "The precision of your model is: 1.0\n",
      "The F1-score of your model is: 0.896551724137931\n",
      "The ROC-AUC-score of your model is: 0.90625\n"
     ]
    }
   ],
   "source": [
    "stack_test = stacking(X_test_eng,y_test)\n",
    "get_results(y_test,stack_test['y_pred'])"
   ],
   "metadata": {
    "collapsed": false
   }
  }
 ],
 "metadata": {
  "kernelspec": {
   "display_name": "Python 3",
   "language": "python",
   "name": "python3"
  },
  "language_info": {
   "codemirror_mode": {
    "name": "ipython",
    "version": 2
   },
   "file_extension": ".py",
   "mimetype": "text/x-python",
   "name": "python",
   "nbconvert_exporter": "python",
   "pygments_lexer": "ipython2",
   "version": "2.7.6"
  }
 },
 "nbformat": 4,
 "nbformat_minor": 0
}
